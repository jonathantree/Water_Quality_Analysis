{
 "cells": [
  {
   "cell_type": "code",
   "execution_count": 2,
   "metadata": {},
   "outputs": [],
   "source": [
    "# Import Dependencies\n",
    "import pandas as pd\n",
    "import sqlite3"
   ]
  },
  {
   "cell_type": "markdown",
   "metadata": {},
   "source": [
    "## Connect to Database, query data with a join."
   ]
  },
  {
   "cell_type": "code",
   "execution_count": 4,
   "metadata": {},
   "outputs": [],
   "source": [
    "# Connect to SQLite dB\n",
    "con = sqlite3.connect('/Users/jennadodge/uofo-virt-data-pt-12-2021-u-b/Water_Quality_Analysis/Database/database.sqlite3')\n",
    "\n",
    "# Create a cursor object\n",
    "cur = con.cursor()"
   ]
  },
  {
   "cell_type": "code",
   "execution_count": 6,
   "metadata": {},
   "outputs": [
    {
     "data": {
      "text/html": [
       "<div>\n",
       "<style scoped>\n",
       "    .dataframe tbody tr th:only-of-type {\n",
       "        vertical-align: middle;\n",
       "    }\n",
       "\n",
       "    .dataframe tbody tr th {\n",
       "        vertical-align: top;\n",
       "    }\n",
       "\n",
       "    .dataframe thead th {\n",
       "        text-align: right;\n",
       "    }\n",
       "</style>\n",
       "<table border=\"1\" class=\"dataframe\">\n",
       "  <thead>\n",
       "    <tr style=\"text-align: right;\">\n",
       "      <th></th>\n",
       "      <th>county_FIPS</th>\n",
       "      <th>Geographic_Area_Name</th>\n",
       "      <th>County</th>\n",
       "      <th>GEOID</th>\n",
       "      <th>Total_Population</th>\n",
       "      <th>White</th>\n",
       "      <th>%_White</th>\n",
       "      <th>Black</th>\n",
       "      <th>%_Black</th>\n",
       "      <th>Native</th>\n",
       "      <th>...</th>\n",
       "      <th>Simpson_Ethnic_DI</th>\n",
       "      <th>Shannon_Race_DI</th>\n",
       "      <th>Shannon_Ethnic_DI</th>\n",
       "      <th>Gini_Index</th>\n",
       "      <th>county_FIPS</th>\n",
       "      <th>Num_Contaminants</th>\n",
       "      <th>Sum_ContaminantFactor</th>\n",
       "      <th>Min_Contaminant_Factor</th>\n",
       "      <th>Max_Contaminant_Factor</th>\n",
       "      <th>Avg_Contaminant_Factor</th>\n",
       "    </tr>\n",
       "  </thead>\n",
       "  <tbody>\n",
       "    <tr>\n",
       "      <th>0</th>\n",
       "      <td>1001</td>\n",
       "      <td>Autauga County, Alabama</td>\n",
       "      <td>Autauga County</td>\n",
       "      <td>0500000US01001</td>\n",
       "      <td>58805</td>\n",
       "      <td>42160</td>\n",
       "      <td>0.716946</td>\n",
       "      <td>11446</td>\n",
       "      <td>0.194643</td>\n",
       "      <td>218</td>\n",
       "      <td>...</td>\n",
       "      <td>0.069410</td>\n",
       "      <td>0.986667</td>\n",
       "      <td>0.155018</td>\n",
       "      <td>0.4552</td>\n",
       "      <td>1001</td>\n",
       "      <td>6</td>\n",
       "      <td>551</td>\n",
       "      <td>27</td>\n",
       "      <td>148</td>\n",
       "      <td>91.83</td>\n",
       "    </tr>\n",
       "    <tr>\n",
       "      <th>1</th>\n",
       "      <td>1003</td>\n",
       "      <td>Baldwin County, Alabama</td>\n",
       "      <td>Baldwin County</td>\n",
       "      <td>0500000US01003</td>\n",
       "      <td>231767</td>\n",
       "      <td>189399</td>\n",
       "      <td>0.817196</td>\n",
       "      <td>18218</td>\n",
       "      <td>0.078605</td>\n",
       "      <td>1583</td>\n",
       "      <td>...</td>\n",
       "      <td>0.103480</td>\n",
       "      <td>0.868861</td>\n",
       "      <td>0.212231</td>\n",
       "      <td>0.4566</td>\n",
       "      <td>1003</td>\n",
       "      <td>9</td>\n",
       "      <td>1625</td>\n",
       "      <td>28</td>\n",
       "      <td>580</td>\n",
       "      <td>180.56</td>\n",
       "    </tr>\n",
       "    <tr>\n",
       "      <th>2</th>\n",
       "      <td>1005</td>\n",
       "      <td>Barbour County, Alabama</td>\n",
       "      <td>Barbour County</td>\n",
       "      <td>0500000US01005</td>\n",
       "      <td>25223</td>\n",
       "      <td>11317</td>\n",
       "      <td>0.448678</td>\n",
       "      <td>11934</td>\n",
       "      <td>0.473140</td>\n",
       "      <td>117</td>\n",
       "      <td>...</td>\n",
       "      <td>0.112569</td>\n",
       "      <td>1.164057</td>\n",
       "      <td>0.226599</td>\n",
       "      <td>0.5047</td>\n",
       "      <td>1005</td>\n",
       "      <td>3</td>\n",
       "      <td>1414</td>\n",
       "      <td>138</td>\n",
       "      <td>1132</td>\n",
       "      <td>471.33</td>\n",
       "    </tr>\n",
       "    <tr>\n",
       "      <th>3</th>\n",
       "      <td>1007</td>\n",
       "      <td>Bibb County, Alabama</td>\n",
       "      <td>Bibb County</td>\n",
       "      <td>0500000US01007</td>\n",
       "      <td>22293</td>\n",
       "      <td>16555</td>\n",
       "      <td>0.742610</td>\n",
       "      <td>4414</td>\n",
       "      <td>0.197999</td>\n",
       "      <td>61</td>\n",
       "      <td>...</td>\n",
       "      <td>0.064188</td>\n",
       "      <td>0.879973</td>\n",
       "      <td>0.145676</td>\n",
       "      <td>0.4500</td>\n",
       "      <td>1007</td>\n",
       "      <td>9</td>\n",
       "      <td>2538</td>\n",
       "      <td>17</td>\n",
       "      <td>1895</td>\n",
       "      <td>282.00</td>\n",
       "    </tr>\n",
       "    <tr>\n",
       "      <th>4</th>\n",
       "      <td>1009</td>\n",
       "      <td>Blount County, Alabama</td>\n",
       "      <td>Blount County</td>\n",
       "      <td>0500000US01009</td>\n",
       "      <td>59134</td>\n",
       "      <td>50663</td>\n",
       "      <td>0.856749</td>\n",
       "      <td>846</td>\n",
       "      <td>0.014306</td>\n",
       "      <td>338</td>\n",
       "      <td>...</td>\n",
       "      <td>0.176138</td>\n",
       "      <td>0.808008</td>\n",
       "      <td>0.319759</td>\n",
       "      <td>0.4685</td>\n",
       "      <td>1009</td>\n",
       "      <td>30</td>\n",
       "      <td>37191</td>\n",
       "      <td>18</td>\n",
       "      <td>5219</td>\n",
       "      <td>1239.70</td>\n",
       "    </tr>\n",
       "  </tbody>\n",
       "</table>\n",
       "<p>5 rows × 36 columns</p>\n",
       "</div>"
      ],
      "text/plain": [
       "   county_FIPS     Geographic_Area_Name          County           GEOID  \\\n",
       "0         1001  Autauga County, Alabama  Autauga County  0500000US01001   \n",
       "1         1003  Baldwin County, Alabama  Baldwin County  0500000US01003   \n",
       "2         1005  Barbour County, Alabama  Barbour County  0500000US01005   \n",
       "3         1007     Bibb County, Alabama     Bibb County  0500000US01007   \n",
       "4         1009   Blount County, Alabama   Blount County  0500000US01009   \n",
       "\n",
       "   Total_Population   White   %_White  Black   %_Black  Native  ...  \\\n",
       "0             58805   42160  0.716946  11446  0.194643     218  ...   \n",
       "1            231767  189399  0.817196  18218  0.078605    1583  ...   \n",
       "2             25223   11317  0.448678  11934  0.473140     117  ...   \n",
       "3             22293   16555  0.742610   4414  0.197999      61  ...   \n",
       "4             59134   50663  0.856749    846  0.014306     338  ...   \n",
       "\n",
       "   Simpson_Ethnic_DI  Shannon_Race_DI  Shannon_Ethnic_DI  Gini_Index  \\\n",
       "0           0.069410         0.986667           0.155018      0.4552   \n",
       "1           0.103480         0.868861           0.212231      0.4566   \n",
       "2           0.112569         1.164057           0.226599      0.5047   \n",
       "3           0.064188         0.879973           0.145676      0.4500   \n",
       "4           0.176138         0.808008           0.319759      0.4685   \n",
       "\n",
       "   county_FIPS  Num_Contaminants  Sum_ContaminantFactor  \\\n",
       "0         1001                 6                    551   \n",
       "1         1003                 9                   1625   \n",
       "2         1005                 3                   1414   \n",
       "3         1007                 9                   2538   \n",
       "4         1009                30                  37191   \n",
       "\n",
       "   Min_Contaminant_Factor  Max_Contaminant_Factor  Avg_Contaminant_Factor  \n",
       "0                      27                     148                   91.83  \n",
       "1                      28                     580                  180.56  \n",
       "2                     138                    1132                  471.33  \n",
       "3                      17                    1895                  282.00  \n",
       "4                      18                    5219                 1239.70  \n",
       "\n",
       "[5 rows x 36 columns]"
      ]
     },
     "execution_count": 6,
     "metadata": {},
     "output_type": "execute_result"
    }
   ],
   "source": [
    "# Retrieve data\n",
    "\n",
    "df = pd.read_sql_query(\"SELECT * FROM Census_Data INNER JOIN Contaminant_Summary on Census_Data.county_FIPS = Contaminant_Summary.county_FIPS\",con)\n",
    "df.head()"
   ]
  },
  {
   "cell_type": "code",
   "execution_count": 7,
   "metadata": {},
   "outputs": [
    {
     "data": {
      "text/plain": [
       "(443, 36)"
      ]
     },
     "execution_count": 7,
     "metadata": {},
     "output_type": "execute_result"
    }
   ],
   "source": [
    "df.shape"
   ]
  },
  {
   "cell_type": "code",
   "execution_count": 8,
   "metadata": {},
   "outputs": [],
   "source": [
    "con.close()"
   ]
  },
  {
   "cell_type": "markdown",
   "metadata": {},
   "source": [
    "## Data Pre-processing for ML"
   ]
  },
  {
   "cell_type": "code",
   "execution_count": 11,
   "metadata": {},
   "outputs": [
    {
     "data": {
      "text/plain": [
       "Index(['county_FIPS', 'Geographic_Area_Name', 'County', 'GEOID',\n",
       "       'Total_Population', 'White', '%_White', 'Black', '%_Black', 'Native',\n",
       "       '%_Native', 'Asian', '%_Asian', 'Pacific_Islander',\n",
       "       '%_Pacific_Islander', 'Other', '%_Other', '2+_Races', '%_2+_Races',\n",
       "       'Non-White', '%_Non-White', 'Hispanic', '%_Hispanic', 'Not_Hispanic',\n",
       "       '%_Not_Hispanic', 'Simpson_Race_DI', 'Simpson_Ethnic_DI',\n",
       "       'Shannon_Race_DI', 'Shannon_Ethnic_DI', 'Gini_Index', 'county_FIPS',\n",
       "       'Num_Contaminants', 'Sum_ContaminantFactor', 'Min_Contaminant_Factor',\n",
       "       'Max_Contaminant_Factor', 'Avg_Contaminant_Factor'],\n",
       "      dtype='object')"
      ]
     },
     "execution_count": 11,
     "metadata": {},
     "output_type": "execute_result"
    }
   ],
   "source": [
    "df.columns"
   ]
  },
  {
   "cell_type": "code",
   "execution_count": null,
   "metadata": {},
   "outputs": [],
   "source": []
  }
 ],
 "metadata": {
  "interpreter": {
   "hash": "86969af4118fd2beaee010b14a97d3c8fe7dc31ff55f1528eea7eaecb45368d6"
  },
  "kernelspec": {
   "display_name": "Python 3.7.7 ('mlenv')",
   "language": "python",
   "name": "python3"
  },
  "language_info": {
   "codemirror_mode": {
    "name": "ipython",
    "version": 3
   },
   "file_extension": ".py",
   "mimetype": "text/x-python",
   "name": "python",
   "nbconvert_exporter": "python",
   "pygments_lexer": "ipython3",
   "version": "3.7.7"
  },
  "orig_nbformat": 4
 },
 "nbformat": 4,
 "nbformat_minor": 2
}
