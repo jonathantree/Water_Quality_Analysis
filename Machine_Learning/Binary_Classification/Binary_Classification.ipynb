{
 "cells": [
  {
   "cell_type": "code",
   "execution_count": 3,
   "id": "9d31694e",
   "metadata": {},
   "outputs": [],
   "source": [
    "import sqlite3\n",
    "import warnings\n",
    "warnings.filterwarnings('ignore')\n",
    "import numpy as np\n",
    "import pandas as pd\n",
    "from pathlib import Path\n",
    "from collections import Counter\n",
    "from sklearn.metrics import balanced_accuracy_score\n",
    "from sklearn.metrics import confusion_matrix\n",
    "from imblearn.metrics import classification_report_imbalanced\n",
    "from sklearn.model_selection import train_test_split\n"
   ]
  },
  {
   "cell_type": "code",
   "execution_count": 4,
   "id": "bac1d871",
   "metadata": {},
   "outputs": [],
   "source": [
    "db = r'C:/Users/jonat/UO_Bootcamp/Group_project/git_Water_Quality_Analysis/Water_Quality_Analysis/Database/database.sqlite3'\n",
    "# Connect to SQLite database\n",
    "conn = sqlite3.connect(db)\n",
    "  \n",
    "# Create cursor object\n",
    "cursor = conn.cursor()\n",
    "\n",
    "#Read in the Data from the DB\n",
    "df = pd.read_sql_query(\"SELECT * FROM Census_Data INNER JOIN Contaminant_Summary on Census_Data.county_FIPS = Contaminant_Summary.county_FIPS\",conn)"
   ]
  },
  {
   "cell_type": "code",
   "execution_count": 5,
   "id": "532d8d28",
   "metadata": {},
   "outputs": [],
   "source": [
    "#Get the target binary data from the .csv file that was generated in the Priority_algo_dev.ipynb\n",
    "target = pd.read_csv('data_with_binary_priority.csv', usecols=['Priority'])"
   ]
  },
  {
   "cell_type": "code",
   "execution_count": 6,
   "id": "7b48e6db",
   "metadata": {},
   "outputs": [
    {
     "data": {
      "text/plain": [
       "0    616\n",
       "1    266\n",
       "Name: Priority, dtype: int64"
      ]
     },
     "execution_count": 6,
     "metadata": {},
     "output_type": "execute_result"
    }
   ],
   "source": [
    "#The problem is the imbalanced data and this will need to be addressed\n",
    "target.Priority.value_counts()"
   ]
  },
  {
   "cell_type": "code",
   "execution_count": 7,
   "id": "00eca27f",
   "metadata": {},
   "outputs": [
    {
     "data": {
      "text/html": [
       "<div>\n",
       "<style scoped>\n",
       "    .dataframe tbody tr th:only-of-type {\n",
       "        vertical-align: middle;\n",
       "    }\n",
       "\n",
       "    .dataframe tbody tr th {\n",
       "        vertical-align: top;\n",
       "    }\n",
       "\n",
       "    .dataframe thead th {\n",
       "        text-align: right;\n",
       "    }\n",
       "</style>\n",
       "<table border=\"1\" class=\"dataframe\">\n",
       "  <thead>\n",
       "    <tr style=\"text-align: right;\">\n",
       "      <th></th>\n",
       "      <th>county_FIPS</th>\n",
       "      <th>Geographic_Area_Name</th>\n",
       "      <th>County</th>\n",
       "      <th>GEOID</th>\n",
       "      <th>Total_Population</th>\n",
       "      <th>White</th>\n",
       "      <th>Black</th>\n",
       "      <th>Native</th>\n",
       "      <th>Asian</th>\n",
       "      <th>Pacific_Islander</th>\n",
       "      <th>...</th>\n",
       "      <th>Shannon_Race_DI</th>\n",
       "      <th>Shannon_Ethnic_DI</th>\n",
       "      <th>Gini_Index</th>\n",
       "      <th>County_FIPS</th>\n",
       "      <th>Num_Contaminants</th>\n",
       "      <th>Sum_Population_Served</th>\n",
       "      <th>Sum_ContaminantFactor</th>\n",
       "      <th>Min_Contaminant_Factor</th>\n",
       "      <th>Max_Contaminant_Factor</th>\n",
       "      <th>Avg_Contaminant_Factor</th>\n",
       "    </tr>\n",
       "  </thead>\n",
       "  <tbody>\n",
       "    <tr>\n",
       "      <th>559</th>\n",
       "      <td>26133</td>\n",
       "      <td>Osceola County, Michigan</td>\n",
       "      <td>Osceola County</td>\n",
       "      <td>0500000US26133</td>\n",
       "      <td>22891</td>\n",
       "      <td>21414</td>\n",
       "      <td>166</td>\n",
       "      <td>151</td>\n",
       "      <td>35</td>\n",
       "      <td>7</td>\n",
       "      <td>...</td>\n",
       "      <td>0.378641</td>\n",
       "      <td>0.088039</td>\n",
       "      <td>0.4086</td>\n",
       "      <td>26133</td>\n",
       "      <td>3</td>\n",
       "      <td>5719</td>\n",
       "      <td>1507</td>\n",
       "      <td>266</td>\n",
       "      <td>856</td>\n",
       "      <td>502.33</td>\n",
       "    </tr>\n",
       "    <tr>\n",
       "      <th>500</th>\n",
       "      <td>26007</td>\n",
       "      <td>Alpena County, Michigan</td>\n",
       "      <td>Alpena County</td>\n",
       "      <td>0500000US26007</td>\n",
       "      <td>28907</td>\n",
       "      <td>27177</td>\n",
       "      <td>100</td>\n",
       "      <td>123</td>\n",
       "      <td>120</td>\n",
       "      <td>13</td>\n",
       "      <td>...</td>\n",
       "      <td>0.348201</td>\n",
       "      <td>0.075467</td>\n",
       "      <td>0.4332</td>\n",
       "      <td>26007</td>\n",
       "      <td>3</td>\n",
       "      <td>15930</td>\n",
       "      <td>3315</td>\n",
       "      <td>1109</td>\n",
       "      <td>804</td>\n",
       "      <td>1105.00</td>\n",
       "    </tr>\n",
       "    <tr>\n",
       "      <th>663</th>\n",
       "      <td>29221</td>\n",
       "      <td>Washington County, Missouri</td>\n",
       "      <td>Washington County</td>\n",
       "      <td>0500000US29221</td>\n",
       "      <td>23514</td>\n",
       "      <td>21465</td>\n",
       "      <td>611</td>\n",
       "      <td>80</td>\n",
       "      <td>41</td>\n",
       "      <td>2</td>\n",
       "      <td>...</td>\n",
       "      <td>0.431321</td>\n",
       "      <td>0.054405</td>\n",
       "      <td>0.4966</td>\n",
       "      <td>29221</td>\n",
       "      <td>8</td>\n",
       "      <td>6463</td>\n",
       "      <td>1762</td>\n",
       "      <td>0</td>\n",
       "      <td>5</td>\n",
       "      <td>220.25</td>\n",
       "    </tr>\n",
       "    <tr>\n",
       "      <th>527</th>\n",
       "      <td>26065</td>\n",
       "      <td>Ingham County, Michigan</td>\n",
       "      <td>Ingham County</td>\n",
       "      <td>0500000US26065</td>\n",
       "      <td>284900</td>\n",
       "      <td>198552</td>\n",
       "      <td>35581</td>\n",
       "      <td>1536</td>\n",
       "      <td>16523</td>\n",
       "      <td>125</td>\n",
       "      <td>...</td>\n",
       "      <td>1.231899</td>\n",
       "      <td>0.292525</td>\n",
       "      <td>0.4737</td>\n",
       "      <td>26065</td>\n",
       "      <td>5</td>\n",
       "      <td>44333</td>\n",
       "      <td>1503</td>\n",
       "      <td>148</td>\n",
       "      <td>808</td>\n",
       "      <td>300.60</td>\n",
       "    </tr>\n",
       "    <tr>\n",
       "      <th>275</th>\n",
       "      <td>55087</td>\n",
       "      <td>Outagamie County, Wisconsin</td>\n",
       "      <td>Outagamie County</td>\n",
       "      <td>0500000US55087</td>\n",
       "      <td>190705</td>\n",
       "      <td>164009</td>\n",
       "      <td>3054</td>\n",
       "      <td>3144</td>\n",
       "      <td>6619</td>\n",
       "      <td>113</td>\n",
       "      <td>...</td>\n",
       "      <td>0.765223</td>\n",
       "      <td>0.196778</td>\n",
       "      <td>0.4149</td>\n",
       "      <td>55087</td>\n",
       "      <td>7</td>\n",
       "      <td>134452</td>\n",
       "      <td>5730</td>\n",
       "      <td>372</td>\n",
       "      <td>1541</td>\n",
       "      <td>818.57</td>\n",
       "    </tr>\n",
       "    <tr>\n",
       "      <th>422</th>\n",
       "      <td>17155</td>\n",
       "      <td>Putnam County, Illinois</td>\n",
       "      <td>Putnam County</td>\n",
       "      <td>0500000US17155</td>\n",
       "      <td>5637</td>\n",
       "      <td>5175</td>\n",
       "      <td>27</td>\n",
       "      <td>14</td>\n",
       "      <td>19</td>\n",
       "      <td>5</td>\n",
       "      <td>...</td>\n",
       "      <td>0.550279</td>\n",
       "      <td>0.231715</td>\n",
       "      <td>0.3815</td>\n",
       "      <td>17155</td>\n",
       "      <td>5</td>\n",
       "      <td>2910</td>\n",
       "      <td>3754</td>\n",
       "      <td>110</td>\n",
       "      <td>444</td>\n",
       "      <td>750.80</td>\n",
       "    </tr>\n",
       "    <tr>\n",
       "      <th>38</th>\n",
       "      <td>38101</td>\n",
       "      <td>Ward County, North Dakota</td>\n",
       "      <td>Ward County</td>\n",
       "      <td>0500000US38101</td>\n",
       "      <td>69919</td>\n",
       "      <td>57038</td>\n",
       "      <td>3025</td>\n",
       "      <td>1707</td>\n",
       "      <td>1121</td>\n",
       "      <td>134</td>\n",
       "      <td>...</td>\n",
       "      <td>0.927601</td>\n",
       "      <td>0.242232</td>\n",
       "      <td>0.4314</td>\n",
       "      <td>38101</td>\n",
       "      <td>7</td>\n",
       "      <td>3248</td>\n",
       "      <td>7497</td>\n",
       "      <td>557</td>\n",
       "      <td>1978</td>\n",
       "      <td>1071.00</td>\n",
       "    </tr>\n",
       "    <tr>\n",
       "      <th>730</th>\n",
       "      <td>41039</td>\n",
       "      <td>Lane County, Oregon</td>\n",
       "      <td>Lane County</td>\n",
       "      <td>0500000US41039</td>\n",
       "      <td>382971</td>\n",
       "      <td>309194</td>\n",
       "      <td>4661</td>\n",
       "      <td>4675</td>\n",
       "      <td>9621</td>\n",
       "      <td>1016</td>\n",
       "      <td>...</td>\n",
       "      <td>0.975918</td>\n",
       "      <td>0.322106</td>\n",
       "      <td>0.4620</td>\n",
       "      <td>41039</td>\n",
       "      <td>3</td>\n",
       "      <td>12901</td>\n",
       "      <td>468</td>\n",
       "      <td>202</td>\n",
       "      <td>46</td>\n",
       "      <td>156.00</td>\n",
       "    </tr>\n",
       "    <tr>\n",
       "      <th>584</th>\n",
       "      <td>29015</td>\n",
       "      <td>Benton County, Missouri</td>\n",
       "      <td>Benton County</td>\n",
       "      <td>0500000US29015</td>\n",
       "      <td>19394</td>\n",
       "      <td>18031</td>\n",
       "      <td>77</td>\n",
       "      <td>109</td>\n",
       "      <td>58</td>\n",
       "      <td>3</td>\n",
       "      <td>...</td>\n",
       "      <td>0.386758</td>\n",
       "      <td>0.081969</td>\n",
       "      <td>0.4961</td>\n",
       "      <td>29015</td>\n",
       "      <td>21</td>\n",
       "      <td>4070</td>\n",
       "      <td>419</td>\n",
       "      <td>0</td>\n",
       "      <td>97</td>\n",
       "      <td>19.95</td>\n",
       "    </tr>\n",
       "    <tr>\n",
       "      <th>462</th>\n",
       "      <td>20073</td>\n",
       "      <td>Greenwood County, Kansas</td>\n",
       "      <td>Greenwood County</td>\n",
       "      <td>0500000US20073</td>\n",
       "      <td>6016</td>\n",
       "      <td>5494</td>\n",
       "      <td>29</td>\n",
       "      <td>36</td>\n",
       "      <td>37</td>\n",
       "      <td>2</td>\n",
       "      <td>...</td>\n",
       "      <td>0.501460</td>\n",
       "      <td>0.148080</td>\n",
       "      <td>0.4675</td>\n",
       "      <td>20073</td>\n",
       "      <td>7</td>\n",
       "      <td>3955</td>\n",
       "      <td>10918</td>\n",
       "      <td>1386</td>\n",
       "      <td>918</td>\n",
       "      <td>1559.71</td>\n",
       "    </tr>\n",
       "    <tr>\n",
       "      <th>232</th>\n",
       "      <td>50007</td>\n",
       "      <td>Chittenden County, Vermont</td>\n",
       "      <td>Chittenden County</td>\n",
       "      <td>0500000US50007</td>\n",
       "      <td>168323</td>\n",
       "      <td>144237</td>\n",
       "      <td>4911</td>\n",
       "      <td>385</td>\n",
       "      <td>7244</td>\n",
       "      <td>54</td>\n",
       "      <td>...</td>\n",
       "      <td>0.698324</td>\n",
       "      <td>0.128519</td>\n",
       "      <td>0.4476</td>\n",
       "      <td>50007</td>\n",
       "      <td>4</td>\n",
       "      <td>136627</td>\n",
       "      <td>4345</td>\n",
       "      <td>714</td>\n",
       "      <td>1795</td>\n",
       "      <td>1086.25</td>\n",
       "    </tr>\n",
       "    <tr>\n",
       "      <th>839</th>\n",
       "      <td>54081</td>\n",
       "      <td>Raleigh County, West Virginia</td>\n",
       "      <td>Raleigh County</td>\n",
       "      <td>0500000US54081</td>\n",
       "      <td>74591</td>\n",
       "      <td>64025</td>\n",
       "      <td>5848</td>\n",
       "      <td>137</td>\n",
       "      <td>832</td>\n",
       "      <td>17</td>\n",
       "      <td>...</td>\n",
       "      <td>0.627998</td>\n",
       "      <td>0.082230</td>\n",
       "      <td>0.4694</td>\n",
       "      <td>54081</td>\n",
       "      <td>6</td>\n",
       "      <td>60193</td>\n",
       "      <td>22485</td>\n",
       "      <td>1306</td>\n",
       "      <td>1800</td>\n",
       "      <td>3747.50</td>\n",
       "    </tr>\n",
       "    <tr>\n",
       "      <th>570</th>\n",
       "      <td>26155</td>\n",
       "      <td>Shiawassee County, Michigan</td>\n",
       "      <td>Shiawassee County</td>\n",
       "      <td>0500000US26155</td>\n",
       "      <td>68094</td>\n",
       "      <td>63132</td>\n",
       "      <td>326</td>\n",
       "      <td>264</td>\n",
       "      <td>298</td>\n",
       "      <td>23</td>\n",
       "      <td>...</td>\n",
       "      <td>0.438506</td>\n",
       "      <td>0.133780</td>\n",
       "      <td>0.4192</td>\n",
       "      <td>26155</td>\n",
       "      <td>16</td>\n",
       "      <td>12228</td>\n",
       "      <td>10273</td>\n",
       "      <td>1218</td>\n",
       "      <td>957</td>\n",
       "      <td>642.06</td>\n",
       "    </tr>\n",
       "    <tr>\n",
       "      <th>860</th>\n",
       "      <td>6047</td>\n",
       "      <td>Merced County, California</td>\n",
       "      <td>Merced County</td>\n",
       "      <td>0500000US06047</td>\n",
       "      <td>281202</td>\n",
       "      <td>104534</td>\n",
       "      <td>9159</td>\n",
       "      <td>7519</td>\n",
       "      <td>20716</td>\n",
       "      <td>808</td>\n",
       "      <td>...</td>\n",
       "      <td>1.752052</td>\n",
       "      <td>0.664908</td>\n",
       "      <td>0.4608</td>\n",
       "      <td>6047</td>\n",
       "      <td>3</td>\n",
       "      <td>1604</td>\n",
       "      <td>4808</td>\n",
       "      <td>1192</td>\n",
       "      <td>1886</td>\n",
       "      <td>1602.67</td>\n",
       "    </tr>\n",
       "    <tr>\n",
       "      <th>792</th>\n",
       "      <td>42097</td>\n",
       "      <td>Northumberland County, Pennsylvania</td>\n",
       "      <td>Northumberland County</td>\n",
       "      <td>0500000US42097</td>\n",
       "      <td>91647</td>\n",
       "      <td>82821</td>\n",
       "      <td>2580</td>\n",
       "      <td>170</td>\n",
       "      <td>458</td>\n",
       "      <td>25</td>\n",
       "      <td>...</td>\n",
       "      <td>0.582091</td>\n",
       "      <td>0.184416</td>\n",
       "      <td>0.4314</td>\n",
       "      <td>42097</td>\n",
       "      <td>15</td>\n",
       "      <td>73675</td>\n",
       "      <td>11182</td>\n",
       "      <td>0</td>\n",
       "      <td>90</td>\n",
       "      <td>745.47</td>\n",
       "    </tr>\n",
       "    <tr>\n",
       "      <th>861</th>\n",
       "      <td>6049</td>\n",
       "      <td>Modoc County, California</td>\n",
       "      <td>Modoc County</td>\n",
       "      <td>0500000US06049</td>\n",
       "      <td>8700</td>\n",
       "      <td>6772</td>\n",
       "      <td>68</td>\n",
       "      <td>447</td>\n",
       "      <td>62</td>\n",
       "      <td>14</td>\n",
       "      <td>...</td>\n",
       "      <td>1.105380</td>\n",
       "      <td>0.413427</td>\n",
       "      <td>0.3965</td>\n",
       "      <td>6049</td>\n",
       "      <td>4</td>\n",
       "      <td>4082</td>\n",
       "      <td>5845</td>\n",
       "      <td>102</td>\n",
       "      <td>2400</td>\n",
       "      <td>1461.25</td>\n",
       "    </tr>\n",
       "    <tr>\n",
       "      <th>726</th>\n",
       "      <td>41031</td>\n",
       "      <td>Jefferson County, Oregon</td>\n",
       "      <td>Jefferson County</td>\n",
       "      <td>0500000US41031</td>\n",
       "      <td>24502</td>\n",
       "      <td>15992</td>\n",
       "      <td>146</td>\n",
       "      <td>3324</td>\n",
       "      <td>150</td>\n",
       "      <td>25</td>\n",
       "      <td>...</td>\n",
       "      <td>1.401538</td>\n",
       "      <td>0.506097</td>\n",
       "      <td>0.4619</td>\n",
       "      <td>41031</td>\n",
       "      <td>3</td>\n",
       "      <td>18540</td>\n",
       "      <td>3028</td>\n",
       "      <td>1815</td>\n",
       "      <td>708</td>\n",
       "      <td>1009.33</td>\n",
       "    </tr>\n",
       "    <tr>\n",
       "      <th>499</th>\n",
       "      <td>26005</td>\n",
       "      <td>Allegan County, Michigan</td>\n",
       "      <td>Allegan County</td>\n",
       "      <td>0500000US26005</td>\n",
       "      <td>120502</td>\n",
       "      <td>105564</td>\n",
       "      <td>1585</td>\n",
       "      <td>800</td>\n",
       "      <td>875</td>\n",
       "      <td>23</td>\n",
       "      <td>...</td>\n",
       "      <td>0.731340</td>\n",
       "      <td>0.273649</td>\n",
       "      <td>0.4069</td>\n",
       "      <td>26005</td>\n",
       "      <td>9</td>\n",
       "      <td>103158</td>\n",
       "      <td>10796</td>\n",
       "      <td>112</td>\n",
       "      <td>296</td>\n",
       "      <td>1199.56</td>\n",
       "    </tr>\n",
       "    <tr>\n",
       "      <th>403</th>\n",
       "      <td>17111</td>\n",
       "      <td>McHenry County, Illinois</td>\n",
       "      <td>McHenry County</td>\n",
       "      <td>0500000US17111</td>\n",
       "      <td>310229</td>\n",
       "      <td>247894</td>\n",
       "      <td>4285</td>\n",
       "      <td>1535</td>\n",
       "      <td>8804</td>\n",
       "      <td>62</td>\n",
       "      <td>...</td>\n",
       "      <td>1.044129</td>\n",
       "      <td>0.423662</td>\n",
       "      <td>0.4076</td>\n",
       "      <td>17111</td>\n",
       "      <td>21</td>\n",
       "      <td>287367</td>\n",
       "      <td>14596</td>\n",
       "      <td>1591</td>\n",
       "      <td>997</td>\n",
       "      <td>695.05</td>\n",
       "    </tr>\n",
       "    <tr>\n",
       "      <th>757</th>\n",
       "      <td>42027</td>\n",
       "      <td>Centre County, Pennsylvania</td>\n",
       "      <td>Centre County</td>\n",
       "      <td>0500000US42027</td>\n",
       "      <td>158172</td>\n",
       "      <td>131212</td>\n",
       "      <td>5477</td>\n",
       "      <td>203</td>\n",
       "      <td>11405</td>\n",
       "      <td>46</td>\n",
       "      <td>...</td>\n",
       "      <td>0.795779</td>\n",
       "      <td>0.154118</td>\n",
       "      <td>0.4714</td>\n",
       "      <td>42027</td>\n",
       "      <td>27</td>\n",
       "      <td>143387</td>\n",
       "      <td>4772</td>\n",
       "      <td>0</td>\n",
       "      <td>92</td>\n",
       "      <td>176.74</td>\n",
       "    </tr>\n",
       "  </tbody>\n",
       "</table>\n",
       "<p>20 rows × 37 columns</p>\n",
       "</div>"
      ],
      "text/plain": [
       "     county_FIPS                 Geographic_Area_Name                 County  \\\n",
       "559        26133             Osceola County, Michigan         Osceola County   \n",
       "500        26007              Alpena County, Michigan          Alpena County   \n",
       "663        29221          Washington County, Missouri      Washington County   \n",
       "527        26065              Ingham County, Michigan          Ingham County   \n",
       "275        55087          Outagamie County, Wisconsin       Outagamie County   \n",
       "422        17155              Putnam County, Illinois          Putnam County   \n",
       "38         38101            Ward County, North Dakota            Ward County   \n",
       "730        41039                  Lane County, Oregon            Lane County   \n",
       "584        29015              Benton County, Missouri          Benton County   \n",
       "462        20073             Greenwood County, Kansas       Greenwood County   \n",
       "232        50007           Chittenden County, Vermont      Chittenden County   \n",
       "839        54081        Raleigh County, West Virginia         Raleigh County   \n",
       "570        26155          Shiawassee County, Michigan      Shiawassee County   \n",
       "860         6047            Merced County, California          Merced County   \n",
       "792        42097  Northumberland County, Pennsylvania  Northumberland County   \n",
       "861         6049             Modoc County, California           Modoc County   \n",
       "726        41031             Jefferson County, Oregon       Jefferson County   \n",
       "499        26005             Allegan County, Michigan         Allegan County   \n",
       "403        17111             McHenry County, Illinois         McHenry County   \n",
       "757        42027          Centre County, Pennsylvania          Centre County   \n",
       "\n",
       "              GEOID  Total_Population   White  Black  Native  Asian  \\\n",
       "559  0500000US26133             22891   21414    166     151     35   \n",
       "500  0500000US26007             28907   27177    100     123    120   \n",
       "663  0500000US29221             23514   21465    611      80     41   \n",
       "527  0500000US26065            284900  198552  35581    1536  16523   \n",
       "275  0500000US55087            190705  164009   3054    3144   6619   \n",
       "422  0500000US17155              5637    5175     27      14     19   \n",
       "38   0500000US38101             69919   57038   3025    1707   1121   \n",
       "730  0500000US41039            382971  309194   4661    4675   9621   \n",
       "584  0500000US29015             19394   18031     77     109     58   \n",
       "462  0500000US20073              6016    5494     29      36     37   \n",
       "232  0500000US50007            168323  144237   4911     385   7244   \n",
       "839  0500000US54081             74591   64025   5848     137    832   \n",
       "570  0500000US26155             68094   63132    326     264    298   \n",
       "860  0500000US06047            281202  104534   9159    7519  20716   \n",
       "792  0500000US42097             91647   82821   2580     170    458   \n",
       "861  0500000US06049              8700    6772     68     447     62   \n",
       "726  0500000US41031             24502   15992    146    3324    150   \n",
       "499  0500000US26005            120502  105564   1585     800    875   \n",
       "403  0500000US17111            310229  247894   4285    1535   8804   \n",
       "757  0500000US42027            158172  131212   5477     203  11405   \n",
       "\n",
       "     Pacific_Islander  ...  Shannon_Race_DI  Shannon_Ethnic_DI  Gini_Index  \\\n",
       "559                 7  ...         0.378641           0.088039      0.4086   \n",
       "500                13  ...         0.348201           0.075467      0.4332   \n",
       "663                 2  ...         0.431321           0.054405      0.4966   \n",
       "527               125  ...         1.231899           0.292525      0.4737   \n",
       "275               113  ...         0.765223           0.196778      0.4149   \n",
       "422                 5  ...         0.550279           0.231715      0.3815   \n",
       "38                134  ...         0.927601           0.242232      0.4314   \n",
       "730              1016  ...         0.975918           0.322106      0.4620   \n",
       "584                 3  ...         0.386758           0.081969      0.4961   \n",
       "462                 2  ...         0.501460           0.148080      0.4675   \n",
       "232                54  ...         0.698324           0.128519      0.4476   \n",
       "839                17  ...         0.627998           0.082230      0.4694   \n",
       "570                23  ...         0.438506           0.133780      0.4192   \n",
       "860               808  ...         1.752052           0.664908      0.4608   \n",
       "792                25  ...         0.582091           0.184416      0.4314   \n",
       "861                14  ...         1.105380           0.413427      0.3965   \n",
       "726                25  ...         1.401538           0.506097      0.4619   \n",
       "499                23  ...         0.731340           0.273649      0.4069   \n",
       "403                62  ...         1.044129           0.423662      0.4076   \n",
       "757                46  ...         0.795779           0.154118      0.4714   \n",
       "\n",
       "     County_FIPS  Num_Contaminants  Sum_Population_Served  \\\n",
       "559        26133                 3                   5719   \n",
       "500        26007                 3                  15930   \n",
       "663        29221                 8                   6463   \n",
       "527        26065                 5                  44333   \n",
       "275        55087                 7                 134452   \n",
       "422        17155                 5                   2910   \n",
       "38         38101                 7                   3248   \n",
       "730        41039                 3                  12901   \n",
       "584        29015                21                   4070   \n",
       "462        20073                 7                   3955   \n",
       "232        50007                 4                 136627   \n",
       "839        54081                 6                  60193   \n",
       "570        26155                16                  12228   \n",
       "860         6047                 3                   1604   \n",
       "792        42097                15                  73675   \n",
       "861         6049                 4                   4082   \n",
       "726        41031                 3                  18540   \n",
       "499        26005                 9                 103158   \n",
       "403        17111                21                 287367   \n",
       "757        42027                27                 143387   \n",
       "\n",
       "     Sum_ContaminantFactor  Min_Contaminant_Factor  Max_Contaminant_Factor  \\\n",
       "559                   1507                     266                     856   \n",
       "500                   3315                    1109                     804   \n",
       "663                   1762                       0                       5   \n",
       "527                   1503                     148                     808   \n",
       "275                   5730                     372                    1541   \n",
       "422                   3754                     110                     444   \n",
       "38                    7497                     557                    1978   \n",
       "730                    468                     202                      46   \n",
       "584                    419                       0                      97   \n",
       "462                  10918                    1386                     918   \n",
       "232                   4345                     714                    1795   \n",
       "839                  22485                    1306                    1800   \n",
       "570                  10273                    1218                     957   \n",
       "860                   4808                    1192                    1886   \n",
       "792                  11182                       0                      90   \n",
       "861                   5845                     102                    2400   \n",
       "726                   3028                    1815                     708   \n",
       "499                  10796                     112                     296   \n",
       "403                  14596                    1591                     997   \n",
       "757                   4772                       0                      92   \n",
       "\n",
       "     Avg_Contaminant_Factor  \n",
       "559                  502.33  \n",
       "500                 1105.00  \n",
       "663                  220.25  \n",
       "527                  300.60  \n",
       "275                  818.57  \n",
       "422                  750.80  \n",
       "38                  1071.00  \n",
       "730                  156.00  \n",
       "584                   19.95  \n",
       "462                 1559.71  \n",
       "232                 1086.25  \n",
       "839                 3747.50  \n",
       "570                  642.06  \n",
       "860                 1602.67  \n",
       "792                  745.47  \n",
       "861                 1461.25  \n",
       "726                 1009.33  \n",
       "499                 1199.56  \n",
       "403                  695.05  \n",
       "757                  176.74  \n",
       "\n",
       "[20 rows x 37 columns]"
      ]
     },
     "execution_count": 7,
     "metadata": {},
     "output_type": "execute_result"
    }
   ],
   "source": [
    "df.sample(20)"
   ]
  },
  {
   "cell_type": "code",
   "execution_count": 8,
   "id": "3a97eabc",
   "metadata": {},
   "outputs": [
    {
     "data": {
      "text/plain": [
       "county_FIPS                 int64\n",
       "Geographic_Area_Name       object\n",
       "County                     object\n",
       "GEOID                      object\n",
       "Total_Population            int64\n",
       "White                       int64\n",
       "Black                       int64\n",
       "Native                      int64\n",
       "Asian                       int64\n",
       "Pacific_Islander            int64\n",
       "Other                       int64\n",
       "Two_or_more_Races           int64\n",
       "Hispanic                    int64\n",
       "Not_Hispanic                int64\n",
       "Not_White                   int64\n",
       "pct_White                 float64\n",
       "pct_Black                 float64\n",
       "pct_Native                float64\n",
       "pct_Asian                 float64\n",
       "pct_Pacific_Islander      float64\n",
       "pct_Other                 float64\n",
       "pct_Not_White             float64\n",
       "pct_Hispanic              float64\n",
       "pct_Not_Hispanic          float64\n",
       "pct_Two_or_more_Races     float64\n",
       "Simpson_Race_DI           float64\n",
       "Simpson_Ethnic_DI         float64\n",
       "Shannon_Race_DI           float64\n",
       "Shannon_Ethnic_DI         float64\n",
       "Gini_Index                float64\n",
       "County_FIPS                object\n",
       "Num_Contaminants            int64\n",
       "Sum_Population_Served       int64\n",
       "Sum_ContaminantFactor       int64\n",
       "Min_Contaminant_Factor     object\n",
       "Max_Contaminant_Factor     object\n",
       "Avg_Contaminant_Factor    float64\n",
       "dtype: object"
      ]
     },
     "execution_count": 8,
     "metadata": {},
     "output_type": "execute_result"
    }
   ],
   "source": [
    "df.dtypes"
   ]
  },
  {
   "cell_type": "code",
   "execution_count": 9,
   "id": "8be5e37f",
   "metadata": {},
   "outputs": [
    {
     "data": {
      "text/plain": [
       "Index(['county_FIPS', 'Geographic_Area_Name', 'County', 'GEOID',\n",
       "       'Total_Population', 'White', 'Black', 'Native', 'Asian',\n",
       "       'Pacific_Islander', 'Other', 'Two_or_more_Races', 'Hispanic',\n",
       "       'Not_Hispanic', 'Not_White', 'pct_White', 'pct_Black', 'pct_Native',\n",
       "       'pct_Asian', 'pct_Pacific_Islander', 'pct_Other', 'pct_Not_White',\n",
       "       'pct_Hispanic', 'pct_Not_Hispanic', 'pct_Two_or_more_Races',\n",
       "       'Simpson_Race_DI', 'Simpson_Ethnic_DI', 'Shannon_Race_DI',\n",
       "       'Shannon_Ethnic_DI', 'Gini_Index', 'County_FIPS', 'Num_Contaminants',\n",
       "       'Sum_Population_Served', 'Sum_ContaminantFactor',\n",
       "       'Min_Contaminant_Factor', 'Max_Contaminant_Factor',\n",
       "       'Avg_Contaminant_Factor'],\n",
       "      dtype='object')"
      ]
     },
     "execution_count": 9,
     "metadata": {},
     "output_type": "execute_result"
    }
   ],
   "source": [
    "df.columns"
   ]
  },
  {
   "cell_type": "markdown",
   "id": "25164da5",
   "metadata": {},
   "source": [
    "## Feature Selection"
   ]
  },
  {
   "cell_type": "code",
   "execution_count": 10,
   "id": "39874d30",
   "metadata": {},
   "outputs": [],
   "source": [
    "df_model = df.drop(columns=['county_FIPS', \n",
    "                            'Geographic_Area_Name', \n",
    "                            'County', 'GEOID',\n",
    "                            'Total_Population',\n",
    "                            'White', \n",
    "                            'Black', \n",
    "                            'Native', \n",
    "                            'Asian',\n",
    "                            'Pacific_Islander', \n",
    "                            'Other', \n",
    "                            'Two_or_more_Races', \n",
    "                            'Hispanic',\n",
    "                            'Not_Hispanic', \n",
    "                            'Not_White',\n",
    "                            'County_FIPS',\n",
    "                            'Sum_Population_Served',\n",
    "                            'Min_Contaminant_Factor', \n",
    "                            'Max_Contaminant_Factor',\n",
    "                            ])"
   ]
  },
  {
   "cell_type": "code",
   "execution_count": 11,
   "id": "54e34080",
   "metadata": {},
   "outputs": [
    {
     "data": {
      "text/plain": [
       "pct_White                 float64\n",
       "pct_Black                 float64\n",
       "pct_Native                float64\n",
       "pct_Asian                 float64\n",
       "pct_Pacific_Islander      float64\n",
       "pct_Other                 float64\n",
       "pct_Not_White             float64\n",
       "pct_Hispanic              float64\n",
       "pct_Not_Hispanic          float64\n",
       "pct_Two_or_more_Races     float64\n",
       "Simpson_Race_DI           float64\n",
       "Simpson_Ethnic_DI         float64\n",
       "Shannon_Race_DI           float64\n",
       "Shannon_Ethnic_DI         float64\n",
       "Gini_Index                float64\n",
       "Num_Contaminants            int64\n",
       "Sum_ContaminantFactor       int64\n",
       "Avg_Contaminant_Factor    float64\n",
       "dtype: object"
      ]
     },
     "execution_count": 11,
     "metadata": {},
     "output_type": "execute_result"
    }
   ],
   "source": [
    "#Check to make sure the data types don't need fixing\n",
    "df_model.dtypes"
   ]
  },
  {
   "cell_type": "code",
   "execution_count": 12,
   "id": "9b9bb2f8",
   "metadata": {},
   "outputs": [
    {
     "data": {
      "text/plain": [
       "pct_White                 0\n",
       "pct_Black                 0\n",
       "pct_Native                0\n",
       "pct_Asian                 0\n",
       "pct_Pacific_Islander      0\n",
       "pct_Other                 0\n",
       "pct_Not_White             0\n",
       "pct_Hispanic              0\n",
       "pct_Not_Hispanic          0\n",
       "pct_Two_or_more_Races     0\n",
       "Simpson_Race_DI           0\n",
       "Simpson_Ethnic_DI         0\n",
       "Shannon_Race_DI           0\n",
       "Shannon_Ethnic_DI         0\n",
       "Gini_Index                0\n",
       "Num_Contaminants          0\n",
       "Sum_ContaminantFactor     0\n",
       "Avg_Contaminant_Factor    0\n",
       "dtype: int64"
      ]
     },
     "execution_count": 12,
     "metadata": {},
     "output_type": "execute_result"
    }
   ],
   "source": [
    "#Check for Nan even though cleaning scripts should have excluded them by this stage\n",
    "df_model.isna().sum()"
   ]
  },
  {
   "cell_type": "markdown",
   "id": "fded947e",
   "metadata": {},
   "source": [
    "## Split the data into training and test data"
   ]
  },
  {
   "cell_type": "code",
   "execution_count": 13,
   "id": "27345adb",
   "metadata": {},
   "outputs": [],
   "source": [
    "# Create our features\n",
    "X = df_model\n",
    "# Create our target\n",
    "y = target"
   ]
  },
  {
   "cell_type": "code",
   "execution_count": 14,
   "id": "d94719a9",
   "metadata": {},
   "outputs": [],
   "source": [
    "X_train, X_test, y_train, y_test = train_test_split(X, y, random_state=1)"
   ]
  },
  {
   "cell_type": "code",
   "execution_count": 15,
   "id": "c0a8e86c",
   "metadata": {},
   "outputs": [
    {
     "data": {
      "text/plain": [
       "Priority\n",
       "0           460\n",
       "1           201\n",
       "dtype: int64"
      ]
     },
     "execution_count": 15,
     "metadata": {},
     "output_type": "execute_result"
    }
   ],
   "source": [
    "#Check the imbalance in the training set\n",
    "y_train.value_counts()"
   ]
  },
  {
   "cell_type": "markdown",
   "id": "c6d10a5d",
   "metadata": {},
   "source": [
    "## Ensemble Learners"
   ]
  },
  {
   "cell_type": "markdown",
   "id": "845c8f14",
   "metadata": {},
   "source": [
    "### Balanced Random Forest Classifier"
   ]
  },
  {
   "cell_type": "code",
   "execution_count": 16,
   "id": "d023f5b0",
   "metadata": {},
   "outputs": [
    {
     "data": {
      "text/plain": [
       "BalancedRandomForestClassifier(random_state=1)"
      ]
     },
     "execution_count": 16,
     "metadata": {},
     "output_type": "execute_result"
    }
   ],
   "source": [
    "# Resample the training data with the BalancedRandomForestClassifier\n",
    "from imblearn.ensemble import BalancedRandomForestClassifier\n",
    "brf_model = BalancedRandomForestClassifier(n_estimators=100, random_state=1) \n",
    "brf_model.fit(X_train,y_train)"
   ]
  },
  {
   "cell_type": "code",
   "execution_count": 17,
   "id": "b441140e",
   "metadata": {},
   "outputs": [
    {
     "data": {
      "text/plain": [
       "0.9717948717948718"
      ]
     },
     "execution_count": 17,
     "metadata": {},
     "output_type": "execute_result"
    }
   ],
   "source": [
    "# Calculated the balanced accuracy score\n",
    "y_pred = brf_model.predict(X_test)\n",
    "balanced_accuracy_score(y_test, y_pred)"
   ]
  },
  {
   "cell_type": "code",
   "execution_count": 18,
   "id": "3e83e429",
   "metadata": {},
   "outputs": [
    {
     "data": {
      "text/html": [
       "<div>\n",
       "<style scoped>\n",
       "    .dataframe tbody tr th:only-of-type {\n",
       "        vertical-align: middle;\n",
       "    }\n",
       "\n",
       "    .dataframe tbody tr th {\n",
       "        vertical-align: top;\n",
       "    }\n",
       "\n",
       "    .dataframe thead th {\n",
       "        text-align: right;\n",
       "    }\n",
       "</style>\n",
       "<table border=\"1\" class=\"dataframe\">\n",
       "  <thead>\n",
       "    <tr style=\"text-align: right;\">\n",
       "      <th></th>\n",
       "      <th>Predicted High-Priority</th>\n",
       "      <th>Predicted Low-Priority</th>\n",
       "    </tr>\n",
       "  </thead>\n",
       "  <tbody>\n",
       "    <tr>\n",
       "      <th>Actual High-Priority</th>\n",
       "      <td>152</td>\n",
       "      <td>4</td>\n",
       "    </tr>\n",
       "    <tr>\n",
       "      <th>Actual Low-Priority</th>\n",
       "      <td>2</td>\n",
       "      <td>63</td>\n",
       "    </tr>\n",
       "  </tbody>\n",
       "</table>\n",
       "</div>"
      ],
      "text/plain": [
       "                      Predicted High-Priority  Predicted Low-Priority\n",
       "Actual High-Priority                      152                       4\n",
       "Actual Low-Priority                         2                      63"
      ]
     },
     "metadata": {},
     "output_type": "display_data"
    }
   ],
   "source": [
    "# Display the confusion matrix\n",
    "cm = confusion_matrix(y_test, y_pred)\n",
    "\n",
    "cm_df = pd.DataFrame(\n",
    "    cm, index=[\"Actual High-Priority\", \"Actual Low-Priority\"],\n",
    "    columns=[\"Predicted High-Priority\", \"Predicted Low-Priority\"]\n",
    ")\n",
    "\n",
    "# Displaying results\n",
    "display(cm_df)"
   ]
  },
  {
   "cell_type": "code",
   "execution_count": 19,
   "id": "bdf0dbd3",
   "metadata": {},
   "outputs": [
    {
     "name": "stdout",
     "output_type": "stream",
     "text": [
      "                   pre       rec       spe        f1       geo       iba       sup\n",
      "\n",
      "          0       0.99      0.97      0.97      0.98      0.97      0.94       156\n",
      "          1       0.94      0.97      0.97      0.95      0.97      0.94        65\n",
      "\n",
      "avg / total       0.97      0.97      0.97      0.97      0.97      0.94       221\n",
      "\n"
     ]
    }
   ],
   "source": [
    "# Print the imbalanced classification report\n",
    "print(classification_report_imbalanced(y_test, y_pred))"
   ]
  },
  {
   "cell_type": "code",
   "execution_count": 20,
   "id": "7d507590",
   "metadata": {},
   "outputs": [
    {
     "data": {
      "text/plain": [
       "[(0.21577329250084878, 'pct_Hispanic'),\n",
       " (0.18270331734030493, 'Simpson_Ethnic_DI'),\n",
       " (0.16933527790291714, 'Shannon_Ethnic_DI'),\n",
       " (0.14741969379439726, 'pct_Not_Hispanic'),\n",
       " (0.07618300294105276, 'pct_Other'),\n",
       " (0.06788945084338857, 'Shannon_Race_DI'),\n",
       " (0.04540258450048268, 'pct_Not_White'),\n",
       " (0.02858899205530442, 'Simpson_Race_DI'),\n",
       " (0.019062721712183664, 'pct_White'),\n",
       " (0.013419859566826287, 'pct_Asian'),\n",
       " (0.010463765501046053, 'pct_Two_or_more_Races'),\n",
       " (0.00537416069877027, 'pct_Black'),\n",
       " (0.005029362553335992, 'Sum_ContaminantFactor'),\n",
       " (0.003813001607423072, 'pct_Native'),\n",
       " (0.003033713296187055, 'Gini_Index'),\n",
       " (0.002441597706863405, 'Num_Contaminants'),\n",
       " (0.002387526716818439, 'Avg_Contaminant_Factor'),\n",
       " (0.0016786787618492632, 'pct_Pacific_Islander')]"
      ]
     },
     "execution_count": 20,
     "metadata": {},
     "output_type": "execute_result"
    }
   ],
   "source": [
    "# List the features sorted in descending order by feature importance\n",
    "sorted(zip(brf_model.feature_importances_, X.columns), reverse=True)"
   ]
  },
  {
   "cell_type": "markdown",
   "id": "ab1d7799",
   "metadata": {},
   "source": [
    "### Easy Ensemble AdaBoost Classifier"
   ]
  },
  {
   "cell_type": "code",
   "execution_count": 21,
   "id": "d8e9a445",
   "metadata": {},
   "outputs": [
    {
     "data": {
      "text/plain": [
       "EasyEnsembleClassifier(n_estimators=100, random_state=1)"
      ]
     },
     "execution_count": 21,
     "metadata": {},
     "output_type": "execute_result"
    }
   ],
   "source": [
    "# Train the EasyEnsembleClassifier\n",
    "from imblearn.ensemble import EasyEnsembleClassifier \n",
    "eec = EasyEnsembleClassifier(n_estimators=100, random_state=1)\n",
    "eec.fit(X_train,y_train)"
   ]
  },
  {
   "cell_type": "code",
   "execution_count": 22,
   "id": "fce35e06",
   "metadata": {},
   "outputs": [
    {
     "data": {
      "text/plain": [
       "0.9685897435897436"
      ]
     },
     "execution_count": 22,
     "metadata": {},
     "output_type": "execute_result"
    }
   ],
   "source": [
    "# Calculated the balanced accuracy score\n",
    "y_pred = eec.predict(X_test)\n",
    "balanced_accuracy_score(y_test, y_pred)"
   ]
  },
  {
   "cell_type": "code",
   "execution_count": 23,
   "id": "1af7aaab",
   "metadata": {},
   "outputs": [
    {
     "data": {
      "text/html": [
       "<div>\n",
       "<style scoped>\n",
       "    .dataframe tbody tr th:only-of-type {\n",
       "        vertical-align: middle;\n",
       "    }\n",
       "\n",
       "    .dataframe tbody tr th {\n",
       "        vertical-align: top;\n",
       "    }\n",
       "\n",
       "    .dataframe thead th {\n",
       "        text-align: right;\n",
       "    }\n",
       "</style>\n",
       "<table border=\"1\" class=\"dataframe\">\n",
       "  <thead>\n",
       "    <tr style=\"text-align: right;\">\n",
       "      <th></th>\n",
       "      <th>Predicted High-Priority</th>\n",
       "      <th>Predicted Low-Priority</th>\n",
       "    </tr>\n",
       "  </thead>\n",
       "  <tbody>\n",
       "    <tr>\n",
       "      <th>Actual High-Priority</th>\n",
       "      <td>151</td>\n",
       "      <td>5</td>\n",
       "    </tr>\n",
       "    <tr>\n",
       "      <th>Actual Low-Priority</th>\n",
       "      <td>2</td>\n",
       "      <td>63</td>\n",
       "    </tr>\n",
       "  </tbody>\n",
       "</table>\n",
       "</div>"
      ],
      "text/plain": [
       "                      Predicted High-Priority  Predicted Low-Priority\n",
       "Actual High-Priority                      151                       5\n",
       "Actual Low-Priority                         2                      63"
      ]
     },
     "metadata": {},
     "output_type": "display_data"
    }
   ],
   "source": [
    "# Display the confusion matrix\n",
    "cm = confusion_matrix(y_test, y_pred)\n",
    "\n",
    "cm_df = pd.DataFrame(\n",
    "    cm, index=[\"Actual High-Priority\", \"Actual Low-Priority\"],\n",
    "    columns=[\"Predicted High-Priority\", \"Predicted Low-Priority\"]\n",
    ")\n",
    "\n",
    "# Displaying results\n",
    "display(cm_df)"
   ]
  },
  {
   "cell_type": "code",
   "execution_count": 24,
   "id": "49f892f4",
   "metadata": {},
   "outputs": [
    {
     "name": "stdout",
     "output_type": "stream",
     "text": [
      "                   pre       rec       spe        f1       geo       iba       sup\n",
      "\n",
      "          0       0.99      0.97      0.97      0.98      0.97      0.94       156\n",
      "          1       0.93      0.97      0.97      0.95      0.97      0.94        65\n",
      "\n",
      "avg / total       0.97      0.97      0.97      0.97      0.97      0.94       221\n",
      "\n"
     ]
    }
   ],
   "source": [
    "# Print the imbalanced classification report\n",
    "print(classification_report_imbalanced(y_test, y_pred))"
   ]
  },
  {
   "cell_type": "markdown",
   "id": "57c0367c",
   "metadata": {},
   "source": [
    "### Naive Random Oversampling"
   ]
  },
  {
   "cell_type": "code",
   "execution_count": 25,
   "id": "558e33ef",
   "metadata": {},
   "outputs": [
    {
     "data": {
      "text/plain": [
       "Priority\n",
       "0           460\n",
       "1           460\n",
       "dtype: int64"
      ]
     },
     "execution_count": 25,
     "metadata": {},
     "output_type": "execute_result"
    }
   ],
   "source": [
    "# implement random oversampling\n",
    "from imblearn.over_sampling import RandomOverSampler\n",
    "# Resample the training data with the RandomOversampler\n",
    "ros = RandomOverSampler(random_state=1)\n",
    "X_resampled, y_resampled = ros.fit_resample(X_train, y_train)\n",
    "\n",
    "y_resampled.value_counts()"
   ]
  },
  {
   "cell_type": "code",
   "execution_count": 26,
   "id": "5ec8d8b1",
   "metadata": {},
   "outputs": [
    {
     "data": {
      "text/plain": [
       "LogisticRegression(random_state=1)"
      ]
     },
     "execution_count": 26,
     "metadata": {},
     "output_type": "execute_result"
    }
   ],
   "source": [
    "from sklearn.linear_model import LogisticRegression\n",
    "# Train the Logistic Regression model using the resampled data\n",
    "model = LogisticRegression(solver='lbfgs', random_state=1)\n",
    "model.fit(X_resampled, y_resampled)"
   ]
  },
  {
   "cell_type": "code",
   "execution_count": 27,
   "id": "774d3e8b",
   "metadata": {},
   "outputs": [],
   "source": [
    "# make predictions\n",
    "y_pred = model.predict(X_test)"
   ]
  },
  {
   "cell_type": "code",
   "execution_count": 28,
   "id": "8afc8a98",
   "metadata": {},
   "outputs": [
    {
     "data": {
      "text/plain": [
       "0.8987179487179486"
      ]
     },
     "execution_count": 28,
     "metadata": {},
     "output_type": "execute_result"
    }
   ],
   "source": [
    "from sklearn.metrics import balanced_accuracy_score\n",
    "#Calculate the balanced accuracy score\n",
    "balanced_accuracy_score(y_test, y_pred)"
   ]
  },
  {
   "cell_type": "code",
   "execution_count": 29,
   "id": "fb1dd463",
   "metadata": {},
   "outputs": [
    {
     "data": {
      "text/html": [
       "<div>\n",
       "<style scoped>\n",
       "    .dataframe tbody tr th:only-of-type {\n",
       "        vertical-align: middle;\n",
       "    }\n",
       "\n",
       "    .dataframe tbody tr th {\n",
       "        vertical-align: top;\n",
       "    }\n",
       "\n",
       "    .dataframe thead th {\n",
       "        text-align: right;\n",
       "    }\n",
       "</style>\n",
       "<table border=\"1\" class=\"dataframe\">\n",
       "  <thead>\n",
       "    <tr style=\"text-align: right;\">\n",
       "      <th></th>\n",
       "      <th>Predicted High-Priority</th>\n",
       "      <th>Predicted Low-Priority</th>\n",
       "    </tr>\n",
       "  </thead>\n",
       "  <tbody>\n",
       "    <tr>\n",
       "      <th>Actual High-Priority</th>\n",
       "      <td>134</td>\n",
       "      <td>22</td>\n",
       "    </tr>\n",
       "    <tr>\n",
       "      <th>Actual Low-Priority</th>\n",
       "      <td>4</td>\n",
       "      <td>61</td>\n",
       "    </tr>\n",
       "  </tbody>\n",
       "</table>\n",
       "</div>"
      ],
      "text/plain": [
       "                      Predicted High-Priority  Predicted Low-Priority\n",
       "Actual High-Priority                      134                      22\n",
       "Actual Low-Priority                         4                      61"
      ]
     },
     "metadata": {},
     "output_type": "display_data"
    }
   ],
   "source": [
    "# Display the confusion matrix\n",
    "cm = confusion_matrix(y_test, y_pred)\n",
    "\n",
    "cm_df = pd.DataFrame(\n",
    "    cm, index=[\"Actual High-Priority\", \"Actual Low-Priority\"],\n",
    "    columns=[\"Predicted High-Priority\", \"Predicted Low-Priority\"]\n",
    ")\n",
    "\n",
    "# Displaying results\n",
    "display(cm_df)"
   ]
  },
  {
   "cell_type": "code",
   "execution_count": 30,
   "id": "f8423493",
   "metadata": {},
   "outputs": [
    {
     "name": "stdout",
     "output_type": "stream",
     "text": [
      "                   pre       rec       spe        f1       geo       iba       sup\n",
      "\n",
      "          0       0.97      0.86      0.94      0.91      0.90      0.80       156\n",
      "          1       0.73      0.94      0.86      0.82      0.90      0.81        65\n",
      "\n",
      "avg / total       0.90      0.88      0.92      0.89      0.90      0.80       221\n",
      "\n"
     ]
    }
   ],
   "source": [
    "# Print the imbalanced classification report\n",
    "from imblearn.metrics import classification_report_imbalanced\n",
    "print(classification_report_imbalanced(y_test, y_pred))"
   ]
  },
  {
   "cell_type": "markdown",
   "id": "4ea81385",
   "metadata": {},
   "source": [
    "### SMOTE Oversampling"
   ]
  },
  {
   "cell_type": "code",
   "execution_count": 31,
   "id": "ad67d063",
   "metadata": {},
   "outputs": [
    {
     "data": {
      "text/plain": [
       "Priority\n",
       "0           460\n",
       "1           460\n",
       "dtype: int64"
      ]
     },
     "execution_count": 31,
     "metadata": {},
     "output_type": "execute_result"
    }
   ],
   "source": [
    "# Resample the training data with SMOTE\n",
    "from imblearn.over_sampling import SMOTE\n",
    "X_resampled, y_resampled = SMOTE(random_state=1, sampling_strategy='auto').fit_resample(\n",
    "    X_train, y_train\n",
    ")\n",
    "y_resampled.value_counts()"
   ]
  },
  {
   "cell_type": "code",
   "execution_count": 32,
   "id": "27b71c81",
   "metadata": {},
   "outputs": [
    {
     "data": {
      "text/plain": [
       "LogisticRegression(random_state=1)"
      ]
     },
     "execution_count": 32,
     "metadata": {},
     "output_type": "execute_result"
    }
   ],
   "source": [
    "# Train the Logistic Regression model using the resampled data\n",
    "model = LogisticRegression(solver='lbfgs', random_state=1)\n",
    "model.fit(X_resampled, y_resampled)"
   ]
  },
  {
   "cell_type": "code",
   "execution_count": 33,
   "id": "24e1c930",
   "metadata": {},
   "outputs": [
    {
     "data": {
      "text/plain": [
       "0.9019230769230769"
      ]
     },
     "execution_count": 33,
     "metadata": {},
     "output_type": "execute_result"
    }
   ],
   "source": [
    "# Calculated the balanced accuracy score\n",
    "y_pred = model.predict(X_test)\n",
    "balanced_accuracy_score(y_test, y_pred)"
   ]
  },
  {
   "cell_type": "code",
   "execution_count": 34,
   "id": "472b5229",
   "metadata": {},
   "outputs": [
    {
     "data": {
      "text/html": [
       "<div>\n",
       "<style scoped>\n",
       "    .dataframe tbody tr th:only-of-type {\n",
       "        vertical-align: middle;\n",
       "    }\n",
       "\n",
       "    .dataframe tbody tr th {\n",
       "        vertical-align: top;\n",
       "    }\n",
       "\n",
       "    .dataframe thead th {\n",
       "        text-align: right;\n",
       "    }\n",
       "</style>\n",
       "<table border=\"1\" class=\"dataframe\">\n",
       "  <thead>\n",
       "    <tr style=\"text-align: right;\">\n",
       "      <th></th>\n",
       "      <th>Predicted High-Priority</th>\n",
       "      <th>Predicted Low-Priority</th>\n",
       "    </tr>\n",
       "  </thead>\n",
       "  <tbody>\n",
       "    <tr>\n",
       "      <th>Actual High-Priority</th>\n",
       "      <td>135</td>\n",
       "      <td>21</td>\n",
       "    </tr>\n",
       "    <tr>\n",
       "      <th>Actual Low-Priority</th>\n",
       "      <td>4</td>\n",
       "      <td>61</td>\n",
       "    </tr>\n",
       "  </tbody>\n",
       "</table>\n",
       "</div>"
      ],
      "text/plain": [
       "                      Predicted High-Priority  Predicted Low-Priority\n",
       "Actual High-Priority                      135                      21\n",
       "Actual Low-Priority                         4                      61"
      ]
     },
     "metadata": {},
     "output_type": "display_data"
    }
   ],
   "source": [
    "# Display the confusion matrix\n",
    "cm = confusion_matrix(y_test, y_pred)\n",
    "\n",
    "cm_df = pd.DataFrame(\n",
    "    cm, index=[\"Actual High-Priority\", \"Actual Low-Priority\"],\n",
    "    columns=[\"Predicted High-Priority\", \"Predicted Low-Priority\"]\n",
    ")\n",
    "\n",
    "# Displaying results\n",
    "display(cm_df)"
   ]
  },
  {
   "cell_type": "code",
   "execution_count": 35,
   "id": "6a6ce53c",
   "metadata": {},
   "outputs": [
    {
     "name": "stdout",
     "output_type": "stream",
     "text": [
      "                   pre       rec       spe        f1       geo       iba       sup\n",
      "\n",
      "          0       0.97      0.87      0.94      0.92      0.90      0.81       156\n",
      "          1       0.74      0.94      0.87      0.83      0.90      0.82        65\n",
      "\n",
      "avg / total       0.90      0.89      0.92      0.89      0.90      0.81       221\n",
      "\n"
     ]
    }
   ],
   "source": [
    "# Print the imbalanced classification report\n",
    "print(classification_report_imbalanced(y_test, y_pred))"
   ]
  },
  {
   "cell_type": "markdown",
   "id": "0cc79e2f",
   "metadata": {},
   "source": [
    "## Undersampling\n"
   ]
  },
  {
   "cell_type": "code",
   "execution_count": 36,
   "id": "0c680972",
   "metadata": {},
   "outputs": [
    {
     "data": {
      "text/plain": [
       "Counter({'Priority': 1})"
      ]
     },
     "execution_count": 36,
     "metadata": {},
     "output_type": "execute_result"
    }
   ],
   "source": [
    "# Resample the data using the ClusterCentroids resampler\n",
    "from imblearn.under_sampling import ClusterCentroids\n",
    "cc = ClusterCentroids(random_state=1)\n",
    "X_resampled, y_resampled = cc.fit_resample(X_train, y_train)\n",
    "Counter(y_resampled)"
   ]
  },
  {
   "cell_type": "code",
   "execution_count": 37,
   "id": "a6ec7874",
   "metadata": {},
   "outputs": [
    {
     "data": {
      "text/plain": [
       "LogisticRegression(random_state=1)"
      ]
     },
     "execution_count": 37,
     "metadata": {},
     "output_type": "execute_result"
    }
   ],
   "source": [
    "# Train the Logistic Regression model using the resampled data\n",
    "model = LogisticRegression(solver='lbfgs', random_state=1)\n",
    "model.fit(X_resampled, y_resampled)"
   ]
  },
  {
   "cell_type": "code",
   "execution_count": 38,
   "id": "0961b2d7",
   "metadata": {},
   "outputs": [
    {
     "data": {
      "text/plain": [
       "0.5935897435897436"
      ]
     },
     "execution_count": 38,
     "metadata": {},
     "output_type": "execute_result"
    }
   ],
   "source": [
    "# Calculated the balanced accuracy score\n",
    "y_pred = model.predict(X_test)\n",
    "balanced_accuracy_score(y_test, y_pred)"
   ]
  },
  {
   "cell_type": "code",
   "execution_count": 39,
   "id": "a0a4fdad",
   "metadata": {},
   "outputs": [
    {
     "data": {
      "text/html": [
       "<div>\n",
       "<style scoped>\n",
       "    .dataframe tbody tr th:only-of-type {\n",
       "        vertical-align: middle;\n",
       "    }\n",
       "\n",
       "    .dataframe tbody tr th {\n",
       "        vertical-align: top;\n",
       "    }\n",
       "\n",
       "    .dataframe thead th {\n",
       "        text-align: right;\n",
       "    }\n",
       "</style>\n",
       "<table border=\"1\" class=\"dataframe\">\n",
       "  <thead>\n",
       "    <tr style=\"text-align: right;\">\n",
       "      <th></th>\n",
       "      <th>Predicted High-Priority</th>\n",
       "      <th>Predicted Low-Priority</th>\n",
       "    </tr>\n",
       "  </thead>\n",
       "  <tbody>\n",
       "    <tr>\n",
       "      <th>Actual High-Priority</th>\n",
       "      <td>118</td>\n",
       "      <td>38</td>\n",
       "    </tr>\n",
       "    <tr>\n",
       "      <th>Actual Low-Priority</th>\n",
       "      <td>37</td>\n",
       "      <td>28</td>\n",
       "    </tr>\n",
       "  </tbody>\n",
       "</table>\n",
       "</div>"
      ],
      "text/plain": [
       "                      Predicted High-Priority  Predicted Low-Priority\n",
       "Actual High-Priority                      118                      38\n",
       "Actual Low-Priority                        37                      28"
      ]
     },
     "metadata": {},
     "output_type": "display_data"
    }
   ],
   "source": [
    "# Display the confusion matrix\n",
    "cm = confusion_matrix(y_test, y_pred)\n",
    "\n",
    "cm_df = pd.DataFrame(\n",
    "    cm, index=[\"Actual High-Priority\", \"Actual Low-Priority\"],\n",
    "    columns=[\"Predicted High-Priority\", \"Predicted Low-Priority\"]\n",
    ")\n",
    "\n",
    "# Displaying results\n",
    "display(cm_df)"
   ]
  },
  {
   "cell_type": "code",
   "execution_count": 40,
   "id": "ace357ab",
   "metadata": {},
   "outputs": [
    {
     "name": "stdout",
     "output_type": "stream",
     "text": [
      "                   pre       rec       spe        f1       geo       iba       sup\n",
      "\n",
      "          0       0.76      0.76      0.43      0.76      0.57      0.34       156\n",
      "          1       0.42      0.43      0.76      0.43      0.57      0.32        65\n",
      "\n",
      "avg / total       0.66      0.66      0.53      0.66      0.57      0.33       221\n",
      "\n"
     ]
    }
   ],
   "source": [
    "# Print the imbalanced classification report\n",
    "print(classification_report_imbalanced(y_test, y_pred))"
   ]
  },
  {
   "cell_type": "markdown",
   "id": "449fa1ca",
   "metadata": {},
   "source": [
    "## Combination (Over and Under) Sampling\n"
   ]
  },
  {
   "cell_type": "code",
   "execution_count": 41,
   "id": "15164fe9",
   "metadata": {},
   "outputs": [
    {
     "data": {
      "text/plain": [
       "Priority\n",
       "1           192\n",
       "0           158\n",
       "dtype: int64"
      ]
     },
     "execution_count": 41,
     "metadata": {},
     "output_type": "execute_result"
    }
   ],
   "source": [
    "# Resample the training data with SMOTEENN\n",
    "from imblearn.combine import SMOTEENN\n",
    "\n",
    "smote_enn = SMOTEENN(random_state=1)\n",
    "X_resampled, y_resampled = smote_enn.fit_resample(X_train, y_train)\n",
    "y_resampled.value_counts()"
   ]
  },
  {
   "cell_type": "code",
   "execution_count": 42,
   "id": "c3601ccb",
   "metadata": {},
   "outputs": [
    {
     "data": {
      "text/plain": [
       "LogisticRegression(random_state=1)"
      ]
     },
     "execution_count": 42,
     "metadata": {},
     "output_type": "execute_result"
    }
   ],
   "source": [
    "# Train the Logistic Regression model using the resampled data\n",
    "model = LogisticRegression(solver='lbfgs', random_state=1)\n",
    "model.fit(X_resampled, y_resampled)"
   ]
  },
  {
   "cell_type": "code",
   "execution_count": 43,
   "id": "1053734e",
   "metadata": {},
   "outputs": [
    {
     "data": {
      "text/plain": [
       "0.8865384615384615"
      ]
     },
     "execution_count": 43,
     "metadata": {},
     "output_type": "execute_result"
    }
   ],
   "source": [
    "# Calculated the balanced accuracy score\n",
    "y_pred = model.predict(X_test)\n",
    "balanced_accuracy_score(y_test, y_pred)\n"
   ]
  },
  {
   "cell_type": "code",
   "execution_count": 44,
   "id": "d24db220",
   "metadata": {},
   "outputs": [
    {
     "data": {
      "text/html": [
       "<div>\n",
       "<style scoped>\n",
       "    .dataframe tbody tr th:only-of-type {\n",
       "        vertical-align: middle;\n",
       "    }\n",
       "\n",
       "    .dataframe tbody tr th {\n",
       "        vertical-align: top;\n",
       "    }\n",
       "\n",
       "    .dataframe thead th {\n",
       "        text-align: right;\n",
       "    }\n",
       "</style>\n",
       "<table border=\"1\" class=\"dataframe\">\n",
       "  <thead>\n",
       "    <tr style=\"text-align: right;\">\n",
       "      <th></th>\n",
       "      <th>Predicted High-Priority</th>\n",
       "      <th>Predicted Low-Priority</th>\n",
       "    </tr>\n",
       "  </thead>\n",
       "  <tbody>\n",
       "    <tr>\n",
       "      <th>Actual High-Priority</th>\n",
       "      <td>135</td>\n",
       "      <td>21</td>\n",
       "    </tr>\n",
       "    <tr>\n",
       "      <th>Actual Low-Priority</th>\n",
       "      <td>6</td>\n",
       "      <td>59</td>\n",
       "    </tr>\n",
       "  </tbody>\n",
       "</table>\n",
       "</div>"
      ],
      "text/plain": [
       "                      Predicted High-Priority  Predicted Low-Priority\n",
       "Actual High-Priority                      135                      21\n",
       "Actual Low-Priority                         6                      59"
      ]
     },
     "metadata": {},
     "output_type": "display_data"
    }
   ],
   "source": [
    "# Display the confusion matrix\n",
    "cm = confusion_matrix(y_test, y_pred)\n",
    "\n",
    "cm_df = pd.DataFrame(\n",
    "    cm, index=[\"Actual High-Priority\", \"Actual Low-Priority\"],\n",
    "    columns=[\"Predicted High-Priority\", \"Predicted Low-Priority\"]\n",
    ")\n",
    "\n",
    "# Displaying results\n",
    "display(cm_df)"
   ]
  },
  {
   "cell_type": "code",
   "execution_count": 45,
   "id": "10b6ceea",
   "metadata": {},
   "outputs": [
    {
     "name": "stdout",
     "output_type": "stream",
     "text": [
      "                   pre       rec       spe        f1       geo       iba       sup\n",
      "\n",
      "          0       0.96      0.87      0.91      0.91      0.89      0.78       156\n",
      "          1       0.74      0.91      0.87      0.81      0.89      0.79        65\n",
      "\n",
      "avg / total       0.89      0.88      0.90      0.88      0.89      0.78       221\n",
      "\n"
     ]
    }
   ],
   "source": [
    "# Print the imbalanced classification report\n",
    "print(classification_report_imbalanced(y_test, y_pred))"
   ]
  },
  {
   "cell_type": "markdown",
   "id": "341ba5b2",
   "metadata": {},
   "source": [
    "## Naive Bayes Classifier"
   ]
  },
  {
   "cell_type": "code",
   "execution_count": 46,
   "id": "8b17302c",
   "metadata": {},
   "outputs": [
    {
     "data": {
      "text/plain": [
       "GaussianNB()"
      ]
     },
     "execution_count": 46,
     "metadata": {},
     "output_type": "execute_result"
    }
   ],
   "source": [
    "from sklearn.naive_bayes import GaussianNB\n",
    "gnb = GaussianNB()\n",
    "gnb.fit(X_train, y_train)"
   ]
  },
  {
   "cell_type": "code",
   "execution_count": 47,
   "id": "1a82ddf9",
   "metadata": {},
   "outputs": [
    {
     "data": {
      "text/plain": [
       "0.5698717948717948"
      ]
     },
     "execution_count": 47,
     "metadata": {},
     "output_type": "execute_result"
    }
   ],
   "source": [
    "# Calculated the balanced accuracy score\n",
    "y_pred = gnb.predict(X_test)\n",
    "balanced_accuracy_score(y_test, y_pred)"
   ]
  },
  {
   "cell_type": "markdown",
   "id": "ba20fefb",
   "metadata": {},
   "source": [
    "## XGBoost"
   ]
  },
  {
   "cell_type": "code",
   "execution_count": 48,
   "id": "3f234a81",
   "metadata": {},
   "outputs": [
    {
     "data": {
      "text/plain": [
       "XGBClassifier(base_score=0.5, booster='gbtree', callbacks=None,\n",
       "              colsample_bylevel=1, colsample_bynode=1, colsample_bytree=1,\n",
       "              early_stopping_rounds=None, enable_categorical=False,\n",
       "              eval_metric='mlogloss', gamma=0, gpu_id=-1,\n",
       "              grow_policy='depthwise', importance_type=None,\n",
       "              interaction_constraints='', learning_rate=0.300000012,\n",
       "              max_bin=256, max_cat_to_onehot=4, max_delta_step=0, max_depth=6,\n",
       "              max_leaves=0, min_child_weight=1, missing=nan,\n",
       "              monotone_constraints='()', n_estimators=100, n_jobs=0,\n",
       "              num_parallel_tree=1, predictor='auto', random_state=0,\n",
       "              reg_alpha=0, reg_lambda=1, ...)"
      ]
     },
     "execution_count": 48,
     "metadata": {},
     "output_type": "execute_result"
    }
   ],
   "source": [
    "from xgboost import XGBClassifier\n",
    "model = XGBClassifier(use_label_encoder=False, eval_metric='mlogloss')\n",
    "model.fit(X_train, y_train)"
   ]
  },
  {
   "cell_type": "code",
   "execution_count": 49,
   "id": "26df308a",
   "metadata": {},
   "outputs": [
    {
     "data": {
      "text/plain": [
       "0.9814102564102565"
      ]
     },
     "execution_count": 49,
     "metadata": {},
     "output_type": "execute_result"
    }
   ],
   "source": [
    "# Calculated the balanced accuracy score\n",
    "y_pred = model.predict(X_test)\n",
    "balanced_accuracy_score(y_test, y_pred)"
   ]
  },
  {
   "cell_type": "code",
   "execution_count": 50,
   "id": "60fdc6af",
   "metadata": {},
   "outputs": [
    {
     "data": {
      "text/html": [
       "<div>\n",
       "<style scoped>\n",
       "    .dataframe tbody tr th:only-of-type {\n",
       "        vertical-align: middle;\n",
       "    }\n",
       "\n",
       "    .dataframe tbody tr th {\n",
       "        vertical-align: top;\n",
       "    }\n",
       "\n",
       "    .dataframe thead th {\n",
       "        text-align: right;\n",
       "    }\n",
       "</style>\n",
       "<table border=\"1\" class=\"dataframe\">\n",
       "  <thead>\n",
       "    <tr style=\"text-align: right;\">\n",
       "      <th></th>\n",
       "      <th>Predicted High-Priority</th>\n",
       "      <th>Predicted Low-Priority</th>\n",
       "    </tr>\n",
       "  </thead>\n",
       "  <tbody>\n",
       "    <tr>\n",
       "      <th>Actual High-Priority</th>\n",
       "      <td>155</td>\n",
       "      <td>1</td>\n",
       "    </tr>\n",
       "    <tr>\n",
       "      <th>Actual Low-Priority</th>\n",
       "      <td>2</td>\n",
       "      <td>63</td>\n",
       "    </tr>\n",
       "  </tbody>\n",
       "</table>\n",
       "</div>"
      ],
      "text/plain": [
       "                      Predicted High-Priority  Predicted Low-Priority\n",
       "Actual High-Priority                      155                       1\n",
       "Actual Low-Priority                         2                      63"
      ]
     },
     "metadata": {},
     "output_type": "display_data"
    }
   ],
   "source": [
    "# Display the confusion matrix\n",
    "cm = confusion_matrix(y_test, y_pred)\n",
    "\n",
    "cm_df = pd.DataFrame(\n",
    "    cm, index=[\"Actual High-Priority\", \"Actual Low-Priority\"],\n",
    "    columns=[\"Predicted High-Priority\", \"Predicted Low-Priority\"]\n",
    ")\n",
    "\n",
    "# Displaying results\n",
    "display(cm_df)"
   ]
  },
  {
   "cell_type": "code",
   "execution_count": null,
   "id": "cf729bf3",
   "metadata": {},
   "outputs": [],
   "source": []
  }
 ],
 "metadata": {
  "kernelspec": {
   "display_name": "mlenv",
   "language": "python",
   "name": "mlenv"
  },
  "language_info": {
   "codemirror_mode": {
    "name": "ipython",
    "version": 3
   },
   "file_extension": ".py",
   "mimetype": "text/x-python",
   "name": "python",
   "nbconvert_exporter": "python",
   "pygments_lexer": "ipython3",
   "version": "3.9.12"
  }
 },
 "nbformat": 4,
 "nbformat_minor": 5
}
