{
 "cells": [
  {
   "cell_type": "code",
   "execution_count": 4,
   "id": "9d31694e",
   "metadata": {},
   "outputs": [],
   "source": [
    "import sqlite3\n",
    "import warnings\n",
    "warnings.filterwarnings('ignore')\n",
    "import numpy as np\n",
    "import pandas as pd\n",
    "from pathlib import Path\n",
    "from collections import Counter\n",
    "from sklearn.metrics import balanced_accuracy_score\n",
    "from sklearn.metrics import confusion_matrix\n",
    "from imblearn.metrics import classification_report_imbalanced\n",
    "from sklearn.model_selection import train_test_split\n",
    "import os"
   ]
  },
  {
   "cell_type": "code",
   "execution_count": 2,
   "id": "bac1d871",
   "metadata": {},
   "outputs": [],
   "source": [
    "db = r'C:/Users/jonat/UO_Bootcamp/Group_project/git_Water_Quality_Analysis/Water_Quality_Analysis/Database/database.sqlite3'\n",
    "# Connect to SQLite database\n",
    "conn = sqlite3.connect(db)\n",
    "  \n",
    "# Create cursor object\n",
    "cursor = conn.cursor()\n",
    "\n",
    "#Read in the Data from the DB\n",
    "df = pd.read_sql_query(\"SELECT * FROM Census_Data INNER JOIN Contaminant_Summary on Census_Data.county_FIPS = Contaminant_Summary.county_FIPS\",conn)"
   ]
  },
  {
   "cell_type": "code",
   "execution_count": 12,
   "id": "532d8d28",
   "metadata": {},
   "outputs": [
    {
     "data": {
      "text/html": [
       "<div>\n",
       "<style scoped>\n",
       "    .dataframe tbody tr th:only-of-type {\n",
       "        vertical-align: middle;\n",
       "    }\n",
       "\n",
       "    .dataframe tbody tr th {\n",
       "        vertical-align: top;\n",
       "    }\n",
       "\n",
       "    .dataframe thead th {\n",
       "        text-align: right;\n",
       "    }\n",
       "</style>\n",
       "<table border=\"1\" class=\"dataframe\">\n",
       "  <thead>\n",
       "    <tr style=\"text-align: right;\">\n",
       "      <th></th>\n",
       "      <th>Unnamed: 0</th>\n",
       "      <th>New_Priority</th>\n",
       "    </tr>\n",
       "  </thead>\n",
       "  <tbody>\n",
       "    <tr>\n",
       "      <th>0</th>\n",
       "      <td>0</td>\n",
       "      <td>0</td>\n",
       "    </tr>\n",
       "    <tr>\n",
       "      <th>1</th>\n",
       "      <td>1</td>\n",
       "      <td>1</td>\n",
       "    </tr>\n",
       "    <tr>\n",
       "      <th>2</th>\n",
       "      <td>2</td>\n",
       "      <td>1</td>\n",
       "    </tr>\n",
       "    <tr>\n",
       "      <th>3</th>\n",
       "      <td>3</td>\n",
       "      <td>1</td>\n",
       "    </tr>\n",
       "    <tr>\n",
       "      <th>4</th>\n",
       "      <td>4</td>\n",
       "      <td>0</td>\n",
       "    </tr>\n",
       "    <tr>\n",
       "      <th>...</th>\n",
       "      <td>...</td>\n",
       "      <td>...</td>\n",
       "    </tr>\n",
       "    <tr>\n",
       "      <th>877</th>\n",
       "      <td>877</td>\n",
       "      <td>0</td>\n",
       "    </tr>\n",
       "    <tr>\n",
       "      <th>878</th>\n",
       "      <td>878</td>\n",
       "      <td>0</td>\n",
       "    </tr>\n",
       "    <tr>\n",
       "      <th>879</th>\n",
       "      <td>879</td>\n",
       "      <td>0</td>\n",
       "    </tr>\n",
       "    <tr>\n",
       "      <th>880</th>\n",
       "      <td>880</td>\n",
       "      <td>1</td>\n",
       "    </tr>\n",
       "    <tr>\n",
       "      <th>881</th>\n",
       "      <td>881</td>\n",
       "      <td>1</td>\n",
       "    </tr>\n",
       "  </tbody>\n",
       "</table>\n",
       "<p>882 rows × 2 columns</p>\n",
       "</div>"
      ],
      "text/plain": [
       "     Unnamed: 0  New_Priority\n",
       "0             0             0\n",
       "1             1             1\n",
       "2             2             1\n",
       "3             3             1\n",
       "4             4             0\n",
       "..          ...           ...\n",
       "877         877             0\n",
       "878         878             0\n",
       "879         879             0\n",
       "880         880             1\n",
       "881         881             1\n",
       "\n",
       "[882 rows x 2 columns]"
      ]
     },
     "execution_count": 12,
     "metadata": {},
     "output_type": "execute_result"
    }
   ],
   "source": [
    "#Get the target binary data from the .csv file that was generated in the Priority_algo_dev.ipynb\n",
    "target = pd.read_csv(os.path.join('..', '..', 'Priority_Algo_dev', 'new_priority.csv'))\n",
    "target"
   ]
  },
  {
   "cell_type": "code",
   "execution_count": 13,
   "id": "9726543a",
   "metadata": {},
   "outputs": [
    {
     "data": {
      "text/html": [
       "<div>\n",
       "<style scoped>\n",
       "    .dataframe tbody tr th:only-of-type {\n",
       "        vertical-align: middle;\n",
       "    }\n",
       "\n",
       "    .dataframe tbody tr th {\n",
       "        vertical-align: top;\n",
       "    }\n",
       "\n",
       "    .dataframe thead th {\n",
       "        text-align: right;\n",
       "    }\n",
       "</style>\n",
       "<table border=\"1\" class=\"dataframe\">\n",
       "  <thead>\n",
       "    <tr style=\"text-align: right;\">\n",
       "      <th></th>\n",
       "      <th>New_Priority</th>\n",
       "    </tr>\n",
       "  </thead>\n",
       "  <tbody>\n",
       "    <tr>\n",
       "      <th>0</th>\n",
       "      <td>0</td>\n",
       "    </tr>\n",
       "    <tr>\n",
       "      <th>1</th>\n",
       "      <td>1</td>\n",
       "    </tr>\n",
       "    <tr>\n",
       "      <th>2</th>\n",
       "      <td>1</td>\n",
       "    </tr>\n",
       "    <tr>\n",
       "      <th>3</th>\n",
       "      <td>1</td>\n",
       "    </tr>\n",
       "    <tr>\n",
       "      <th>4</th>\n",
       "      <td>0</td>\n",
       "    </tr>\n",
       "    <tr>\n",
       "      <th>...</th>\n",
       "      <td>...</td>\n",
       "    </tr>\n",
       "    <tr>\n",
       "      <th>877</th>\n",
       "      <td>0</td>\n",
       "    </tr>\n",
       "    <tr>\n",
       "      <th>878</th>\n",
       "      <td>0</td>\n",
       "    </tr>\n",
       "    <tr>\n",
       "      <th>879</th>\n",
       "      <td>0</td>\n",
       "    </tr>\n",
       "    <tr>\n",
       "      <th>880</th>\n",
       "      <td>1</td>\n",
       "    </tr>\n",
       "    <tr>\n",
       "      <th>881</th>\n",
       "      <td>1</td>\n",
       "    </tr>\n",
       "  </tbody>\n",
       "</table>\n",
       "<p>882 rows × 1 columns</p>\n",
       "</div>"
      ],
      "text/plain": [
       "     New_Priority\n",
       "0               0\n",
       "1               1\n",
       "2               1\n",
       "3               1\n",
       "4               0\n",
       "..            ...\n",
       "877             0\n",
       "878             0\n",
       "879             0\n",
       "880             1\n",
       "881             1\n",
       "\n",
       "[882 rows x 1 columns]"
      ]
     },
     "execution_count": 13,
     "metadata": {},
     "output_type": "execute_result"
    }
   ],
   "source": [
    "target = target.drop(columns=['Unnamed: 0'])\n",
    "target"
   ]
  },
  {
   "cell_type": "code",
   "execution_count": 14,
   "id": "7b48e6db",
   "metadata": {},
   "outputs": [
    {
     "data": {
      "text/plain": [
       "0    711\n",
       "1    171\n",
       "Name: New_Priority, dtype: int64"
      ]
     },
     "execution_count": 14,
     "metadata": {},
     "output_type": "execute_result"
    }
   ],
   "source": [
    "#The problem is the imbalanced data and this will need to be addressed\n",
    "target.New_Priority.value_counts()"
   ]
  },
  {
   "cell_type": "code",
   "execution_count": 15,
   "id": "00eca27f",
   "metadata": {},
   "outputs": [
    {
     "data": {
      "text/html": [
       "<div>\n",
       "<style scoped>\n",
       "    .dataframe tbody tr th:only-of-type {\n",
       "        vertical-align: middle;\n",
       "    }\n",
       "\n",
       "    .dataframe tbody tr th {\n",
       "        vertical-align: top;\n",
       "    }\n",
       "\n",
       "    .dataframe thead th {\n",
       "        text-align: right;\n",
       "    }\n",
       "</style>\n",
       "<table border=\"1\" class=\"dataframe\">\n",
       "  <thead>\n",
       "    <tr style=\"text-align: right;\">\n",
       "      <th></th>\n",
       "      <th>county_FIPS</th>\n",
       "      <th>Geographic_Area_Name</th>\n",
       "      <th>County</th>\n",
       "      <th>GEOID</th>\n",
       "      <th>Total_Population</th>\n",
       "      <th>White</th>\n",
       "      <th>Black</th>\n",
       "      <th>Native</th>\n",
       "      <th>Asian</th>\n",
       "      <th>Pacific_Islander</th>\n",
       "      <th>...</th>\n",
       "      <th>Shannon_Race_DI</th>\n",
       "      <th>Shannon_Ethnic_DI</th>\n",
       "      <th>Gini_Index</th>\n",
       "      <th>County_FIPS</th>\n",
       "      <th>Num_Contaminants</th>\n",
       "      <th>Sum_Population_Served</th>\n",
       "      <th>Sum_ContaminantFactor</th>\n",
       "      <th>Min_Contaminant_Factor</th>\n",
       "      <th>Max_Contaminant_Factor</th>\n",
       "      <th>Avg_Contaminant_Factor</th>\n",
       "    </tr>\n",
       "  </thead>\n",
       "  <tbody>\n",
       "    <tr>\n",
       "      <th>855</th>\n",
       "      <td>6027</td>\n",
       "      <td>Inyo County, California</td>\n",
       "      <td>Inyo County</td>\n",
       "      <td>0500000US06027</td>\n",
       "      <td>19016</td>\n",
       "      <td>11752</td>\n",
       "      <td>98</td>\n",
       "      <td>2474</td>\n",
       "      <td>283</td>\n",
       "      <td>18</td>\n",
       "      <td>...</td>\n",
       "      <td>1.496515</td>\n",
       "      <td>0.540880</td>\n",
       "      <td>0.4277</td>\n",
       "      <td>6027</td>\n",
       "      <td>9</td>\n",
       "      <td>2131</td>\n",
       "      <td>16622</td>\n",
       "      <td>0</td>\n",
       "      <td>969</td>\n",
       "      <td>1846.89</td>\n",
       "    </tr>\n",
       "    <tr>\n",
       "      <th>444</th>\n",
       "      <td>20007</td>\n",
       "      <td>Barber County, Kansas</td>\n",
       "      <td>Barber County</td>\n",
       "      <td>0500000US20007</td>\n",
       "      <td>4228</td>\n",
       "      <td>3857</td>\n",
       "      <td>9</td>\n",
       "      <td>35</td>\n",
       "      <td>17</td>\n",
       "      <td>6</td>\n",
       "      <td>...</td>\n",
       "      <td>0.529199</td>\n",
       "      <td>0.162555</td>\n",
       "      <td>0.4606</td>\n",
       "      <td>20007</td>\n",
       "      <td>6</td>\n",
       "      <td>3559</td>\n",
       "      <td>10378</td>\n",
       "      <td>1045</td>\n",
       "      <td>690</td>\n",
       "      <td>1729.67</td>\n",
       "    </tr>\n",
       "    <tr>\n",
       "      <th>97</th>\n",
       "      <td>46079</td>\n",
       "      <td>Lake County, South Dakota</td>\n",
       "      <td>Lake County</td>\n",
       "      <td>0500000US46079</td>\n",
       "      <td>11059</td>\n",
       "      <td>10138</td>\n",
       "      <td>108</td>\n",
       "      <td>129</td>\n",
       "      <td>72</td>\n",
       "      <td>13</td>\n",
       "      <td>...</td>\n",
       "      <td>0.568949</td>\n",
       "      <td>0.212404</td>\n",
       "      <td>0.4193</td>\n",
       "      <td>46079</td>\n",
       "      <td>3</td>\n",
       "      <td>3275</td>\n",
       "      <td>1710</td>\n",
       "      <td>441</td>\n",
       "      <td>658</td>\n",
       "      <td>570.00</td>\n",
       "    </tr>\n",
       "    <tr>\n",
       "      <th>213</th>\n",
       "      <td>49023</td>\n",
       "      <td>Juab County, Utah</td>\n",
       "      <td>Juab County</td>\n",
       "      <td>0500000US49023</td>\n",
       "      <td>11786</td>\n",
       "      <td>10972</td>\n",
       "      <td>19</td>\n",
       "      <td>99</td>\n",
       "      <td>35</td>\n",
       "      <td>45</td>\n",
       "      <td>...</td>\n",
       "      <td>0.489140</td>\n",
       "      <td>0.194675</td>\n",
       "      <td>0.3684</td>\n",
       "      <td>49023</td>\n",
       "      <td>1</td>\n",
       "      <td>851</td>\n",
       "      <td>46</td>\n",
       "      <td>46</td>\n",
       "      <td>46</td>\n",
       "      <td>46.00</td>\n",
       "    </tr>\n",
       "    <tr>\n",
       "      <th>794</th>\n",
       "      <td>42101</td>\n",
       "      <td>Philadelphia County, Pennsylvania</td>\n",
       "      <td>Philadelphia County</td>\n",
       "      <td>0500000US42101</td>\n",
       "      <td>1603797</td>\n",
       "      <td>582636</td>\n",
       "      <td>630463</td>\n",
       "      <td>6213</td>\n",
       "      <td>133554</td>\n",
       "      <td>933</td>\n",
       "      <td>...</td>\n",
       "      <td>1.647785</td>\n",
       "      <td>0.420222</td>\n",
       "      <td>0.5170</td>\n",
       "      <td>42101</td>\n",
       "      <td>2</td>\n",
       "      <td>69144</td>\n",
       "      <td>1411</td>\n",
       "      <td>1117</td>\n",
       "      <td>294</td>\n",
       "      <td>705.50</td>\n",
       "    </tr>\n",
       "    <tr>\n",
       "      <th>359</th>\n",
       "      <td>17003</td>\n",
       "      <td>Alexander County, Illinois</td>\n",
       "      <td>Alexander County</td>\n",
       "      <td>0500000US17003</td>\n",
       "      <td>5240</td>\n",
       "      <td>3311</td>\n",
       "      <td>1618</td>\n",
       "      <td>25</td>\n",
       "      <td>7</td>\n",
       "      <td>1</td>\n",
       "      <td>...</td>\n",
       "      <td>0.926251</td>\n",
       "      <td>0.080584</td>\n",
       "      <td>0.4722</td>\n",
       "      <td>17003</td>\n",
       "      <td>5</td>\n",
       "      <td>5568</td>\n",
       "      <td>2372</td>\n",
       "      <td>265</td>\n",
       "      <td>686</td>\n",
       "      <td>474.40</td>\n",
       "    </tr>\n",
       "    <tr>\n",
       "      <th>439</th>\n",
       "      <td>17201</td>\n",
       "      <td>Winnebago County, Illinois</td>\n",
       "      <td>Winnebago County</td>\n",
       "      <td>0500000US17201</td>\n",
       "      <td>285350</td>\n",
       "      <td>191124</td>\n",
       "      <td>39160</td>\n",
       "      <td>1633</td>\n",
       "      <td>8040</td>\n",
       "      <td>85</td>\n",
       "      <td>...</td>\n",
       "      <td>1.352421</td>\n",
       "      <td>0.411293</td>\n",
       "      <td>0.4486</td>\n",
       "      <td>17201</td>\n",
       "      <td>15</td>\n",
       "      <td>7965</td>\n",
       "      <td>3503</td>\n",
       "      <td>105</td>\n",
       "      <td>84</td>\n",
       "      <td>233.53</td>\n",
       "    </tr>\n",
       "    <tr>\n",
       "      <th>770</th>\n",
       "      <td>42053</td>\n",
       "      <td>Forest County, Pennsylvania</td>\n",
       "      <td>Forest County</td>\n",
       "      <td>0500000US42053</td>\n",
       "      <td>6973</td>\n",
       "      <td>5296</td>\n",
       "      <td>1238</td>\n",
       "      <td>10</td>\n",
       "      <td>20</td>\n",
       "      <td>1</td>\n",
       "      <td>...</td>\n",
       "      <td>0.890408</td>\n",
       "      <td>0.187538</td>\n",
       "      <td>0.3909</td>\n",
       "      <td>42053</td>\n",
       "      <td>3</td>\n",
       "      <td>5380</td>\n",
       "      <td>1822</td>\n",
       "      <td>110</td>\n",
       "      <td>899</td>\n",
       "      <td>607.33</td>\n",
       "    </tr>\n",
       "    <tr>\n",
       "      <th>771</th>\n",
       "      <td>42055</td>\n",
       "      <td>Franklin County, Pennsylvania</td>\n",
       "      <td>Franklin County</td>\n",
       "      <td>0500000US42055</td>\n",
       "      <td>155932</td>\n",
       "      <td>134524</td>\n",
       "      <td>5339</td>\n",
       "      <td>489</td>\n",
       "      <td>1443</td>\n",
       "      <td>53</td>\n",
       "      <td>...</td>\n",
       "      <td>0.768164</td>\n",
       "      <td>0.251123</td>\n",
       "      <td>0.4102</td>\n",
       "      <td>42055</td>\n",
       "      <td>14</td>\n",
       "      <td>8108</td>\n",
       "      <td>3984</td>\n",
       "      <td>111</td>\n",
       "      <td>99</td>\n",
       "      <td>284.57</td>\n",
       "    </tr>\n",
       "    <tr>\n",
       "      <th>15</th>\n",
       "      <td>38035</td>\n",
       "      <td>Grand Forks County, North Dakota</td>\n",
       "      <td>Grand Forks County</td>\n",
       "      <td>0500000US38035</td>\n",
       "      <td>73170</td>\n",
       "      <td>60056</td>\n",
       "      <td>3066</td>\n",
       "      <td>1811</td>\n",
       "      <td>2496</td>\n",
       "      <td>60</td>\n",
       "      <td>...</td>\n",
       "      <td>0.892241</td>\n",
       "      <td>0.198455</td>\n",
       "      <td>0.4603</td>\n",
       "      <td>38035</td>\n",
       "      <td>6</td>\n",
       "      <td>12238</td>\n",
       "      <td>4142</td>\n",
       "      <td>78</td>\n",
       "      <td>1627</td>\n",
       "      <td>690.33</td>\n",
       "    </tr>\n",
       "    <tr>\n",
       "      <th>416</th>\n",
       "      <td>17139</td>\n",
       "      <td>Moultrie County, Illinois</td>\n",
       "      <td>Moultrie County</td>\n",
       "      <td>0500000US17139</td>\n",
       "      <td>14526</td>\n",
       "      <td>13815</td>\n",
       "      <td>85</td>\n",
       "      <td>27</td>\n",
       "      <td>50</td>\n",
       "      <td>2</td>\n",
       "      <td>...</td>\n",
       "      <td>0.308762</td>\n",
       "      <td>0.070905</td>\n",
       "      <td>0.4000</td>\n",
       "      <td>17139</td>\n",
       "      <td>12</td>\n",
       "      <td>13227</td>\n",
       "      <td>16763</td>\n",
       "      <td>1050</td>\n",
       "      <td>833</td>\n",
       "      <td>1396.92</td>\n",
       "    </tr>\n",
       "    <tr>\n",
       "      <th>91</th>\n",
       "      <td>46051</td>\n",
       "      <td>Grant County, South Dakota</td>\n",
       "      <td>Grant County</td>\n",
       "      <td>0500000US46051</td>\n",
       "      <td>7556</td>\n",
       "      <td>6846</td>\n",
       "      <td>4</td>\n",
       "      <td>91</td>\n",
       "      <td>17</td>\n",
       "      <td>4</td>\n",
       "      <td>...</td>\n",
       "      <td>0.595140</td>\n",
       "      <td>0.236560</td>\n",
       "      <td>0.4208</td>\n",
       "      <td>46051</td>\n",
       "      <td>8</td>\n",
       "      <td>7714</td>\n",
       "      <td>1887</td>\n",
       "      <td>35</td>\n",
       "      <td>750</td>\n",
       "      <td>235.88</td>\n",
       "    </tr>\n",
       "    <tr>\n",
       "      <th>799</th>\n",
       "      <td>42111</td>\n",
       "      <td>Somerset County, Pennsylvania</td>\n",
       "      <td>Somerset County</td>\n",
       "      <td>0500000US42111</td>\n",
       "      <td>74129</td>\n",
       "      <td>69290</td>\n",
       "      <td>1882</td>\n",
       "      <td>70</td>\n",
       "      <td>201</td>\n",
       "      <td>15</td>\n",
       "      <td>...</td>\n",
       "      <td>0.378814</td>\n",
       "      <td>0.073617</td>\n",
       "      <td>0.4221</td>\n",
       "      <td>42111</td>\n",
       "      <td>27</td>\n",
       "      <td>93037</td>\n",
       "      <td>11138</td>\n",
       "      <td>1</td>\n",
       "      <td>94</td>\n",
       "      <td>412.52</td>\n",
       "    </tr>\n",
       "    <tr>\n",
       "      <th>138</th>\n",
       "      <td>47187</td>\n",
       "      <td>Williamson County, Tennessee</td>\n",
       "      <td>Williamson County</td>\n",
       "      <td>0500000US47187</td>\n",
       "      <td>247726</td>\n",
       "      <td>203600</td>\n",
       "      <td>9877</td>\n",
       "      <td>575</td>\n",
       "      <td>12954</td>\n",
       "      <td>118</td>\n",
       "      <td>...</td>\n",
       "      <td>0.879800</td>\n",
       "      <td>0.220222</td>\n",
       "      <td>0.4472</td>\n",
       "      <td>47187</td>\n",
       "      <td>6</td>\n",
       "      <td>267751</td>\n",
       "      <td>7116</td>\n",
       "      <td>981</td>\n",
       "      <td>1389</td>\n",
       "      <td>1186.00</td>\n",
       "    </tr>\n",
       "    <tr>\n",
       "      <th>816</th>\n",
       "      <td>54019</td>\n",
       "      <td>Fayette County, West Virginia</td>\n",
       "      <td>Fayette County</td>\n",
       "      <td>0500000US54019</td>\n",
       "      <td>40488</td>\n",
       "      <td>36483</td>\n",
       "      <td>1681</td>\n",
       "      <td>105</td>\n",
       "      <td>106</td>\n",
       "      <td>3</td>\n",
       "      <td>...</td>\n",
       "      <td>0.485000</td>\n",
       "      <td>0.069228</td>\n",
       "      <td>0.4377</td>\n",
       "      <td>54019</td>\n",
       "      <td>11</td>\n",
       "      <td>39693</td>\n",
       "      <td>10213</td>\n",
       "      <td>1052</td>\n",
       "      <td>636</td>\n",
       "      <td>928.45</td>\n",
       "    </tr>\n",
       "    <tr>\n",
       "      <th>557</th>\n",
       "      <td>26129</td>\n",
       "      <td>Ogemaw County, Michigan</td>\n",
       "      <td>Ogemaw County</td>\n",
       "      <td>0500000US26129</td>\n",
       "      <td>20770</td>\n",
       "      <td>19509</td>\n",
       "      <td>64</td>\n",
       "      <td>124</td>\n",
       "      <td>58</td>\n",
       "      <td>9</td>\n",
       "      <td>...</td>\n",
       "      <td>0.373108</td>\n",
       "      <td>0.102059</td>\n",
       "      <td>0.4293</td>\n",
       "      <td>26129</td>\n",
       "      <td>2</td>\n",
       "      <td>2200</td>\n",
       "      <td>2570</td>\n",
       "      <td>2042</td>\n",
       "      <td>528</td>\n",
       "      <td>1285.00</td>\n",
       "    </tr>\n",
       "    <tr>\n",
       "      <th>319</th>\n",
       "      <td>1005</td>\n",
       "      <td>Barbour County, Alabama</td>\n",
       "      <td>Barbour County</td>\n",
       "      <td>0500000US01005</td>\n",
       "      <td>25223</td>\n",
       "      <td>11317</td>\n",
       "      <td>11934</td>\n",
       "      <td>117</td>\n",
       "      <td>118</td>\n",
       "      <td>2</td>\n",
       "      <td>...</td>\n",
       "      <td>1.164057</td>\n",
       "      <td>0.226599</td>\n",
       "      <td>0.5047</td>\n",
       "      <td>1005</td>\n",
       "      <td>3</td>\n",
       "      <td>56649</td>\n",
       "      <td>1414</td>\n",
       "      <td>1132</td>\n",
       "      <td>144</td>\n",
       "      <td>471.33</td>\n",
       "    </tr>\n",
       "    <tr>\n",
       "      <th>430</th>\n",
       "      <td>17179</td>\n",
       "      <td>Tazewell County, Illinois</td>\n",
       "      <td>Tazewell County</td>\n",
       "      <td>0500000US17179</td>\n",
       "      <td>131343</td>\n",
       "      <td>121078</td>\n",
       "      <td>1684</td>\n",
       "      <td>346</td>\n",
       "      <td>1091</td>\n",
       "      <td>52</td>\n",
       "      <td>...</td>\n",
       "      <td>0.458290</td>\n",
       "      <td>0.113470</td>\n",
       "      <td>0.4156</td>\n",
       "      <td>17179</td>\n",
       "      <td>22</td>\n",
       "      <td>20967</td>\n",
       "      <td>14927</td>\n",
       "      <td>1003</td>\n",
       "      <td>917</td>\n",
       "      <td>678.50</td>\n",
       "    </tr>\n",
       "    <tr>\n",
       "      <th>102</th>\n",
       "      <td>46089</td>\n",
       "      <td>McPherson County, South Dakota</td>\n",
       "      <td>McPherson County</td>\n",
       "      <td>0500000US46089</td>\n",
       "      <td>2411</td>\n",
       "      <td>2275</td>\n",
       "      <td>4</td>\n",
       "      <td>29</td>\n",
       "      <td>5</td>\n",
       "      <td>3</td>\n",
       "      <td>...</td>\n",
       "      <td>0.382699</td>\n",
       "      <td>0.105658</td>\n",
       "      <td>0.4873</td>\n",
       "      <td>46089</td>\n",
       "      <td>2</td>\n",
       "      <td>1187</td>\n",
       "      <td>1361</td>\n",
       "      <td>608</td>\n",
       "      <td>753</td>\n",
       "      <td>680.50</td>\n",
       "    </tr>\n",
       "    <tr>\n",
       "      <th>289</th>\n",
       "      <td>55119</td>\n",
       "      <td>Taylor County, Wisconsin</td>\n",
       "      <td>Taylor County</td>\n",
       "      <td>0500000US55119</td>\n",
       "      <td>19913</td>\n",
       "      <td>18878</td>\n",
       "      <td>68</td>\n",
       "      <td>43</td>\n",
       "      <td>64</td>\n",
       "      <td>6</td>\n",
       "      <td>...</td>\n",
       "      <td>0.367933</td>\n",
       "      <td>0.129396</td>\n",
       "      <td>0.4241</td>\n",
       "      <td>55119</td>\n",
       "      <td>10</td>\n",
       "      <td>16726</td>\n",
       "      <td>3112</td>\n",
       "      <td>48</td>\n",
       "      <td>874</td>\n",
       "      <td>311.20</td>\n",
       "    </tr>\n",
       "  </tbody>\n",
       "</table>\n",
       "<p>20 rows × 37 columns</p>\n",
       "</div>"
      ],
      "text/plain": [
       "     county_FIPS               Geographic_Area_Name               County  \\\n",
       "855         6027            Inyo County, California          Inyo County   \n",
       "444        20007              Barber County, Kansas        Barber County   \n",
       "97         46079          Lake County, South Dakota          Lake County   \n",
       "213        49023                  Juab County, Utah          Juab County   \n",
       "794        42101  Philadelphia County, Pennsylvania  Philadelphia County   \n",
       "359        17003         Alexander County, Illinois     Alexander County   \n",
       "439        17201         Winnebago County, Illinois     Winnebago County   \n",
       "770        42053        Forest County, Pennsylvania        Forest County   \n",
       "771        42055      Franklin County, Pennsylvania      Franklin County   \n",
       "15         38035   Grand Forks County, North Dakota   Grand Forks County   \n",
       "416        17139          Moultrie County, Illinois      Moultrie County   \n",
       "91         46051         Grant County, South Dakota         Grant County   \n",
       "799        42111      Somerset County, Pennsylvania      Somerset County   \n",
       "138        47187       Williamson County, Tennessee    Williamson County   \n",
       "816        54019      Fayette County, West Virginia       Fayette County   \n",
       "557        26129            Ogemaw County, Michigan        Ogemaw County   \n",
       "319         1005            Barbour County, Alabama       Barbour County   \n",
       "430        17179          Tazewell County, Illinois      Tazewell County   \n",
       "102        46089     McPherson County, South Dakota     McPherson County   \n",
       "289        55119           Taylor County, Wisconsin        Taylor County   \n",
       "\n",
       "              GEOID  Total_Population   White   Black  Native   Asian  \\\n",
       "855  0500000US06027             19016   11752      98    2474     283   \n",
       "444  0500000US20007              4228    3857       9      35      17   \n",
       "97   0500000US46079             11059   10138     108     129      72   \n",
       "213  0500000US49023             11786   10972      19      99      35   \n",
       "794  0500000US42101           1603797  582636  630463    6213  133554   \n",
       "359  0500000US17003              5240    3311    1618      25       7   \n",
       "439  0500000US17201            285350  191124   39160    1633    8040   \n",
       "770  0500000US42053              6973    5296    1238      10      20   \n",
       "771  0500000US42055            155932  134524    5339     489    1443   \n",
       "15   0500000US38035             73170   60056    3066    1811    2496   \n",
       "416  0500000US17139             14526   13815      85      27      50   \n",
       "91   0500000US46051              7556    6846       4      91      17   \n",
       "799  0500000US42111             74129   69290    1882      70     201   \n",
       "138  0500000US47187            247726  203600    9877     575   12954   \n",
       "816  0500000US54019             40488   36483    1681     105     106   \n",
       "557  0500000US26129             20770   19509      64     124      58   \n",
       "319  0500000US01005             25223   11317   11934     117     118   \n",
       "430  0500000US17179            131343  121078    1684     346    1091   \n",
       "102  0500000US46089              2411    2275       4      29       5   \n",
       "289  0500000US55119             19913   18878      68      43      64   \n",
       "\n",
       "     Pacific_Islander  ...  Shannon_Race_DI  Shannon_Ethnic_DI  Gini_Index  \\\n",
       "855                18  ...         1.496515           0.540880      0.4277   \n",
       "444                 6  ...         0.529199           0.162555      0.4606   \n",
       "97                 13  ...         0.568949           0.212404      0.4193   \n",
       "213                45  ...         0.489140           0.194675      0.3684   \n",
       "794               933  ...         1.647785           0.420222      0.5170   \n",
       "359                 1  ...         0.926251           0.080584      0.4722   \n",
       "439                85  ...         1.352421           0.411293      0.4486   \n",
       "770                 1  ...         0.890408           0.187538      0.3909   \n",
       "771                53  ...         0.768164           0.251123      0.4102   \n",
       "15                 60  ...         0.892241           0.198455      0.4603   \n",
       "416                 2  ...         0.308762           0.070905      0.4000   \n",
       "91                  4  ...         0.595140           0.236560      0.4208   \n",
       "799                15  ...         0.378814           0.073617      0.4221   \n",
       "138               118  ...         0.879800           0.220222      0.4472   \n",
       "816                 3  ...         0.485000           0.069228      0.4377   \n",
       "557                 9  ...         0.373108           0.102059      0.4293   \n",
       "319                 2  ...         1.164057           0.226599      0.5047   \n",
       "430                52  ...         0.458290           0.113470      0.4156   \n",
       "102                 3  ...         0.382699           0.105658      0.4873   \n",
       "289                 6  ...         0.367933           0.129396      0.4241   \n",
       "\n",
       "     County_FIPS  Num_Contaminants  Sum_Population_Served  \\\n",
       "855         6027                 9                   2131   \n",
       "444        20007                 6                   3559   \n",
       "97         46079                 3                   3275   \n",
       "213        49023                 1                    851   \n",
       "794        42101                 2                  69144   \n",
       "359        17003                 5                   5568   \n",
       "439        17201                15                   7965   \n",
       "770        42053                 3                   5380   \n",
       "771        42055                14                   8108   \n",
       "15         38035                 6                  12238   \n",
       "416        17139                12                  13227   \n",
       "91         46051                 8                   7714   \n",
       "799        42111                27                  93037   \n",
       "138        47187                 6                 267751   \n",
       "816        54019                11                  39693   \n",
       "557        26129                 2                   2200   \n",
       "319         1005                 3                  56649   \n",
       "430        17179                22                  20967   \n",
       "102        46089                 2                   1187   \n",
       "289        55119                10                  16726   \n",
       "\n",
       "     Sum_ContaminantFactor  Min_Contaminant_Factor  Max_Contaminant_Factor  \\\n",
       "855                  16622                       0                     969   \n",
       "444                  10378                    1045                     690   \n",
       "97                    1710                     441                     658   \n",
       "213                     46                      46                      46   \n",
       "794                   1411                    1117                     294   \n",
       "359                   2372                     265                     686   \n",
       "439                   3503                     105                      84   \n",
       "770                   1822                     110                     899   \n",
       "771                   3984                     111                      99   \n",
       "15                    4142                      78                    1627   \n",
       "416                  16763                    1050                     833   \n",
       "91                    1887                      35                     750   \n",
       "799                  11138                       1                      94   \n",
       "138                   7116                     981                    1389   \n",
       "816                  10213                    1052                     636   \n",
       "557                   2570                    2042                     528   \n",
       "319                   1414                    1132                     144   \n",
       "430                  14927                    1003                     917   \n",
       "102                   1361                     608                     753   \n",
       "289                   3112                      48                     874   \n",
       "\n",
       "     Avg_Contaminant_Factor  \n",
       "855                 1846.89  \n",
       "444                 1729.67  \n",
       "97                   570.00  \n",
       "213                   46.00  \n",
       "794                  705.50  \n",
       "359                  474.40  \n",
       "439                  233.53  \n",
       "770                  607.33  \n",
       "771                  284.57  \n",
       "15                   690.33  \n",
       "416                 1396.92  \n",
       "91                   235.88  \n",
       "799                  412.52  \n",
       "138                 1186.00  \n",
       "816                  928.45  \n",
       "557                 1285.00  \n",
       "319                  471.33  \n",
       "430                  678.50  \n",
       "102                  680.50  \n",
       "289                  311.20  \n",
       "\n",
       "[20 rows x 37 columns]"
      ]
     },
     "execution_count": 15,
     "metadata": {},
     "output_type": "execute_result"
    }
   ],
   "source": [
    "df.sample(20)"
   ]
  },
  {
   "cell_type": "code",
   "execution_count": 16,
   "id": "3a97eabc",
   "metadata": {},
   "outputs": [
    {
     "data": {
      "text/plain": [
       "county_FIPS                 int64\n",
       "Geographic_Area_Name       object\n",
       "County                     object\n",
       "GEOID                      object\n",
       "Total_Population            int64\n",
       "White                       int64\n",
       "Black                       int64\n",
       "Native                      int64\n",
       "Asian                       int64\n",
       "Pacific_Islander            int64\n",
       "Other                       int64\n",
       "Two_or_more_Races           int64\n",
       "Hispanic                    int64\n",
       "Not_Hispanic                int64\n",
       "Not_White                   int64\n",
       "pct_White                 float64\n",
       "pct_Black                 float64\n",
       "pct_Native                float64\n",
       "pct_Asian                 float64\n",
       "pct_Pacific_Islander      float64\n",
       "pct_Other                 float64\n",
       "pct_Not_White             float64\n",
       "pct_Hispanic              float64\n",
       "pct_Not_Hispanic          float64\n",
       "pct_Two_or_more_Races     float64\n",
       "Simpson_Race_DI           float64\n",
       "Simpson_Ethnic_DI         float64\n",
       "Shannon_Race_DI           float64\n",
       "Shannon_Ethnic_DI         float64\n",
       "Gini_Index                float64\n",
       "County_FIPS                object\n",
       "Num_Contaminants            int64\n",
       "Sum_Population_Served       int64\n",
       "Sum_ContaminantFactor       int64\n",
       "Min_Contaminant_Factor     object\n",
       "Max_Contaminant_Factor     object\n",
       "Avg_Contaminant_Factor    float64\n",
       "dtype: object"
      ]
     },
     "execution_count": 16,
     "metadata": {},
     "output_type": "execute_result"
    }
   ],
   "source": [
    "df.dtypes"
   ]
  },
  {
   "cell_type": "code",
   "execution_count": 17,
   "id": "8be5e37f",
   "metadata": {},
   "outputs": [
    {
     "data": {
      "text/plain": [
       "Index(['county_FIPS', 'Geographic_Area_Name', 'County', 'GEOID',\n",
       "       'Total_Population', 'White', 'Black', 'Native', 'Asian',\n",
       "       'Pacific_Islander', 'Other', 'Two_or_more_Races', 'Hispanic',\n",
       "       'Not_Hispanic', 'Not_White', 'pct_White', 'pct_Black', 'pct_Native',\n",
       "       'pct_Asian', 'pct_Pacific_Islander', 'pct_Other', 'pct_Not_White',\n",
       "       'pct_Hispanic', 'pct_Not_Hispanic', 'pct_Two_or_more_Races',\n",
       "       'Simpson_Race_DI', 'Simpson_Ethnic_DI', 'Shannon_Race_DI',\n",
       "       'Shannon_Ethnic_DI', 'Gini_Index', 'County_FIPS', 'Num_Contaminants',\n",
       "       'Sum_Population_Served', 'Sum_ContaminantFactor',\n",
       "       'Min_Contaminant_Factor', 'Max_Contaminant_Factor',\n",
       "       'Avg_Contaminant_Factor'],\n",
       "      dtype='object')"
      ]
     },
     "execution_count": 17,
     "metadata": {},
     "output_type": "execute_result"
    }
   ],
   "source": [
    "df.columns"
   ]
  },
  {
   "cell_type": "markdown",
   "id": "25164da5",
   "metadata": {},
   "source": [
    "## Feature Selection"
   ]
  },
  {
   "cell_type": "code",
   "execution_count": 18,
   "id": "39874d30",
   "metadata": {},
   "outputs": [],
   "source": [
    "df_model = df.drop(columns=['county_FIPS', \n",
    "                            'Geographic_Area_Name', \n",
    "                            'County', 'GEOID',\n",
    "                            'Total_Population',\n",
    "                            'White', \n",
    "                            'Black', \n",
    "                            'Native', \n",
    "                            'Asian',\n",
    "                            'Pacific_Islander', \n",
    "                            'Other', \n",
    "                            'Two_or_more_Races', \n",
    "                            'Hispanic',\n",
    "                            'Not_Hispanic', \n",
    "                            'Not_White',\n",
    "                            'pct_White', \n",
    "                            'pct_Black', \n",
    "                            'pct_Native',\n",
    "                            'pct_Asian', \n",
    "                            'pct_Pacific_Islander', \n",
    "                            'pct_Other', \n",
    "                            'pct_Not_White',\n",
    "                            'pct_Hispanic', \n",
    "                            'pct_Not_Hispanic', \n",
    "                            'pct_Two_or_more_Races',\n",
    "                            'County_FIPS',\n",
    "                            'Sum_Population_Served',\n",
    "                            'Min_Contaminant_Factor', \n",
    "                            'Max_Contaminant_Factor',\n",
    "                            ])"
   ]
  },
  {
   "cell_type": "code",
   "execution_count": 19,
   "id": "54e34080",
   "metadata": {},
   "outputs": [
    {
     "data": {
      "text/plain": [
       "Simpson_Race_DI           float64\n",
       "Simpson_Ethnic_DI         float64\n",
       "Shannon_Race_DI           float64\n",
       "Shannon_Ethnic_DI         float64\n",
       "Gini_Index                float64\n",
       "Num_Contaminants            int64\n",
       "Sum_ContaminantFactor       int64\n",
       "Avg_Contaminant_Factor    float64\n",
       "dtype: object"
      ]
     },
     "execution_count": 19,
     "metadata": {},
     "output_type": "execute_result"
    }
   ],
   "source": [
    "#Check to make sure the data types don't need fixing\n",
    "df_model.dtypes"
   ]
  },
  {
   "cell_type": "code",
   "execution_count": 20,
   "id": "9b9bb2f8",
   "metadata": {},
   "outputs": [
    {
     "data": {
      "text/plain": [
       "Simpson_Race_DI           0\n",
       "Simpson_Ethnic_DI         0\n",
       "Shannon_Race_DI           0\n",
       "Shannon_Ethnic_DI         0\n",
       "Gini_Index                0\n",
       "Num_Contaminants          0\n",
       "Sum_ContaminantFactor     0\n",
       "Avg_Contaminant_Factor    0\n",
       "dtype: int64"
      ]
     },
     "execution_count": 20,
     "metadata": {},
     "output_type": "execute_result"
    }
   ],
   "source": [
    "#Check for Nan even though cleaning scripts should have excluded them by this stage\n",
    "df_model.isna().sum()"
   ]
  },
  {
   "cell_type": "markdown",
   "id": "fded947e",
   "metadata": {},
   "source": [
    "## Split the data into training and test data"
   ]
  },
  {
   "cell_type": "code",
   "execution_count": 21,
   "id": "27345adb",
   "metadata": {},
   "outputs": [],
   "source": [
    "# Create our features\n",
    "X = df_model\n",
    "# Create our target\n",
    "y = target"
   ]
  },
  {
   "cell_type": "code",
   "execution_count": 22,
   "id": "d94719a9",
   "metadata": {},
   "outputs": [],
   "source": [
    "X_train, X_test, y_train, y_test = train_test_split(X, y, random_state=1)"
   ]
  },
  {
   "cell_type": "code",
   "execution_count": 23,
   "id": "c0a8e86c",
   "metadata": {},
   "outputs": [
    {
     "data": {
      "text/plain": [
       "New_Priority\n",
       "0               533\n",
       "1               128\n",
       "dtype: int64"
      ]
     },
     "execution_count": 23,
     "metadata": {},
     "output_type": "execute_result"
    }
   ],
   "source": [
    "#Check the imbalance in the training set\n",
    "y_train.value_counts()"
   ]
  },
  {
   "cell_type": "markdown",
   "id": "c6d10a5d",
   "metadata": {},
   "source": [
    "## Ensemble Learners"
   ]
  },
  {
   "cell_type": "markdown",
   "id": "845c8f14",
   "metadata": {},
   "source": [
    "### Balanced Random Forest Classifier"
   ]
  },
  {
   "cell_type": "code",
   "execution_count": 24,
   "id": "d023f5b0",
   "metadata": {},
   "outputs": [
    {
     "data": {
      "text/plain": [
       "BalancedRandomForestClassifier(random_state=1)"
      ]
     },
     "execution_count": 24,
     "metadata": {},
     "output_type": "execute_result"
    }
   ],
   "source": [
    "# Resample the training data with the BalancedRandomForestClassifier\n",
    "from imblearn.ensemble import BalancedRandomForestClassifier\n",
    "brf_model = BalancedRandomForestClassifier(n_estimators=100, random_state=1) \n",
    "brf_model.fit(X_train,y_train)"
   ]
  },
  {
   "cell_type": "code",
   "execution_count": 25,
   "id": "b441140e",
   "metadata": {},
   "outputs": [
    {
     "data": {
      "text/plain": [
       "0.9711262085184218"
      ]
     },
     "execution_count": 25,
     "metadata": {},
     "output_type": "execute_result"
    }
   ],
   "source": [
    "# Calculated the balanced accuracy score\n",
    "y_pred = brf_model.predict(X_test)\n",
    "balanced_accuracy_score(y_test, y_pred)"
   ]
  },
  {
   "cell_type": "code",
   "execution_count": 26,
   "id": "3e83e429",
   "metadata": {},
   "outputs": [
    {
     "data": {
      "text/html": [
       "<div>\n",
       "<style scoped>\n",
       "    .dataframe tbody tr th:only-of-type {\n",
       "        vertical-align: middle;\n",
       "    }\n",
       "\n",
       "    .dataframe tbody tr th {\n",
       "        vertical-align: top;\n",
       "    }\n",
       "\n",
       "    .dataframe thead th {\n",
       "        text-align: right;\n",
       "    }\n",
       "</style>\n",
       "<table border=\"1\" class=\"dataframe\">\n",
       "  <thead>\n",
       "    <tr style=\"text-align: right;\">\n",
       "      <th></th>\n",
       "      <th>Predicted High-Priority</th>\n",
       "      <th>Predicted Low-Priority</th>\n",
       "    </tr>\n",
       "  </thead>\n",
       "  <tbody>\n",
       "    <tr>\n",
       "      <th>Actual High-Priority</th>\n",
       "      <td>176</td>\n",
       "      <td>2</td>\n",
       "    </tr>\n",
       "    <tr>\n",
       "      <th>Actual Low-Priority</th>\n",
       "      <td>2</td>\n",
       "      <td>41</td>\n",
       "    </tr>\n",
       "  </tbody>\n",
       "</table>\n",
       "</div>"
      ],
      "text/plain": [
       "                      Predicted High-Priority  Predicted Low-Priority\n",
       "Actual High-Priority                      176                       2\n",
       "Actual Low-Priority                         2                      41"
      ]
     },
     "metadata": {},
     "output_type": "display_data"
    }
   ],
   "source": [
    "# Display the confusion matrix\n",
    "cm = confusion_matrix(y_test, y_pred)\n",
    "\n",
    "cm_df = pd.DataFrame(\n",
    "    cm, index=[\"Actual High-Priority\", \"Actual Low-Priority\"],\n",
    "    columns=[\"Predicted High-Priority\", \"Predicted Low-Priority\"]\n",
    ")\n",
    "\n",
    "# Displaying results\n",
    "display(cm_df)"
   ]
  },
  {
   "cell_type": "code",
   "execution_count": 27,
   "id": "bdf0dbd3",
   "metadata": {},
   "outputs": [
    {
     "name": "stdout",
     "output_type": "stream",
     "text": [
      "                   pre       rec       spe        f1       geo       iba       sup\n",
      "\n",
      "          0       0.99      0.99      0.95      0.99      0.97      0.95       178\n",
      "          1       0.95      0.95      0.99      0.95      0.97      0.94        43\n",
      "\n",
      "avg / total       0.98      0.98      0.96      0.98      0.97      0.94       221\n",
      "\n"
     ]
    }
   ],
   "source": [
    "# Print the imbalanced classification report\n",
    "print(classification_report_imbalanced(y_test, y_pred))"
   ]
  },
  {
   "cell_type": "code",
   "execution_count": 28,
   "id": "7d507590",
   "metadata": {},
   "outputs": [
    {
     "data": {
      "text/plain": [
       "[(0.25164742230451703, 'Simpson_Ethnic_DI'),\n",
       " (0.2301124354492361, 'Shannon_Ethnic_DI'),\n",
       " (0.17001837169753242, 'Sum_ContaminantFactor'),\n",
       " (0.16444440667019664, 'Shannon_Race_DI'),\n",
       " (0.08158584538291756, 'Simpson_Race_DI'),\n",
       " (0.06033022445854257, 'Num_Contaminants'),\n",
       " (0.027388064347540847, 'Avg_Contaminant_Factor'),\n",
       " (0.014473229689516772, 'Gini_Index')]"
      ]
     },
     "execution_count": 28,
     "metadata": {},
     "output_type": "execute_result"
    }
   ],
   "source": [
    "# List the features sorted in descending order by feature importance\n",
    "sorted(zip(brf_model.feature_importances_, X.columns), reverse=True)"
   ]
  },
  {
   "cell_type": "markdown",
   "id": "ab1d7799",
   "metadata": {},
   "source": [
    "### Easy Ensemble AdaBoost Classifier"
   ]
  },
  {
   "cell_type": "code",
   "execution_count": 29,
   "id": "d8e9a445",
   "metadata": {},
   "outputs": [
    {
     "data": {
      "text/plain": [
       "EasyEnsembleClassifier(n_estimators=100, random_state=1)"
      ]
     },
     "execution_count": 29,
     "metadata": {},
     "output_type": "execute_result"
    }
   ],
   "source": [
    "# Train the EasyEnsembleClassifier\n",
    "from imblearn.ensemble import EasyEnsembleClassifier \n",
    "eec = EasyEnsembleClassifier(n_estimators=100, random_state=1)\n",
    "eec.fit(X_train,y_train)"
   ]
  },
  {
   "cell_type": "code",
   "execution_count": 30,
   "id": "fce35e06",
   "metadata": {},
   "outputs": [
    {
     "data": {
      "text/plain": [
       "0.977136137967076"
      ]
     },
     "execution_count": 30,
     "metadata": {},
     "output_type": "execute_result"
    }
   ],
   "source": [
    "# Calculated the balanced accuracy score\n",
    "y_pred = eec.predict(X_test)\n",
    "balanced_accuracy_score(y_test, y_pred)"
   ]
  },
  {
   "cell_type": "code",
   "execution_count": 31,
   "id": "1af7aaab",
   "metadata": {},
   "outputs": [
    {
     "data": {
      "text/html": [
       "<div>\n",
       "<style scoped>\n",
       "    .dataframe tbody tr th:only-of-type {\n",
       "        vertical-align: middle;\n",
       "    }\n",
       "\n",
       "    .dataframe tbody tr th {\n",
       "        vertical-align: top;\n",
       "    }\n",
       "\n",
       "    .dataframe thead th {\n",
       "        text-align: right;\n",
       "    }\n",
       "</style>\n",
       "<table border=\"1\" class=\"dataframe\">\n",
       "  <thead>\n",
       "    <tr style=\"text-align: right;\">\n",
       "      <th></th>\n",
       "      <th>Predicted High-Priority</th>\n",
       "      <th>Predicted Low-Priority</th>\n",
       "    </tr>\n",
       "  </thead>\n",
       "  <tbody>\n",
       "    <tr>\n",
       "      <th>Actual High-Priority</th>\n",
       "      <td>174</td>\n",
       "      <td>4</td>\n",
       "    </tr>\n",
       "    <tr>\n",
       "      <th>Actual Low-Priority</th>\n",
       "      <td>1</td>\n",
       "      <td>42</td>\n",
       "    </tr>\n",
       "  </tbody>\n",
       "</table>\n",
       "</div>"
      ],
      "text/plain": [
       "                      Predicted High-Priority  Predicted Low-Priority\n",
       "Actual High-Priority                      174                       4\n",
       "Actual Low-Priority                         1                      42"
      ]
     },
     "metadata": {},
     "output_type": "display_data"
    }
   ],
   "source": [
    "# Display the confusion matrix\n",
    "cm = confusion_matrix(y_test, y_pred)\n",
    "\n",
    "cm_df = pd.DataFrame(\n",
    "    cm, index=[\"Actual High-Priority\", \"Actual Low-Priority\"],\n",
    "    columns=[\"Predicted High-Priority\", \"Predicted Low-Priority\"]\n",
    ")\n",
    "\n",
    "# Displaying results\n",
    "display(cm_df)"
   ]
  },
  {
   "cell_type": "code",
   "execution_count": 32,
   "id": "49f892f4",
   "metadata": {},
   "outputs": [
    {
     "name": "stdout",
     "output_type": "stream",
     "text": [
      "                   pre       rec       spe        f1       geo       iba       sup\n",
      "\n",
      "          0       0.99      0.98      0.98      0.99      0.98      0.95       178\n",
      "          1       0.91      0.98      0.98      0.94      0.98      0.95        43\n",
      "\n",
      "avg / total       0.98      0.98      0.98      0.98      0.98      0.95       221\n",
      "\n"
     ]
    }
   ],
   "source": [
    "# Print the imbalanced classification report\n",
    "print(classification_report_imbalanced(y_test, y_pred))"
   ]
  },
  {
   "cell_type": "markdown",
   "id": "57c0367c",
   "metadata": {},
   "source": [
    "### Naive Random Oversampling"
   ]
  },
  {
   "cell_type": "code",
   "execution_count": 33,
   "id": "558e33ef",
   "metadata": {},
   "outputs": [
    {
     "data": {
      "text/plain": [
       "New_Priority\n",
       "0               533\n",
       "1               533\n",
       "dtype: int64"
      ]
     },
     "execution_count": 33,
     "metadata": {},
     "output_type": "execute_result"
    }
   ],
   "source": [
    "# implement random oversampling\n",
    "from imblearn.over_sampling import RandomOverSampler\n",
    "# Resample the training data with the RandomOversampler\n",
    "ros = RandomOverSampler(random_state=1)\n",
    "X_resampled, y_resampled = ros.fit_resample(X_train, y_train)\n",
    "\n",
    "y_resampled.value_counts()"
   ]
  },
  {
   "cell_type": "code",
   "execution_count": 34,
   "id": "5ec8d8b1",
   "metadata": {},
   "outputs": [
    {
     "data": {
      "text/plain": [
       "LogisticRegression(random_state=1)"
      ]
     },
     "execution_count": 34,
     "metadata": {},
     "output_type": "execute_result"
    }
   ],
   "source": [
    "from sklearn.linear_model import LogisticRegression\n",
    "# Train the Logistic Regression model using the resampled data\n",
    "model = LogisticRegression(solver='lbfgs', random_state=1)\n",
    "model.fit(X_resampled, y_resampled)"
   ]
  },
  {
   "cell_type": "code",
   "execution_count": 35,
   "id": "774d3e8b",
   "metadata": {},
   "outputs": [],
   "source": [
    "# make predictions\n",
    "y_pred = model.predict(X_test)"
   ]
  },
  {
   "cell_type": "code",
   "execution_count": 36,
   "id": "8afc8a98",
   "metadata": {},
   "outputs": [
    {
     "data": {
      "text/plain": [
       "0.5682649594983016"
      ]
     },
     "execution_count": 36,
     "metadata": {},
     "output_type": "execute_result"
    }
   ],
   "source": [
    "from sklearn.metrics import balanced_accuracy_score\n",
    "#Calculate the balanced accuracy score\n",
    "balanced_accuracy_score(y_test, y_pred)"
   ]
  },
  {
   "cell_type": "code",
   "execution_count": 37,
   "id": "fb1dd463",
   "metadata": {},
   "outputs": [
    {
     "data": {
      "text/html": [
       "<div>\n",
       "<style scoped>\n",
       "    .dataframe tbody tr th:only-of-type {\n",
       "        vertical-align: middle;\n",
       "    }\n",
       "\n",
       "    .dataframe tbody tr th {\n",
       "        vertical-align: top;\n",
       "    }\n",
       "\n",
       "    .dataframe thead th {\n",
       "        text-align: right;\n",
       "    }\n",
       "</style>\n",
       "<table border=\"1\" class=\"dataframe\">\n",
       "  <thead>\n",
       "    <tr style=\"text-align: right;\">\n",
       "      <th></th>\n",
       "      <th>Predicted High-Priority</th>\n",
       "      <th>Predicted Low-Priority</th>\n",
       "    </tr>\n",
       "  </thead>\n",
       "  <tbody>\n",
       "    <tr>\n",
       "      <th>Actual High-Priority</th>\n",
       "      <td>45</td>\n",
       "      <td>133</td>\n",
       "    </tr>\n",
       "    <tr>\n",
       "      <th>Actual Low-Priority</th>\n",
       "      <td>5</td>\n",
       "      <td>38</td>\n",
       "    </tr>\n",
       "  </tbody>\n",
       "</table>\n",
       "</div>"
      ],
      "text/plain": [
       "                      Predicted High-Priority  Predicted Low-Priority\n",
       "Actual High-Priority                       45                     133\n",
       "Actual Low-Priority                         5                      38"
      ]
     },
     "metadata": {},
     "output_type": "display_data"
    }
   ],
   "source": [
    "# Display the confusion matrix\n",
    "cm = confusion_matrix(y_test, y_pred)\n",
    "\n",
    "cm_df = pd.DataFrame(\n",
    "    cm, index=[\"Actual High-Priority\", \"Actual Low-Priority\"],\n",
    "    columns=[\"Predicted High-Priority\", \"Predicted Low-Priority\"]\n",
    ")\n",
    "\n",
    "# Displaying results\n",
    "display(cm_df)"
   ]
  },
  {
   "cell_type": "code",
   "execution_count": 38,
   "id": "f8423493",
   "metadata": {},
   "outputs": [
    {
     "name": "stdout",
     "output_type": "stream",
     "text": [
      "                   pre       rec       spe        f1       geo       iba       sup\n",
      "\n",
      "          0       0.90      0.25      0.88      0.39      0.47      0.21       178\n",
      "          1       0.22      0.88      0.25      0.36      0.47      0.24        43\n",
      "\n",
      "avg / total       0.77      0.38      0.76      0.39      0.47      0.21       221\n",
      "\n"
     ]
    }
   ],
   "source": [
    "# Print the imbalanced classification report\n",
    "from imblearn.metrics import classification_report_imbalanced\n",
    "print(classification_report_imbalanced(y_test, y_pred))"
   ]
  },
  {
   "cell_type": "markdown",
   "id": "4ea81385",
   "metadata": {},
   "source": [
    "### SMOTE Oversampling"
   ]
  },
  {
   "cell_type": "code",
   "execution_count": 39,
   "id": "ad67d063",
   "metadata": {},
   "outputs": [
    {
     "data": {
      "text/plain": [
       "New_Priority\n",
       "0               533\n",
       "1               533\n",
       "dtype: int64"
      ]
     },
     "execution_count": 39,
     "metadata": {},
     "output_type": "execute_result"
    }
   ],
   "source": [
    "# Resample the training data with SMOTE\n",
    "from imblearn.over_sampling import SMOTE\n",
    "X_resampled, y_resampled = SMOTE(random_state=1, sampling_strategy='auto').fit_resample(\n",
    "    X_train, y_train\n",
    ")\n",
    "y_resampled.value_counts()"
   ]
  },
  {
   "cell_type": "code",
   "execution_count": 40,
   "id": "27b71c81",
   "metadata": {},
   "outputs": [
    {
     "data": {
      "text/plain": [
       "LogisticRegression(random_state=1)"
      ]
     },
     "execution_count": 40,
     "metadata": {},
     "output_type": "execute_result"
    }
   ],
   "source": [
    "# Train the Logistic Regression model using the resampled data\n",
    "model = LogisticRegression(solver='lbfgs', random_state=1)\n",
    "model.fit(X_resampled, y_resampled)"
   ]
  },
  {
   "cell_type": "code",
   "execution_count": 41,
   "id": "24e1c930",
   "metadata": {},
   "outputs": [
    {
     "data": {
      "text/plain": [
       "0.5730990331852626"
      ]
     },
     "execution_count": 41,
     "metadata": {},
     "output_type": "execute_result"
    }
   ],
   "source": [
    "# Calculated the balanced accuracy score\n",
    "y_pred = model.predict(X_test)\n",
    "balanced_accuracy_score(y_test, y_pred)"
   ]
  },
  {
   "cell_type": "code",
   "execution_count": 42,
   "id": "472b5229",
   "metadata": {},
   "outputs": [
    {
     "data": {
      "text/html": [
       "<div>\n",
       "<style scoped>\n",
       "    .dataframe tbody tr th:only-of-type {\n",
       "        vertical-align: middle;\n",
       "    }\n",
       "\n",
       "    .dataframe tbody tr th {\n",
       "        vertical-align: top;\n",
       "    }\n",
       "\n",
       "    .dataframe thead th {\n",
       "        text-align: right;\n",
       "    }\n",
       "</style>\n",
       "<table border=\"1\" class=\"dataframe\">\n",
       "  <thead>\n",
       "    <tr style=\"text-align: right;\">\n",
       "      <th></th>\n",
       "      <th>Predicted High-Priority</th>\n",
       "      <th>Predicted Low-Priority</th>\n",
       "    </tr>\n",
       "  </thead>\n",
       "  <tbody>\n",
       "    <tr>\n",
       "      <th>Actual High-Priority</th>\n",
       "      <td>55</td>\n",
       "      <td>123</td>\n",
       "    </tr>\n",
       "    <tr>\n",
       "      <th>Actual Low-Priority</th>\n",
       "      <td>7</td>\n",
       "      <td>36</td>\n",
       "    </tr>\n",
       "  </tbody>\n",
       "</table>\n",
       "</div>"
      ],
      "text/plain": [
       "                      Predicted High-Priority  Predicted Low-Priority\n",
       "Actual High-Priority                       55                     123\n",
       "Actual Low-Priority                         7                      36"
      ]
     },
     "metadata": {},
     "output_type": "display_data"
    }
   ],
   "source": [
    "# Display the confusion matrix\n",
    "cm = confusion_matrix(y_test, y_pred)\n",
    "\n",
    "cm_df = pd.DataFrame(\n",
    "    cm, index=[\"Actual High-Priority\", \"Actual Low-Priority\"],\n",
    "    columns=[\"Predicted High-Priority\", \"Predicted Low-Priority\"]\n",
    ")\n",
    "\n",
    "# Displaying results\n",
    "display(cm_df)"
   ]
  },
  {
   "cell_type": "code",
   "execution_count": 43,
   "id": "6a6ce53c",
   "metadata": {},
   "outputs": [
    {
     "name": "stdout",
     "output_type": "stream",
     "text": [
      "                   pre       rec       spe        f1       geo       iba       sup\n",
      "\n",
      "          0       0.89      0.31      0.84      0.46      0.51      0.25       178\n",
      "          1       0.23      0.84      0.31      0.36      0.51      0.27        43\n",
      "\n",
      "avg / total       0.76      0.41      0.73      0.44      0.51      0.25       221\n",
      "\n"
     ]
    }
   ],
   "source": [
    "# Print the imbalanced classification report\n",
    "print(classification_report_imbalanced(y_test, y_pred))"
   ]
  },
  {
   "cell_type": "markdown",
   "id": "0cc79e2f",
   "metadata": {},
   "source": [
    "## Undersampling\n"
   ]
  },
  {
   "cell_type": "code",
   "execution_count": 44,
   "id": "0c680972",
   "metadata": {},
   "outputs": [
    {
     "data": {
      "text/plain": [
       "Counter({'New_Priority': 1})"
      ]
     },
     "execution_count": 44,
     "metadata": {},
     "output_type": "execute_result"
    }
   ],
   "source": [
    "# Resample the data using the ClusterCentroids resampler\n",
    "from imblearn.under_sampling import ClusterCentroids\n",
    "cc = ClusterCentroids(random_state=1)\n",
    "X_resampled, y_resampled = cc.fit_resample(X_train, y_train)\n",
    "Counter(y_resampled)"
   ]
  },
  {
   "cell_type": "code",
   "execution_count": 45,
   "id": "a6ec7874",
   "metadata": {},
   "outputs": [
    {
     "data": {
      "text/plain": [
       "LogisticRegression(random_state=1)"
      ]
     },
     "execution_count": 45,
     "metadata": {},
     "output_type": "execute_result"
    }
   ],
   "source": [
    "# Train the Logistic Regression model using the resampled data\n",
    "model = LogisticRegression(solver='lbfgs', random_state=1)\n",
    "model.fit(X_resampled, y_resampled)"
   ]
  },
  {
   "cell_type": "code",
   "execution_count": 46,
   "id": "0961b2d7",
   "metadata": {},
   "outputs": [
    {
     "data": {
      "text/plain": [
       "0.7712960543506664"
      ]
     },
     "execution_count": 46,
     "metadata": {},
     "output_type": "execute_result"
    }
   ],
   "source": [
    "# Calculated the balanced accuracy score\n",
    "y_pred = model.predict(X_test)\n",
    "balanced_accuracy_score(y_test, y_pred)"
   ]
  },
  {
   "cell_type": "code",
   "execution_count": 47,
   "id": "a0a4fdad",
   "metadata": {},
   "outputs": [
    {
     "data": {
      "text/html": [
       "<div>\n",
       "<style scoped>\n",
       "    .dataframe tbody tr th:only-of-type {\n",
       "        vertical-align: middle;\n",
       "    }\n",
       "\n",
       "    .dataframe tbody tr th {\n",
       "        vertical-align: top;\n",
       "    }\n",
       "\n",
       "    .dataframe thead th {\n",
       "        text-align: right;\n",
       "    }\n",
       "</style>\n",
       "<table border=\"1\" class=\"dataframe\">\n",
       "  <thead>\n",
       "    <tr style=\"text-align: right;\">\n",
       "      <th></th>\n",
       "      <th>Predicted High-Priority</th>\n",
       "      <th>Predicted Low-Priority</th>\n",
       "    </tr>\n",
       "  </thead>\n",
       "  <tbody>\n",
       "    <tr>\n",
       "      <th>Actual High-Priority</th>\n",
       "      <td>109</td>\n",
       "      <td>69</td>\n",
       "    </tr>\n",
       "    <tr>\n",
       "      <th>Actual Low-Priority</th>\n",
       "      <td>3</td>\n",
       "      <td>40</td>\n",
       "    </tr>\n",
       "  </tbody>\n",
       "</table>\n",
       "</div>"
      ],
      "text/plain": [
       "                      Predicted High-Priority  Predicted Low-Priority\n",
       "Actual High-Priority                      109                      69\n",
       "Actual Low-Priority                         3                      40"
      ]
     },
     "metadata": {},
     "output_type": "display_data"
    }
   ],
   "source": [
    "# Display the confusion matrix\n",
    "cm = confusion_matrix(y_test, y_pred)\n",
    "\n",
    "cm_df = pd.DataFrame(\n",
    "    cm, index=[\"Actual High-Priority\", \"Actual Low-Priority\"],\n",
    "    columns=[\"Predicted High-Priority\", \"Predicted Low-Priority\"]\n",
    ")\n",
    "\n",
    "# Displaying results\n",
    "display(cm_df)"
   ]
  },
  {
   "cell_type": "code",
   "execution_count": 48,
   "id": "ace357ab",
   "metadata": {},
   "outputs": [
    {
     "name": "stdout",
     "output_type": "stream",
     "text": [
      "                   pre       rec       spe        f1       geo       iba       sup\n",
      "\n",
      "          0       0.97      0.61      0.93      0.75      0.75      0.55       178\n",
      "          1       0.37      0.93      0.61      0.53      0.75      0.59        43\n",
      "\n",
      "avg / total       0.86      0.67      0.87      0.71      0.75      0.56       221\n",
      "\n"
     ]
    }
   ],
   "source": [
    "# Print the imbalanced classification report\n",
    "print(classification_report_imbalanced(y_test, y_pred))"
   ]
  },
  {
   "cell_type": "markdown",
   "id": "449fa1ca",
   "metadata": {},
   "source": [
    "## Combination (Over and Under) Sampling\n"
   ]
  },
  {
   "cell_type": "code",
   "execution_count": 49,
   "id": "15164fe9",
   "metadata": {},
   "outputs": [
    {
     "data": {
      "text/plain": [
       "New_Priority\n",
       "0               365\n",
       "1               354\n",
       "dtype: int64"
      ]
     },
     "execution_count": 49,
     "metadata": {},
     "output_type": "execute_result"
    }
   ],
   "source": [
    "# Resample the training data with SMOTEENN\n",
    "from imblearn.combine import SMOTEENN\n",
    "\n",
    "smote_enn = SMOTEENN(random_state=1)\n",
    "X_resampled, y_resampled = smote_enn.fit_resample(X_train, y_train)\n",
    "y_resampled.value_counts()"
   ]
  },
  {
   "cell_type": "code",
   "execution_count": 50,
   "id": "c3601ccb",
   "metadata": {},
   "outputs": [
    {
     "data": {
      "text/plain": [
       "LogisticRegression(random_state=1)"
      ]
     },
     "execution_count": 50,
     "metadata": {},
     "output_type": "execute_result"
    }
   ],
   "source": [
    "# Train the Logistic Regression model using the resampled data\n",
    "model = LogisticRegression(solver='lbfgs', random_state=1)\n",
    "model.fit(X_resampled, y_resampled)"
   ]
  },
  {
   "cell_type": "code",
   "execution_count": 51,
   "id": "1053734e",
   "metadata": {},
   "outputs": [
    {
     "data": {
      "text/plain": [
       "0.8696106610922394"
      ]
     },
     "execution_count": 51,
     "metadata": {},
     "output_type": "execute_result"
    }
   ],
   "source": [
    "# Calculated the balanced accuracy score\n",
    "y_pred = model.predict(X_test)\n",
    "balanced_accuracy_score(y_test, y_pred)\n"
   ]
  },
  {
   "cell_type": "code",
   "execution_count": 52,
   "id": "d24db220",
   "metadata": {},
   "outputs": [
    {
     "data": {
      "text/html": [
       "<div>\n",
       "<style scoped>\n",
       "    .dataframe tbody tr th:only-of-type {\n",
       "        vertical-align: middle;\n",
       "    }\n",
       "\n",
       "    .dataframe tbody tr th {\n",
       "        vertical-align: top;\n",
       "    }\n",
       "\n",
       "    .dataframe thead th {\n",
       "        text-align: right;\n",
       "    }\n",
       "</style>\n",
       "<table border=\"1\" class=\"dataframe\">\n",
       "  <thead>\n",
       "    <tr style=\"text-align: right;\">\n",
       "      <th></th>\n",
       "      <th>Predicted High-Priority</th>\n",
       "      <th>Predicted Low-Priority</th>\n",
       "    </tr>\n",
       "  </thead>\n",
       "  <tbody>\n",
       "    <tr>\n",
       "      <th>Actual High-Priority</th>\n",
       "      <td>144</td>\n",
       "      <td>34</td>\n",
       "    </tr>\n",
       "    <tr>\n",
       "      <th>Actual Low-Priority</th>\n",
       "      <td>3</td>\n",
       "      <td>40</td>\n",
       "    </tr>\n",
       "  </tbody>\n",
       "</table>\n",
       "</div>"
      ],
      "text/plain": [
       "                      Predicted High-Priority  Predicted Low-Priority\n",
       "Actual High-Priority                      144                      34\n",
       "Actual Low-Priority                         3                      40"
      ]
     },
     "metadata": {},
     "output_type": "display_data"
    }
   ],
   "source": [
    "# Display the confusion matrix\n",
    "cm = confusion_matrix(y_test, y_pred)\n",
    "\n",
    "cm_df = pd.DataFrame(\n",
    "    cm, index=[\"Actual High-Priority\", \"Actual Low-Priority\"],\n",
    "    columns=[\"Predicted High-Priority\", \"Predicted Low-Priority\"]\n",
    ")\n",
    "\n",
    "# Displaying results\n",
    "display(cm_df)"
   ]
  },
  {
   "cell_type": "code",
   "execution_count": 53,
   "id": "10b6ceea",
   "metadata": {},
   "outputs": [
    {
     "name": "stdout",
     "output_type": "stream",
     "text": [
      "                   pre       rec       spe        f1       geo       iba       sup\n",
      "\n",
      "          0       0.98      0.81      0.93      0.89      0.87      0.74       178\n",
      "          1       0.54      0.93      0.81      0.68      0.87      0.76        43\n",
      "\n",
      "avg / total       0.89      0.83      0.91      0.85      0.87      0.75       221\n",
      "\n"
     ]
    }
   ],
   "source": [
    "# Print the imbalanced classification report\n",
    "print(classification_report_imbalanced(y_test, y_pred))"
   ]
  },
  {
   "cell_type": "markdown",
   "id": "341ba5b2",
   "metadata": {},
   "source": [
    "## Naive Bayes Classifier"
   ]
  },
  {
   "cell_type": "code",
   "execution_count": 54,
   "id": "8b17302c",
   "metadata": {},
   "outputs": [
    {
     "data": {
      "text/plain": [
       "GaussianNB()"
      ]
     },
     "execution_count": 54,
     "metadata": {},
     "output_type": "execute_result"
    }
   ],
   "source": [
    "from sklearn.naive_bayes import GaussianNB\n",
    "gnb = GaussianNB()\n",
    "gnb.fit(X_train, y_train)"
   ]
  },
  {
   "cell_type": "code",
   "execution_count": 55,
   "id": "1a82ddf9",
   "metadata": {},
   "outputs": [
    {
     "data": {
      "text/plain": [
       "0.7227593415207735"
      ]
     },
     "execution_count": 55,
     "metadata": {},
     "output_type": "execute_result"
    }
   ],
   "source": [
    "# Calculated the balanced accuracy score\n",
    "y_pred = gnb.predict(X_test)\n",
    "balanced_accuracy_score(y_test, y_pred)"
   ]
  },
  {
   "cell_type": "markdown",
   "id": "ba20fefb",
   "metadata": {},
   "source": [
    "## XGBoost"
   ]
  },
  {
   "cell_type": "code",
   "execution_count": 56,
   "id": "3f234a81",
   "metadata": {},
   "outputs": [
    {
     "data": {
      "text/plain": [
       "XGBClassifier(base_score=0.5, booster='gbtree', callbacks=None,\n",
       "              colsample_bylevel=1, colsample_bynode=1, colsample_bytree=1,\n",
       "              early_stopping_rounds=None, enable_categorical=False,\n",
       "              eval_metric='mlogloss', gamma=0, gpu_id=-1,\n",
       "              grow_policy='depthwise', importance_type=None,\n",
       "              interaction_constraints='', learning_rate=0.300000012,\n",
       "              max_bin=256, max_cat_to_onehot=4, max_delta_step=0, max_depth=6,\n",
       "              max_leaves=0, min_child_weight=1, missing=nan,\n",
       "              monotone_constraints='()', n_estimators=100, n_jobs=0,\n",
       "              num_parallel_tree=1, predictor='auto', random_state=0,\n",
       "              reg_alpha=0, reg_lambda=1, ...)"
      ]
     },
     "execution_count": 56,
     "metadata": {},
     "output_type": "execute_result"
    }
   ],
   "source": [
    "from xgboost import XGBClassifier\n",
    "model = XGBClassifier(use_label_encoder=False, eval_metric='mlogloss')\n",
    "model.fit(X_train, y_train)"
   ]
  },
  {
   "cell_type": "code",
   "execution_count": 57,
   "id": "26df308a",
   "metadata": {},
   "outputs": [
    {
     "data": {
      "text/plain": [
       "0.9418604651162791"
      ]
     },
     "execution_count": 57,
     "metadata": {},
     "output_type": "execute_result"
    }
   ],
   "source": [
    "# Calculated the balanced accuracy score\n",
    "y_pred = model.predict(X_test)\n",
    "balanced_accuracy_score(y_test, y_pred)"
   ]
  },
  {
   "cell_type": "code",
   "execution_count": 58,
   "id": "60fdc6af",
   "metadata": {},
   "outputs": [
    {
     "data": {
      "text/html": [
       "<div>\n",
       "<style scoped>\n",
       "    .dataframe tbody tr th:only-of-type {\n",
       "        vertical-align: middle;\n",
       "    }\n",
       "\n",
       "    .dataframe tbody tr th {\n",
       "        vertical-align: top;\n",
       "    }\n",
       "\n",
       "    .dataframe thead th {\n",
       "        text-align: right;\n",
       "    }\n",
       "</style>\n",
       "<table border=\"1\" class=\"dataframe\">\n",
       "  <thead>\n",
       "    <tr style=\"text-align: right;\">\n",
       "      <th></th>\n",
       "      <th>Predicted High-Priority</th>\n",
       "      <th>Predicted Low-Priority</th>\n",
       "    </tr>\n",
       "  </thead>\n",
       "  <tbody>\n",
       "    <tr>\n",
       "      <th>Actual High-Priority</th>\n",
       "      <td>178</td>\n",
       "      <td>0</td>\n",
       "    </tr>\n",
       "    <tr>\n",
       "      <th>Actual Low-Priority</th>\n",
       "      <td>5</td>\n",
       "      <td>38</td>\n",
       "    </tr>\n",
       "  </tbody>\n",
       "</table>\n",
       "</div>"
      ],
      "text/plain": [
       "                      Predicted High-Priority  Predicted Low-Priority\n",
       "Actual High-Priority                      178                       0\n",
       "Actual Low-Priority                         5                      38"
      ]
     },
     "metadata": {},
     "output_type": "display_data"
    }
   ],
   "source": [
    "# Display the confusion matrix\n",
    "cm = confusion_matrix(y_test, y_pred)\n",
    "\n",
    "cm_df = pd.DataFrame(\n",
    "    cm, index=[\"Actual High-Priority\", \"Actual Low-Priority\"],\n",
    "    columns=[\"Predicted High-Priority\", \"Predicted Low-Priority\"]\n",
    ")\n",
    "\n",
    "# Displaying results\n",
    "display(cm_df)"
   ]
  },
  {
   "cell_type": "code",
   "execution_count": null,
   "id": "cf729bf3",
   "metadata": {},
   "outputs": [],
   "source": []
  }
 ],
 "metadata": {
  "kernelspec": {
   "display_name": "mlenv",
   "language": "python",
   "name": "mlenv"
  },
  "language_info": {
   "codemirror_mode": {
    "name": "ipython",
    "version": 3
   },
   "file_extension": ".py",
   "mimetype": "text/x-python",
   "name": "python",
   "nbconvert_exporter": "python",
   "pygments_lexer": "ipython3",
   "version": "3.9.12"
  }
 },
 "nbformat": 4,
 "nbformat_minor": 5
}
