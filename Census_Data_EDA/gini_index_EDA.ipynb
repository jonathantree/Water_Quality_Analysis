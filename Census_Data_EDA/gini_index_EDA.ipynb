{
 "cells": [
  {
   "cell_type": "code",
   "execution_count": 1,
   "metadata": {},
   "outputs": [],
   "source": [
    "# import dependencies\n",
    "import pandas as pd\n",
    "import os\n",
    "import numpy as np"
   ]
  },
  {
   "cell_type": "code",
   "execution_count": 20,
   "metadata": {},
   "outputs": [],
   "source": [
    "# read CSV (rel path = Resources/Data/Table_B19083_2020/Table_B19083_2020_data_with_overlays.csv\n",
    "file_to_load = os.path.join(\"..\",\"Resources\",\"Data\",\"Table_B19083_2020\",\"Table_B19083_2020_data_with_overlays.csv\")\n",
    "\n",
    "df = pd.read_csv(file_to_load, header=[0,1])\n",
    "\n"
   ]
  },
  {
   "cell_type": "code",
   "execution_count": 21,
   "metadata": {},
   "outputs": [
    {
     "data": {
      "text/plain": [
       "(3221, 4)"
      ]
     },
     "execution_count": 21,
     "metadata": {},
     "output_type": "execute_result"
    }
   ],
   "source": [
    "df.shape"
   ]
  },
  {
   "cell_type": "code",
   "execution_count": 22,
   "metadata": {},
   "outputs": [
    {
     "data": {
      "text/html": [
       "<div>\n",
       "<style scoped>\n",
       "    .dataframe tbody tr th:only-of-type {\n",
       "        vertical-align: middle;\n",
       "    }\n",
       "\n",
       "    .dataframe tbody tr th {\n",
       "        vertical-align: top;\n",
       "    }\n",
       "\n",
       "    .dataframe thead tr th {\n",
       "        text-align: left;\n",
       "    }\n",
       "</style>\n",
       "<table border=\"1\" class=\"dataframe\">\n",
       "  <thead>\n",
       "    <tr>\n",
       "      <th></th>\n",
       "      <th>B19083_001E</th>\n",
       "      <th>B19083_001M</th>\n",
       "      <th>GEO_ID</th>\n",
       "      <th>NAME</th>\n",
       "    </tr>\n",
       "    <tr>\n",
       "      <th></th>\n",
       "      <th>Estimate!!Gini Index</th>\n",
       "      <th>Margin of Error!!Gini Index</th>\n",
       "      <th>id</th>\n",
       "      <th>Geographic Area Name</th>\n",
       "    </tr>\n",
       "  </thead>\n",
       "  <tbody>\n",
       "    <tr>\n",
       "      <th>0</th>\n",
       "      <td>0.4552</td>\n",
       "      <td>0.0326</td>\n",
       "      <td>0500000US01001</td>\n",
       "      <td>Autauga County, Alabama</td>\n",
       "    </tr>\n",
       "    <tr>\n",
       "      <th>1</th>\n",
       "      <td>0.4566</td>\n",
       "      <td>0.0119</td>\n",
       "      <td>0500000US01003</td>\n",
       "      <td>Baldwin County, Alabama</td>\n",
       "    </tr>\n",
       "    <tr>\n",
       "      <th>2</th>\n",
       "      <td>0.5047</td>\n",
       "      <td>0.0252</td>\n",
       "      <td>0500000US01005</td>\n",
       "      <td>Barbour County, Alabama</td>\n",
       "    </tr>\n",
       "    <tr>\n",
       "      <th>3</th>\n",
       "      <td>0.4500</td>\n",
       "      <td>0.0408</td>\n",
       "      <td>0500000US01007</td>\n",
       "      <td>Bibb County, Alabama</td>\n",
       "    </tr>\n",
       "    <tr>\n",
       "      <th>4</th>\n",
       "      <td>0.4685</td>\n",
       "      <td>0.0247</td>\n",
       "      <td>0500000US01009</td>\n",
       "      <td>Blount County, Alabama</td>\n",
       "    </tr>\n",
       "  </tbody>\n",
       "</table>\n",
       "</div>"
      ],
      "text/plain": [
       "           B19083_001E                 B19083_001M          GEO_ID  \\\n",
       "  Estimate!!Gini Index Margin of Error!!Gini Index              id   \n",
       "0               0.4552                      0.0326  0500000US01001   \n",
       "1               0.4566                      0.0119  0500000US01003   \n",
       "2               0.5047                      0.0252  0500000US01005   \n",
       "3               0.4500                      0.0408  0500000US01007   \n",
       "4               0.4685                      0.0247  0500000US01009   \n",
       "\n",
       "                      NAME  \n",
       "      Geographic Area Name  \n",
       "0  Autauga County, Alabama  \n",
       "1  Baldwin County, Alabama  \n",
       "2  Barbour County, Alabama  \n",
       "3     Bibb County, Alabama  \n",
       "4   Blount County, Alabama  "
      ]
     },
     "execution_count": 22,
     "metadata": {},
     "output_type": "execute_result"
    }
   ],
   "source": [
    "df.head()"
   ]
  },
  {
   "cell_type": "code",
   "execution_count": 25,
   "metadata": {},
   "outputs": [
    {
     "data": {
      "text/plain": [
       "'Estimate!!Gini Index'"
      ]
     },
     "execution_count": 25,
     "metadata": {},
     "output_type": "execute_result"
    }
   ],
   "source": [
    "df.columns[0][1]"
   ]
  },
  {
   "cell_type": "code",
   "execution_count": 30,
   "metadata": {},
   "outputs": [],
   "source": [
    "df.rename(columns={\n",
    "    df.columns[0]:df.columns[0][1]\n",
    "}, inplace=True)"
   ]
  },
  {
   "cell_type": "code",
   "execution_count": 32,
   "metadata": {},
   "outputs": [
    {
     "data": {
      "text/html": [
       "<div>\n",
       "<style scoped>\n",
       "    .dataframe tbody tr th:only-of-type {\n",
       "        vertical-align: middle;\n",
       "    }\n",
       "\n",
       "    .dataframe tbody tr th {\n",
       "        vertical-align: top;\n",
       "    }\n",
       "\n",
       "    .dataframe thead tr th {\n",
       "        text-align: left;\n",
       "    }\n",
       "</style>\n",
       "<table border=\"1\" class=\"dataframe\">\n",
       "  <thead>\n",
       "    <tr>\n",
       "      <th></th>\n",
       "      <th>B19083_001E</th>\n",
       "      <th>B19083_001M</th>\n",
       "      <th>GEO_ID</th>\n",
       "      <th>NAME</th>\n",
       "    </tr>\n",
       "    <tr>\n",
       "      <th></th>\n",
       "      <th>Estimate!!Gini Index</th>\n",
       "      <th>Margin of Error!!Gini Index</th>\n",
       "      <th>id</th>\n",
       "      <th>Geographic Area Name</th>\n",
       "    </tr>\n",
       "  </thead>\n",
       "  <tbody>\n",
       "    <tr>\n",
       "      <th>0</th>\n",
       "      <td>0.4552</td>\n",
       "      <td>0.0326</td>\n",
       "      <td>0500000US01001</td>\n",
       "      <td>Autauga County, Alabama</td>\n",
       "    </tr>\n",
       "    <tr>\n",
       "      <th>1</th>\n",
       "      <td>0.4566</td>\n",
       "      <td>0.0119</td>\n",
       "      <td>0500000US01003</td>\n",
       "      <td>Baldwin County, Alabama</td>\n",
       "    </tr>\n",
       "    <tr>\n",
       "      <th>2</th>\n",
       "      <td>0.5047</td>\n",
       "      <td>0.0252</td>\n",
       "      <td>0500000US01005</td>\n",
       "      <td>Barbour County, Alabama</td>\n",
       "    </tr>\n",
       "    <tr>\n",
       "      <th>3</th>\n",
       "      <td>0.4500</td>\n",
       "      <td>0.0408</td>\n",
       "      <td>0500000US01007</td>\n",
       "      <td>Bibb County, Alabama</td>\n",
       "    </tr>\n",
       "    <tr>\n",
       "      <th>4</th>\n",
       "      <td>0.4685</td>\n",
       "      <td>0.0247</td>\n",
       "      <td>0500000US01009</td>\n",
       "      <td>Blount County, Alabama</td>\n",
       "    </tr>\n",
       "    <tr>\n",
       "      <th>...</th>\n",
       "      <td>...</td>\n",
       "      <td>...</td>\n",
       "      <td>...</td>\n",
       "      <td>...</td>\n",
       "    </tr>\n",
       "    <tr>\n",
       "      <th>3216</th>\n",
       "      <td>0.4942</td>\n",
       "      <td>0.0172</td>\n",
       "      <td>0500000US72145</td>\n",
       "      <td>Vega Baja Municipio, Puerto Rico</td>\n",
       "    </tr>\n",
       "    <tr>\n",
       "      <th>3217</th>\n",
       "      <td>0.4471</td>\n",
       "      <td>0.0509</td>\n",
       "      <td>0500000US72147</td>\n",
       "      <td>Vieques Municipio, Puerto Rico</td>\n",
       "    </tr>\n",
       "    <tr>\n",
       "      <th>3218</th>\n",
       "      <td>0.5419</td>\n",
       "      <td>0.0764</td>\n",
       "      <td>0500000US72149</td>\n",
       "      <td>Villalba Municipio, Puerto Rico</td>\n",
       "    </tr>\n",
       "    <tr>\n",
       "      <th>3219</th>\n",
       "      <td>0.4987</td>\n",
       "      <td>0.0251</td>\n",
       "      <td>0500000US72151</td>\n",
       "      <td>Yabucoa Municipio, Puerto Rico</td>\n",
       "    </tr>\n",
       "    <tr>\n",
       "      <th>3220</th>\n",
       "      <td>0.5080</td>\n",
       "      <td>0.0171</td>\n",
       "      <td>0500000US72153</td>\n",
       "      <td>Yauco Municipio, Puerto Rico</td>\n",
       "    </tr>\n",
       "  </tbody>\n",
       "</table>\n",
       "<p>3221 rows × 4 columns</p>\n",
       "</div>"
      ],
      "text/plain": [
       "              B19083_001E                 B19083_001M          GEO_ID  \\\n",
       "     Estimate!!Gini Index Margin of Error!!Gini Index              id   \n",
       "0                  0.4552                      0.0326  0500000US01001   \n",
       "1                  0.4566                      0.0119  0500000US01003   \n",
       "2                  0.5047                      0.0252  0500000US01005   \n",
       "3                  0.4500                      0.0408  0500000US01007   \n",
       "4                  0.4685                      0.0247  0500000US01009   \n",
       "...                   ...                         ...             ...   \n",
       "3216               0.4942                      0.0172  0500000US72145   \n",
       "3217               0.4471                      0.0509  0500000US72147   \n",
       "3218               0.5419                      0.0764  0500000US72149   \n",
       "3219               0.4987                      0.0251  0500000US72151   \n",
       "3220               0.5080                      0.0171  0500000US72153   \n",
       "\n",
       "                                  NAME  \n",
       "                  Geographic Area Name  \n",
       "0              Autauga County, Alabama  \n",
       "1              Baldwin County, Alabama  \n",
       "2              Barbour County, Alabama  \n",
       "3                 Bibb County, Alabama  \n",
       "4               Blount County, Alabama  \n",
       "...                                ...  \n",
       "3216  Vega Baja Municipio, Puerto Rico  \n",
       "3217    Vieques Municipio, Puerto Rico  \n",
       "3218   Villalba Municipio, Puerto Rico  \n",
       "3219    Yabucoa Municipio, Puerto Rico  \n",
       "3220      Yauco Municipio, Puerto Rico  \n",
       "\n",
       "[3221 rows x 4 columns]"
      ]
     },
     "execution_count": 32,
     "metadata": {},
     "output_type": "execute_result"
    }
   ],
   "source": [
    "df"
   ]
  },
  {
   "cell_type": "code",
   "execution_count": 33,
   "metadata": {},
   "outputs": [],
   "source": [
    "column_names = dict(df.columns)"
   ]
  },
  {
   "cell_type": "code",
   "execution_count": 34,
   "metadata": {},
   "outputs": [
    {
     "data": {
      "text/plain": [
       "{'B19083_001E': 'Estimate!!Gini Index',\n",
       " 'B19083_001M': 'Margin of Error!!Gini Index',\n",
       " 'GEO_ID': 'id',\n",
       " 'NAME': 'Geographic Area Name'}"
      ]
     },
     "execution_count": 34,
     "metadata": {},
     "output_type": "execute_result"
    }
   ],
   "source": [
    "column_names\n"
   ]
  },
  {
   "cell_type": "code",
   "execution_count": 36,
   "metadata": {},
   "outputs": [
    {
     "data": {
      "text/plain": [
       "MultiIndex([('B19083_001E',        'Estimate!!Gini Index'),\n",
       "            ('B19083_001M', 'Margin of Error!!Gini Index'),\n",
       "            (     'GEO_ID',                          'id'),\n",
       "            (       'NAME',        'Geographic Area Name')],\n",
       "           )"
      ]
     },
     "execution_count": 36,
     "metadata": {},
     "output_type": "execute_result"
    }
   ],
   "source": [
    "df.columns"
   ]
  },
  {
   "cell_type": "code",
   "execution_count": 37,
   "metadata": {},
   "outputs": [],
   "source": [
    "df.rename(columns={\n",
    "    ('B19083_001E',        'Estimate!!Gini Index'):'Gini Index'\n",
    "\n",
    "},inplace=True)"
   ]
  },
  {
   "cell_type": "code",
   "execution_count": 38,
   "metadata": {},
   "outputs": [
    {
     "data": {
      "text/html": [
       "<div>\n",
       "<style scoped>\n",
       "    .dataframe tbody tr th:only-of-type {\n",
       "        vertical-align: middle;\n",
       "    }\n",
       "\n",
       "    .dataframe tbody tr th {\n",
       "        vertical-align: top;\n",
       "    }\n",
       "\n",
       "    .dataframe thead tr th {\n",
       "        text-align: left;\n",
       "    }\n",
       "</style>\n",
       "<table border=\"1\" class=\"dataframe\">\n",
       "  <thead>\n",
       "    <tr>\n",
       "      <th></th>\n",
       "      <th>B19083_001E</th>\n",
       "      <th>B19083_001M</th>\n",
       "      <th>GEO_ID</th>\n",
       "      <th>NAME</th>\n",
       "    </tr>\n",
       "    <tr>\n",
       "      <th></th>\n",
       "      <th>Estimate!!Gini Index</th>\n",
       "      <th>Margin of Error!!Gini Index</th>\n",
       "      <th>id</th>\n",
       "      <th>Geographic Area Name</th>\n",
       "    </tr>\n",
       "  </thead>\n",
       "  <tbody>\n",
       "    <tr>\n",
       "      <th>0</th>\n",
       "      <td>0.4552</td>\n",
       "      <td>0.0326</td>\n",
       "      <td>0500000US01001</td>\n",
       "      <td>Autauga County, Alabama</td>\n",
       "    </tr>\n",
       "    <tr>\n",
       "      <th>1</th>\n",
       "      <td>0.4566</td>\n",
       "      <td>0.0119</td>\n",
       "      <td>0500000US01003</td>\n",
       "      <td>Baldwin County, Alabama</td>\n",
       "    </tr>\n",
       "    <tr>\n",
       "      <th>2</th>\n",
       "      <td>0.5047</td>\n",
       "      <td>0.0252</td>\n",
       "      <td>0500000US01005</td>\n",
       "      <td>Barbour County, Alabama</td>\n",
       "    </tr>\n",
       "    <tr>\n",
       "      <th>3</th>\n",
       "      <td>0.4500</td>\n",
       "      <td>0.0408</td>\n",
       "      <td>0500000US01007</td>\n",
       "      <td>Bibb County, Alabama</td>\n",
       "    </tr>\n",
       "    <tr>\n",
       "      <th>4</th>\n",
       "      <td>0.4685</td>\n",
       "      <td>0.0247</td>\n",
       "      <td>0500000US01009</td>\n",
       "      <td>Blount County, Alabama</td>\n",
       "    </tr>\n",
       "    <tr>\n",
       "      <th>...</th>\n",
       "      <td>...</td>\n",
       "      <td>...</td>\n",
       "      <td>...</td>\n",
       "      <td>...</td>\n",
       "    </tr>\n",
       "    <tr>\n",
       "      <th>3216</th>\n",
       "      <td>0.4942</td>\n",
       "      <td>0.0172</td>\n",
       "      <td>0500000US72145</td>\n",
       "      <td>Vega Baja Municipio, Puerto Rico</td>\n",
       "    </tr>\n",
       "    <tr>\n",
       "      <th>3217</th>\n",
       "      <td>0.4471</td>\n",
       "      <td>0.0509</td>\n",
       "      <td>0500000US72147</td>\n",
       "      <td>Vieques Municipio, Puerto Rico</td>\n",
       "    </tr>\n",
       "    <tr>\n",
       "      <th>3218</th>\n",
       "      <td>0.5419</td>\n",
       "      <td>0.0764</td>\n",
       "      <td>0500000US72149</td>\n",
       "      <td>Villalba Municipio, Puerto Rico</td>\n",
       "    </tr>\n",
       "    <tr>\n",
       "      <th>3219</th>\n",
       "      <td>0.4987</td>\n",
       "      <td>0.0251</td>\n",
       "      <td>0500000US72151</td>\n",
       "      <td>Yabucoa Municipio, Puerto Rico</td>\n",
       "    </tr>\n",
       "    <tr>\n",
       "      <th>3220</th>\n",
       "      <td>0.5080</td>\n",
       "      <td>0.0171</td>\n",
       "      <td>0500000US72153</td>\n",
       "      <td>Yauco Municipio, Puerto Rico</td>\n",
       "    </tr>\n",
       "  </tbody>\n",
       "</table>\n",
       "<p>3221 rows × 4 columns</p>\n",
       "</div>"
      ],
      "text/plain": [
       "              B19083_001E                 B19083_001M          GEO_ID  \\\n",
       "     Estimate!!Gini Index Margin of Error!!Gini Index              id   \n",
       "0                  0.4552                      0.0326  0500000US01001   \n",
       "1                  0.4566                      0.0119  0500000US01003   \n",
       "2                  0.5047                      0.0252  0500000US01005   \n",
       "3                  0.4500                      0.0408  0500000US01007   \n",
       "4                  0.4685                      0.0247  0500000US01009   \n",
       "...                   ...                         ...             ...   \n",
       "3216               0.4942                      0.0172  0500000US72145   \n",
       "3217               0.4471                      0.0509  0500000US72147   \n",
       "3218               0.5419                      0.0764  0500000US72149   \n",
       "3219               0.4987                      0.0251  0500000US72151   \n",
       "3220               0.5080                      0.0171  0500000US72153   \n",
       "\n",
       "                                  NAME  \n",
       "                  Geographic Area Name  \n",
       "0              Autauga County, Alabama  \n",
       "1              Baldwin County, Alabama  \n",
       "2              Barbour County, Alabama  \n",
       "3                 Bibb County, Alabama  \n",
       "4               Blount County, Alabama  \n",
       "...                                ...  \n",
       "3216  Vega Baja Municipio, Puerto Rico  \n",
       "3217    Vieques Municipio, Puerto Rico  \n",
       "3218   Villalba Municipio, Puerto Rico  \n",
       "3219    Yabucoa Municipio, Puerto Rico  \n",
       "3220      Yauco Municipio, Puerto Rico  \n",
       "\n",
       "[3221 rows x 4 columns]"
      ]
     },
     "execution_count": 38,
     "metadata": {},
     "output_type": "execute_result"
    }
   ],
   "source": [
    "df"
   ]
  },
  {
   "cell_type": "code",
   "execution_count": null,
   "metadata": {},
   "outputs": [],
   "source": []
  }
 ],
 "metadata": {
  "interpreter": {
   "hash": "86969af4118fd2beaee010b14a97d3c8fe7dc31ff55f1528eea7eaecb45368d6"
  },
  "kernelspec": {
   "display_name": "Python 3.7.7 ('mlenv')",
   "language": "python",
   "name": "python3"
  },
  "language_info": {
   "codemirror_mode": {
    "name": "ipython",
    "version": 3
   },
   "file_extension": ".py",
   "mimetype": "text/x-python",
   "name": "python",
   "nbconvert_exporter": "python",
   "pygments_lexer": "ipython3",
   "version": "3.7.7"
  },
  "orig_nbformat": 4
 },
 "nbformat": 4,
 "nbformat_minor": 2
}
