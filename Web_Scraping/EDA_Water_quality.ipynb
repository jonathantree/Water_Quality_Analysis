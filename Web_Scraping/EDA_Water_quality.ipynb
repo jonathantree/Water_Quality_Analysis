{
 "cells": [
  {
   "cell_type": "code",
   "execution_count": 1,
   "id": "7546550a",
   "metadata": {},
   "outputs": [],
   "source": [
    "import pandas as pd\n",
    "import os\n",
    "import plotly.express as px"
   ]
  },
  {
   "cell_type": "code",
   "execution_count": 3,
   "id": "a36d6c74",
   "metadata": {},
   "outputs": [],
   "source": [
    "cleaned_data_dir = os.path.join('..', 'Resources','Data','Cleaned_Data')"
   ]
  },
  {
   "cell_type": "code",
   "execution_count": 6,
   "id": "04c89cc3",
   "metadata": {},
   "outputs": [],
   "source": [
    "states_data = os.path.join('..','Resources','Data','user_scraped_data')"
   ]
  },
  {
   "cell_type": "code",
   "execution_count": 4,
   "id": "c2cfd266",
   "metadata": {},
   "outputs": [],
   "source": [
    "df = pd.read_csv(os.path.join(cleaned_data_dir,'master_contaminants.csv'))"
   ]
  },
  {
   "cell_type": "code",
   "execution_count": 8,
   "id": "1c1832b5",
   "metadata": {},
   "outputs": [],
   "source": [
    "#Read in the master data set of zip codes to filter for state on user prompr\n",
    "us_zip_df = pd.read_csv('../Resources/Data/simplemaps_uszips_basicv1.80/uszips.csv')\n",
    "\n",
    "#Create a list of all of the state ID's to assist user in selecting a state ID\n",
    "states_list = list(us_zip_df.state_id.unique().ravel())"
   ]
  },
  {
   "cell_type": "code",
   "execution_count": 9,
   "id": "cc7eb4a3",
   "metadata": {},
   "outputs": [
    {
     "name": "stdout",
     "output_type": "stream",
     "text": [
      "Here are the state ID's:\n",
      "['AK', 'AL', 'AR', 'AS', 'AZ', 'CA', 'CO', 'CT', 'DC', 'DE', 'FL', 'GA', 'GU', 'HI', 'IA', 'ID', 'IL', 'IN', 'KS', 'KY', 'LA', 'MA', 'MD', 'ME', 'MI', 'MN', 'MO', 'MP', 'MS', 'MT', 'NC', 'ND', 'NE', 'NH', 'NJ', 'NM', 'NV', 'NY', 'OH', 'OK', 'OR', 'PA', 'PR', 'RI', 'SC', 'SD', 'TN', 'TX', 'UT', 'VA', 'VI', 'VT', 'WA', 'WI', 'WV', 'WY']\n",
      "Please provide the state id(EX: AL for Alabama): TN\n"
     ]
    }
   ],
   "source": [
    "#Get User input for filtering the us_zip_df\n",
    "print(\"Here are the state ID's:\")\n",
    "print(sorted(states_list))\n",
    "user_state = str(input('Please provide the state id(EX: AL for Alabama): '))"
   ]
  },
  {
   "cell_type": "code",
   "execution_count": null,
   "id": "db7c477d",
   "metadata": {},
   "outputs": [],
   "source": [
    "for state_dir in os.listdir(data_dir):\n",
    "    d = os.path.join(data_dir, state_dir)\n",
    "    #print(d)"
   ]
  }
 ],
 "metadata": {
  "kernelspec": {
   "display_name": "mlenv",
   "language": "python",
   "name": "mlenv"
  },
  "language_info": {
   "codemirror_mode": {
    "name": "ipython",
    "version": 3
   },
   "file_extension": ".py",
   "mimetype": "text/x-python",
   "name": "python",
   "nbconvert_exporter": "python",
   "pygments_lexer": "ipython3",
   "version": "3.9.12"
  }
 },
 "nbformat": 4,
 "nbformat_minor": 5
}
