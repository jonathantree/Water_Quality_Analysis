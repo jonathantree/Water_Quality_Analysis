{
 "cells": [
  {
   "cell_type": "code",
   "execution_count": 14,
   "id": "7546550a",
   "metadata": {},
   "outputs": [],
   "source": [
    "import pandas as pd\n",
    "import os\n",
    "import numpy as np\n",
    "import plotly.express as px\n",
    "from __future__ import print_function\n",
    "from ipywidgets import interact, interactive, fixed, interact_manual\n",
    "import ipywidgets as widgets\n",
    "\n",
    "%matplotlib notebook\n",
    "%matplotlib inline"
   ]
  },
  {
   "cell_type": "code",
   "execution_count": 2,
   "id": "a36d6c74",
   "metadata": {},
   "outputs": [],
   "source": [
    "cleaned_data_dir = os.path.join('..', 'Resources','Data','Cleaned_Data')"
   ]
  },
  {
   "cell_type": "code",
   "execution_count": 3,
   "id": "04c89cc3",
   "metadata": {},
   "outputs": [],
   "source": [
    "states_data = os.path.join('..','Resources','Data','user_scrape_data')"
   ]
  },
  {
   "cell_type": "code",
   "execution_count": 4,
   "id": "c2cfd266",
   "metadata": {},
   "outputs": [],
   "source": [
    "df = pd.read_csv(os.path.join(cleaned_data_dir,'master_contaminants.csv'))"
   ]
  },
  {
   "cell_type": "code",
   "execution_count": 7,
   "id": "db7c477d",
   "metadata": {},
   "outputs": [],
   "source": [
    "list_of_available_data = []\n",
    "for state_dir in os.listdir(states_data):\n",
    "    list_of_available_data.append(state_dir)\n"
   ]
  },
  {
   "cell_type": "code",
   "execution_count": 27,
   "id": "c3296312",
   "metadata": {},
   "outputs": [
    {
     "data": {
      "text/plain": [
       "['AL', 'AZ', 'CA', 'IL', 'KS', 'MI', 'MO', 'MS', 'MT', 'OR', 'PA', 'WV']"
      ]
     },
     "execution_count": 27,
     "metadata": {},
     "output_type": "execute_result"
    }
   ],
   "source": [
    "list_of_available_data"
   ]
  },
  {
   "cell_type": "code",
   "execution_count": 32,
   "id": "37a279a9",
   "metadata": {},
   "outputs": [],
   "source": [
    "data_files = [os.path.join(states_data,i,'contaminants.csv') for i in list_of_available_data]"
   ]
  },
  {
   "cell_type": "code",
   "execution_count": 33,
   "id": "963f8600",
   "metadata": {},
   "outputs": [
    {
     "data": {
      "text/plain": [
       "['..\\\\Resources\\\\Data\\\\user_scrape_data\\\\AL\\\\contaminants.csv',\n",
       " '..\\\\Resources\\\\Data\\\\user_scrape_data\\\\AZ\\\\contaminants.csv',\n",
       " '..\\\\Resources\\\\Data\\\\user_scrape_data\\\\CA\\\\contaminants.csv',\n",
       " '..\\\\Resources\\\\Data\\\\user_scrape_data\\\\IL\\\\contaminants.csv',\n",
       " '..\\\\Resources\\\\Data\\\\user_scrape_data\\\\KS\\\\contaminants.csv',\n",
       " '..\\\\Resources\\\\Data\\\\user_scrape_data\\\\MI\\\\contaminants.csv',\n",
       " '..\\\\Resources\\\\Data\\\\user_scrape_data\\\\MO\\\\contaminants.csv',\n",
       " '..\\\\Resources\\\\Data\\\\user_scrape_data\\\\MS\\\\contaminants.csv',\n",
       " '..\\\\Resources\\\\Data\\\\user_scrape_data\\\\MT\\\\contaminants.csv',\n",
       " '..\\\\Resources\\\\Data\\\\user_scrape_data\\\\OR\\\\contaminants.csv',\n",
       " '..\\\\Resources\\\\Data\\\\user_scrape_data\\\\PA\\\\contaminants.csv',\n",
       " '..\\\\Resources\\\\Data\\\\user_scrape_data\\\\WV\\\\contaminants.csv']"
      ]
     },
     "execution_count": 33,
     "metadata": {},
     "output_type": "execute_result"
    }
   ],
   "source": [
    "data_files"
   ]
  },
  {
   "cell_type": "code",
   "execution_count": 34,
   "id": "69c8ff17",
   "metadata": {},
   "outputs": [],
   "source": [
    "#combine all files in the list\n",
    "combined_df = pd.concat([pd.read_csv(f) for f in data_files ])"
   ]
  },
  {
   "cell_type": "code",
   "execution_count": 35,
   "id": "3a68742b",
   "metadata": {},
   "outputs": [
    {
     "data": {
      "text/html": [
       "<div>\n",
       "<style scoped>\n",
       "    .dataframe tbody tr th:only-of-type {\n",
       "        vertical-align: middle;\n",
       "    }\n",
       "\n",
       "    .dataframe tbody tr th {\n",
       "        vertical-align: top;\n",
       "    }\n",
       "\n",
       "    .dataframe thead th {\n",
       "        text-align: right;\n",
       "    }\n",
       "</style>\n",
       "<table border=\"1\" class=\"dataframe\">\n",
       "  <thead>\n",
       "    <tr style=\"text-align: right;\">\n",
       "      <th></th>\n",
       "      <th>Utility</th>\n",
       "      <th>Contaminant</th>\n",
       "      <th>Utility Measuremnt</th>\n",
       "      <th>EWG HEALTH GUIDELINE</th>\n",
       "      <th>Legal Limit</th>\n",
       "    </tr>\n",
       "  </thead>\n",
       "  <tbody>\n",
       "    <tr>\n",
       "      <th>0</th>\n",
       "      <td>Birmingham Water Supply</td>\n",
       "      <td>Atrazine*</td>\n",
       "      <td>0.260 ppb</td>\n",
       "      <td>0.1 ppb</td>\n",
       "      <td>3 ppb</td>\n",
       "    </tr>\n",
       "    <tr>\n",
       "      <th>1</th>\n",
       "      <td>Birmingham Water Supply</td>\n",
       "      <td>Bromodichloromethane</td>\n",
       "      <td>4.58 ppb</td>\n",
       "      <td>0.06 ppb</td>\n",
       "      <td>NaN</td>\n",
       "    </tr>\n",
       "    <tr>\n",
       "      <th>2</th>\n",
       "      <td>Birmingham Water Supply</td>\n",
       "      <td>Chloroform</td>\n",
       "      <td>21.3 ppb</td>\n",
       "      <td>0.4 ppb</td>\n",
       "      <td>NaN</td>\n",
       "    </tr>\n",
       "    <tr>\n",
       "      <th>3</th>\n",
       "      <td>Birmingham Water Supply</td>\n",
       "      <td>Dibromochloromethane</td>\n",
       "      <td>0.983 ppb</td>\n",
       "      <td>0.1 ppb</td>\n",
       "      <td>NaN</td>\n",
       "    </tr>\n",
       "    <tr>\n",
       "      <th>4</th>\n",
       "      <td>Birmingham Water Supply</td>\n",
       "      <td>Dichloroacetic acid</td>\n",
       "      <td>7.83 ppb</td>\n",
       "      <td>0.2 ppb</td>\n",
       "      <td>NaN</td>\n",
       "    </tr>\n",
       "    <tr>\n",
       "      <th>...</th>\n",
       "      <td>...</td>\n",
       "      <td>...</td>\n",
       "      <td>...</td>\n",
       "      <td>...</td>\n",
       "      <td>...</td>\n",
       "    </tr>\n",
       "    <tr>\n",
       "      <th>7550</th>\n",
       "      <td>Pendleton County Psd Riverton</td>\n",
       "      <td>Barium</td>\n",
       "      <td>53.0 ppb</td>\n",
       "      <td>700 ppb</td>\n",
       "      <td>2,000 ppb</td>\n",
       "    </tr>\n",
       "    <tr>\n",
       "      <th>7551</th>\n",
       "      <td>Pendleton County Psd Riverton</td>\n",
       "      <td>Chromium (total)</td>\n",
       "      <td>0.750 ppb</td>\n",
       "      <td>NaN</td>\n",
       "      <td>100 ppb</td>\n",
       "    </tr>\n",
       "    <tr>\n",
       "      <th>7552</th>\n",
       "      <td>Pendleton County Psd Riverton</td>\n",
       "      <td>Nitrate</td>\n",
       "      <td>0.263 ppm</td>\n",
       "      <td>0.14 ppm</td>\n",
       "      <td>10 ppm</td>\n",
       "    </tr>\n",
       "    <tr>\n",
       "      <th>7553</th>\n",
       "      <td>Pendleton County Psd Riverton</td>\n",
       "      <td>None</td>\n",
       "      <td>NaN</td>\n",
       "      <td>NaN</td>\n",
       "      <td>NaN</td>\n",
       "    </tr>\n",
       "    <tr>\n",
       "      <th>7554</th>\n",
       "      <td>&gt;&gt;&gt;&gt;&gt;&gt;&gt; b7aabe03a06dd0a39191527b03f8b8fc5cd318a5</td>\n",
       "      <td>NaN</td>\n",
       "      <td>NaN</td>\n",
       "      <td>NaN</td>\n",
       "      <td>NaN</td>\n",
       "    </tr>\n",
       "  </tbody>\n",
       "</table>\n",
       "<p>121996 rows × 5 columns</p>\n",
       "</div>"
      ],
      "text/plain": [
       "                                               Utility           Contaminant  \\\n",
       "0                              Birmingham Water Supply             Atrazine*   \n",
       "1                              Birmingham Water Supply  Bromodichloromethane   \n",
       "2                              Birmingham Water Supply            Chloroform   \n",
       "3                              Birmingham Water Supply  Dibromochloromethane   \n",
       "4                              Birmingham Water Supply   Dichloroacetic acid   \n",
       "...                                                ...                   ...   \n",
       "7550                     Pendleton County Psd Riverton                Barium   \n",
       "7551                     Pendleton County Psd Riverton      Chromium (total)   \n",
       "7552                     Pendleton County Psd Riverton               Nitrate   \n",
       "7553                     Pendleton County Psd Riverton                  None   \n",
       "7554  >>>>>>> b7aabe03a06dd0a39191527b03f8b8fc5cd318a5                   NaN   \n",
       "\n",
       "     Utility Measuremnt EWG HEALTH GUIDELINE Legal Limit  \n",
       "0             0.260 ppb              0.1 ppb       3 ppb  \n",
       "1              4.58 ppb             0.06 ppb         NaN  \n",
       "2              21.3 ppb              0.4 ppb         NaN  \n",
       "3             0.983 ppb              0.1 ppb         NaN  \n",
       "4              7.83 ppb              0.2 ppb         NaN  \n",
       "...                 ...                  ...         ...  \n",
       "7550           53.0 ppb              700 ppb   2,000 ppb  \n",
       "7551          0.750 ppb                  NaN     100 ppb  \n",
       "7552          0.263 ppm             0.14 ppm      10 ppm  \n",
       "7553                NaN                  NaN         NaN  \n",
       "7554                NaN                  NaN         NaN  \n",
       "\n",
       "[121996 rows x 5 columns]"
      ]
     },
     "execution_count": 35,
     "metadata": {},
     "output_type": "execute_result"
    }
   ],
   "source": [
    "combined_df"
   ]
  },
  {
   "cell_type": "code",
   "execution_count": null,
   "id": "8a1123ed",
   "metadata": {},
   "outputs": [],
   "source": []
  },
  {
   "cell_type": "code",
   "execution_count": null,
   "id": "261fd51a",
   "metadata": {},
   "outputs": [],
   "source": []
  },
  {
   "cell_type": "code",
   "execution_count": 12,
   "id": "64102c44",
   "metadata": {},
   "outputs": [
    {
     "data": {
      "application/vnd.jupyter.widget-view+json": {
       "model_id": "c7560716dafe4dc1be0bf155e045ea48",
       "version_major": 2,
       "version_minor": 0
      },
      "text/plain": [
       "interactive(children=(Dropdown(description='m', options=(-2.0, 2.0), value=-2.0), FloatSlider(value=0.0, descr…"
      ]
     },
     "metadata": {},
     "output_type": "display_data"
    }
   ],
   "source": [
    "#test interactive update of plot\n",
    "def f(m, b, title):\n",
    "    plt.figure(2)\n",
    "    x = np.linspace(-10, 10, num=1000)\n",
    "    plt.plot(x, m * x + b)\n",
    "    plt.ylim(-5, 5)\n",
    "    plt.title(title)\n",
    "    plt.show()\n",
    "\n",
    "interactive_plot = interactive(f, m=[-2.0,2.0], b=(-3, 3, 0.5), title = list_of_available_data)\n",
    "output = interactive_plot.children[-1]\n",
    "output.layout.height = '350px'\n",
    "interactive_plot"
   ]
  },
  {
   "cell_type": "code",
   "execution_count": 25,
   "id": "36853f85",
   "metadata": {},
   "outputs": [
    {
     "data": {
      "application/vnd.jupyter.widget-view+json": {
       "model_id": "4e8eb5977866443abe1fa8c6c674f6ce",
       "version_major": 2,
       "version_minor": 0
      },
      "text/plain": [
       "interactive(children=(Dropdown(description='state', options=('AL', 'AZ', 'CA', 'IL', 'KS', 'MI', 'MO', 'MS', '…"
      ]
     },
     "metadata": {},
     "output_type": "display_data"
    },
    {
     "name": "stdout",
     "output_type": "stream",
     "text": [
      "<function data_dir at 0x0000014DA2CE44C0>\n"
     ]
    }
   ],
   "source": [
    "@interact(state = list_of_available_data)\n",
    "\n",
    "def data_dir(state='AL'):\n",
    "    data = os.path.join(states_data, state)\n",
    "    return (data)\n",
    "\n",
    "data = data_dir\n",
    "print(data)"
   ]
  },
  {
   "cell_type": "code",
   "execution_count": 24,
   "id": "258a27e6",
   "metadata": {},
   "outputs": [
    {
     "ename": "NameError",
     "evalue": "name 'data' is not defined",
     "output_type": "error",
     "traceback": [
      "\u001b[1;31m---------------------------------------------------------------------------\u001b[0m",
      "\u001b[1;31mNameError\u001b[0m                                 Traceback (most recent call last)",
      "\u001b[1;32m~\\AppData\\Local\\Temp\\ipykernel_13416\\1779762351.py\u001b[0m in \u001b[0;36m<cell line: 1>\u001b[1;34m()\u001b[0m\n\u001b[1;32m----> 1\u001b[1;33m \u001b[0mdf\u001b[0m \u001b[1;33m=\u001b[0m \u001b[0mpd\u001b[0m\u001b[1;33m.\u001b[0m\u001b[0mread_csv\u001b[0m\u001b[1;33m(\u001b[0m\u001b[0mos\u001b[0m\u001b[1;33m.\u001b[0m\u001b[0mpath\u001b[0m\u001b[1;33m.\u001b[0m\u001b[0mjoin\u001b[0m\u001b[1;33m(\u001b[0m\u001b[0mdata\u001b[0m\u001b[1;33m,\u001b[0m \u001b[1;34m'contaminants.csv'\u001b[0m\u001b[1;33m)\u001b[0m\u001b[1;33m)\u001b[0m\u001b[1;33m\u001b[0m\u001b[1;33m\u001b[0m\u001b[0m\n\u001b[0m\u001b[0;32m      2\u001b[0m \u001b[0mdf\u001b[0m\u001b[1;33m.\u001b[0m\u001b[0mhead\u001b[0m\u001b[1;33m(\u001b[0m\u001b[1;33m)\u001b[0m\u001b[1;33m\u001b[0m\u001b[1;33m\u001b[0m\u001b[0m\n",
      "\u001b[1;31mNameError\u001b[0m: name 'data' is not defined"
     ]
    }
   ],
   "source": [
    "\n",
    "df = pd.read_csv(os.path.join(data, 'contaminants.csv'))\n",
    "df.head()"
   ]
  },
  {
   "cell_type": "code",
   "execution_count": 26,
   "id": "03e927ef",
   "metadata": {},
   "outputs": [
    {
     "data": {
      "application/vnd.jupyter.widget-view+json": {
       "model_id": "19eb5bea99d342999eeb3426d4399a62",
       "version_major": 2,
       "version_minor": 0
      },
      "text/plain": [
       "HBox(children=(Dropdown(description='Year', options=('ALL', '2000', '2001', '2002', '2003', '2004', '2005', '2…"
      ]
     },
     "metadata": {},
     "output_type": "display_data"
    },
    {
     "data": {
      "application/vnd.jupyter.widget-view+json": {
       "model_id": "13627d160e524941bf2c2f66ab46d0df",
       "version_major": 2,
       "version_minor": 0
      },
      "text/plain": [
       "Output()"
      ]
     },
     "metadata": {},
     "output_type": "display_data"
    }
   ],
   "source": [
    "import pandas as pd\n",
    "import numpy as np\n",
    "import ipywidgets as widgets\n",
    "from ipywidgets import Layout, AppLayout\n",
    "from IPython.display import display\n",
    "import functools\n",
    " \n",
    "data = {'year': ['2000', '2000','2000','2000','2001','2001','2001','2001', '2002',  '2002', '2002', '2002',\n",
    "                 '2003','2003','2003','2003','2004', '2004','2004','2004', '2005', '2005', '2005', '2005', \n",
    "                 '2006', '2006', '2006', '2006', '2006', '2007', '2007', '2007', '2007', '2008', '2008', '2008', '2008',\n",
    "                 '2009', '2009', '2009', '2009'],\n",
    "        \n",
    "        'purpose':['Holiday', 'Business', 'VFR', 'Study', 'Holiday', 'Business', 'VFR', 'Study', 'Holiday', 'Business',\n",
    "                   'VFR', 'Study', 'Holiday', 'Business', 'VFR', 'Study', 'Holiday', 'Business', 'VFR', 'Study', 'Holiday',\n",
    "                   'Business', 'VFR', 'Study', 'Holiday', 'Business', 'VFR', 'Study', 'Holiday', 'Business', 'VFR', 'Study',\n",
    "                   'Holiday', 'Business', 'VFR', 'Study', 'Holiday', 'Business', 'VFR', 'Study', 'Holiday'\n",
    "                  ], \n",
    "                'market':['Belgium', 'Luxembourg', 'France', 'Spain', 'Norway', 'Sweden', 'Germany', 'Austria', 'Denmark',\n",
    "                  'Portugal', 'Greece', 'Croatia', 'Belgium', 'Luxembourg', 'France', 'Spain', 'Norway', 'Sweden',\n",
    "                  'Germany', 'Austria', 'Denmark', 'Portugal', 'Greece', 'Croatia', 'Belgium', 'Luxembourg', 'France',\n",
    "                  'Spain', 'Norway', 'Sweden', 'Germany', 'Austria', 'Denmark', 'Portugal', 'Greece', 'Croatia', 'Belgium',\n",
    "                  'Luxembourg', 'France', 'Spain', 'Norway'\n",
    "                 ]} \n",
    " \n",
    "df_london = pd.DataFrame (data, columns = ['year','purpose', 'market'])\n",
    " \n",
    "output_dataframe = None\n",
    "\n",
    "# Get our unique values\n",
    "ALL = 'ALL'\n",
    "def unique_sorted_values_plus_ALL(array):\n",
    "    unique = array.unique().tolist()\n",
    "    unique.sort()\n",
    "    unique.insert(0, ALL)\n",
    "    return unique\n",
    "\n",
    "output = widgets.Output()\n",
    "\n",
    "# Dropdown listbox\n",
    "dropdown_year = widgets.Dropdown(description='Year',\n",
    "                                  options = unique_sorted_values_plus_ALL(df_london.year))\n",
    "\n",
    "        \n",
    "        \n",
    "# Function to filter our dropdown listboxe\n",
    "def common_filtering(year):\n",
    "    global output_dataframe\n",
    "    df = df_london.copy()\n",
    "        \n",
    "    filters = []\n",
    "    \n",
    "    # Evaluate our dropdown listbox and return booleans for our selections\n",
    "    if year is not ALL:\n",
    "        filters.append(df['year'] == year)\n",
    "    \n",
    "    output.clear_output()\n",
    "    \n",
    "    with output:\n",
    "        if filters:\n",
    "            df_filter = functools.reduce(lambda x,y: x&y, filters)\n",
    "            output_dataframe = df.loc[df_filter]\n",
    "        else:\n",
    "            output_dataframe = df\n",
    "        display(output_dataframe)\n",
    "\n",
    "def dropdown_year_eventhandler(change):\n",
    "    common_filtering(change.new)\n",
    "\n",
    "dropdown_year.observe(dropdown_year_eventhandler, names='value')\n",
    "\n",
    "ui = widgets.HBox([dropdown_year])\n",
    "\n",
    "display(ui, output)"
   ]
  },
  {
   "cell_type": "code",
   "execution_count": null,
   "id": "e7957d37",
   "metadata": {},
   "outputs": [],
   "source": []
  }
 ],
 "metadata": {
  "kernelspec": {
   "display_name": "mlenv",
   "language": "python",
   "name": "mlenv"
  },
  "language_info": {
   "codemirror_mode": {
    "name": "ipython",
    "version": 3
   },
   "file_extension": ".py",
   "mimetype": "text/x-python",
   "name": "python",
   "nbconvert_exporter": "python",
   "pygments_lexer": "ipython3",
   "version": "3.9.12"
  }
 },
 "nbformat": 4,
 "nbformat_minor": 5
}
