{
 "cells": [
  {
   "cell_type": "code",
   "execution_count": 2,
   "id": "42b81db8",
   "metadata": {},
   "outputs": [],
   "source": [
    "import pandas as pd\n",
    "import os"
   ]
  },
  {
   "cell_type": "code",
   "execution_count": 3,
   "id": "99d36a28",
   "metadata": {},
   "outputs": [],
   "source": [
    "data_dir = os.path.join('..', 'Resources', 'Data', 'user_scrape_data')"
   ]
  },
  {
   "cell_type": "code",
   "execution_count": 4,
   "id": "4eebb545",
   "metadata": {},
   "outputs": [],
   "source": [
    "master_df = pd.DataFrame()\n",
    "for state_dir in os.listdir(data_dir):\n",
    "    d = os.path.join(data_dir, state_dir)\n",
    "    #print(d)\n",
    "    temp_df= pd.read_csv(os.path.join(d, 'cleaned.csv' ))\n",
    "    #print(temp_df)\n",
    "    master_df = master_df.append(temp_df)"
   ]
  },
  {
   "cell_type": "code",
   "execution_count": 5,
   "id": "661ed4b0",
   "metadata": {},
   "outputs": [],
   "source": [
    "master_df.county_FIPS = pd.Series(master_df.county_FIPS, dtype=pd.Int64Dtype())\n",
    "#     df['key'] = pd.Series(df['key'],dtype=pd.Int64Dtype())\n"
   ]
  },
  {
   "cell_type": "code",
   "execution_count": 6,
   "id": "0d0c4ccf",
   "metadata": {},
   "outputs": [
    {
     "data": {
      "text/html": [
       "<div>\n",
       "<style scoped>\n",
       "    .dataframe tbody tr th:only-of-type {\n",
       "        vertical-align: middle;\n",
       "    }\n",
       "\n",
       "    .dataframe tbody tr th {\n",
       "        vertical-align: top;\n",
       "    }\n",
       "\n",
       "    .dataframe thead th {\n",
       "        text-align: right;\n",
       "    }\n",
       "</style>\n",
       "<table border=\"1\" class=\"dataframe\">\n",
       "  <thead>\n",
       "    <tr style=\"text-align: right;\">\n",
       "      <th></th>\n",
       "      <th>Utility</th>\n",
       "      <th>Contaminant_Factor</th>\n",
       "      <th>Zip</th>\n",
       "      <th>county_FIPS</th>\n",
       "    </tr>\n",
       "  </thead>\n",
       "  <tbody>\n",
       "    <tr>\n",
       "      <th>0</th>\n",
       "      <td>Brookside Water Works</td>\n",
       "      <td>1202</td>\n",
       "      <td>35005</td>\n",
       "      <td>1073</td>\n",
       "    </tr>\n",
       "    <tr>\n",
       "      <th>1</th>\n",
       "      <td>Graysville Water &amp; Sewer Board</td>\n",
       "      <td>1160</td>\n",
       "      <td>35005</td>\n",
       "      <td>1073</td>\n",
       "    </tr>\n",
       "    <tr>\n",
       "      <th>2</th>\n",
       "      <td>Irondale Water System</td>\n",
       "      <td>167</td>\n",
       "      <td>35005</td>\n",
       "      <td>1073</td>\n",
       "    </tr>\n",
       "    <tr>\n",
       "      <th>3</th>\n",
       "      <td>Leeds Water Board</td>\n",
       "      <td>138</td>\n",
       "      <td>35005</td>\n",
       "      <td>1073</td>\n",
       "    </tr>\n",
       "    <tr>\n",
       "      <th>4</th>\n",
       "      <td>Mulga Water Works and Gas Department</td>\n",
       "      <td>1154</td>\n",
       "      <td>35005</td>\n",
       "      <td>1073</td>\n",
       "    </tr>\n",
       "    <tr>\n",
       "      <th>...</th>\n",
       "      <td>...</td>\n",
       "      <td>...</td>\n",
       "      <td>...</td>\n",
       "      <td>...</td>\n",
       "    </tr>\n",
       "    <tr>\n",
       "      <th>338</th>\n",
       "      <td>Moorefield Municipal Water</td>\n",
       "      <td>1013</td>\n",
       "      <td>26755</td>\n",
       "      <td>54027</td>\n",
       "    </tr>\n",
       "    <tr>\n",
       "      <th>339</th>\n",
       "      <td>Wardensville Town Of</td>\n",
       "      <td>343</td>\n",
       "      <td>26755</td>\n",
       "      <td>54027</td>\n",
       "    </tr>\n",
       "    <tr>\n",
       "      <th>340</th>\n",
       "      <td>Franklin Municipality Of</td>\n",
       "      <td>237</td>\n",
       "      <td>26802</td>\n",
       "      <td>54071</td>\n",
       "    </tr>\n",
       "    <tr>\n",
       "      <th>341</th>\n",
       "      <td>Pendleton Co. Psd(brandywine)</td>\n",
       "      <td>3183</td>\n",
       "      <td>26802</td>\n",
       "      <td>54071</td>\n",
       "    </tr>\n",
       "    <tr>\n",
       "      <th>342</th>\n",
       "      <td>Pendleton County Psd Riverton</td>\n",
       "      <td>97</td>\n",
       "      <td>26802</td>\n",
       "      <td>54071</td>\n",
       "    </tr>\n",
       "  </tbody>\n",
       "</table>\n",
       "<p>5608 rows × 4 columns</p>\n",
       "</div>"
      ],
      "text/plain": [
       "                                  Utility  Contaminant_Factor    Zip  \\\n",
       "0                   Brookside Water Works                1202  35005   \n",
       "1          Graysville Water & Sewer Board                1160  35005   \n",
       "2                   Irondale Water System                 167  35005   \n",
       "3                       Leeds Water Board                 138  35005   \n",
       "4    Mulga Water Works and Gas Department                1154  35005   \n",
       "..                                    ...                 ...    ...   \n",
       "338            Moorefield Municipal Water                1013  26755   \n",
       "339                  Wardensville Town Of                 343  26755   \n",
       "340              Franklin Municipality Of                 237  26802   \n",
       "341         Pendleton Co. Psd(brandywine)                3183  26802   \n",
       "342         Pendleton County Psd Riverton                  97  26802   \n",
       "\n",
       "     county_FIPS  \n",
       "0           1073  \n",
       "1           1073  \n",
       "2           1073  \n",
       "3           1073  \n",
       "4           1073  \n",
       "..           ...  \n",
       "338        54027  \n",
       "339        54027  \n",
       "340        54071  \n",
       "341        54071  \n",
       "342        54071  \n",
       "\n",
       "[5608 rows x 4 columns]"
      ]
     },
     "execution_count": 6,
     "metadata": {},
     "output_type": "execute_result"
    }
   ],
   "source": [
    "master_df"
   ]
  },
  {
   "cell_type": "code",
   "execution_count": 7,
   "id": "9f696e29",
   "metadata": {},
   "outputs": [],
   "source": [
    "master_df.to_csv(os.path.join('..', 'Resources', 'Data', 'Cleaned_Data', 'master_contaminants.csv'), index=False)"
   ]
  },
  {
   "cell_type": "code",
   "execution_count": null,
   "id": "c88e8bd3",
   "metadata": {},
   "outputs": [],
   "source": []
  }
 ],
 "metadata": {
  "kernelspec": {
   "display_name": "PythonData",
   "language": "python",
   "name": "pythondata"
  },
  "language_info": {
   "codemirror_mode": {
    "name": "ipython",
    "version": 3
   },
   "file_extension": ".py",
   "mimetype": "text/x-python",
   "name": "python",
   "nbconvert_exporter": "python",
   "pygments_lexer": "ipython3",
   "version": "3.7.12"
  }
 },
 "nbformat": 4,
 "nbformat_minor": 5
}
