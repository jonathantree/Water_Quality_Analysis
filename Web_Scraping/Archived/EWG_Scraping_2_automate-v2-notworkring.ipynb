{
 "cells": [
  {
   "cell_type": "code",
   "execution_count": null,
   "id": "e7333635",
   "metadata": {},
   "outputs": [],
   "source": [
    "from selenium import webdriver\n",
    "from selenium.webdriver.common.keys import Keys\n",
    "from selenium.webdriver.common.by import By\n",
    "from bs4 import BeautifulSoup as soup\n",
    "import pandas as pd\n",
    "import requests\n",
    "import time"
   ]
  },
  {
   "cell_type": "code",
   "execution_count": null,
   "id": "df1f221a",
   "metadata": {},
   "outputs": [],
   "source": [
    "# driver = webdriver.Chrome()\n",
    "# driver.get(\"https://www.ewg.org/tapwater/\")"
   ]
  },
  {
   "cell_type": "code",
   "execution_count": null,
   "id": "a0c7db07",
   "metadata": {},
   "outputs": [],
   "source": [
    "zip_csv = '../Resources/Data/usa_zipcode_of_or-1554j.csv'\n",
    "zip_df = pd.read_csv(zip_csv)"
   ]
  },
  {
   "cell_type": "code",
   "execution_count": null,
   "id": "d5a391ee",
   "metadata": {},
   "outputs": [],
   "source": [
    "zip_df.dropna()"
   ]
  },
  {
   "cell_type": "code",
   "execution_count": 28,
   "id": "a701458c",
   "metadata": {},
   "outputs": [],
   "source": [
    "def chunker(seq, size):\n",
    "    return (seq[pos:pos + size] for pos in range(0, len(seq), size))"
   ]
  },
  {
   "cell_type": "code",
   "execution_count": 29,
   "id": "f0c4dca0",
   "metadata": {},
   "outputs": [],
   "source": [
    "zip_list = zip_df.zip.to_list()\n",
    "# del zip_list[-3:]\n",
    "# for zip_group in chunker(zip_list,5):\n",
    "#     print(zip_group)"
   ]
  },
  {
   "cell_type": "code",
   "execution_count": 18,
   "id": "ed2953e5",
   "metadata": {},
   "outputs": [],
   "source": [
    "zip_list = zip_df.zip.to_list()\n",
    "zip_list.index('97002')\n",
    "zip_list =zip_list[:10]\n",
    "# zip_list = zip_list[16:]\n",
    "# zip_list"
   ]
  },
  {
   "cell_type": "code",
   "execution_count": 30,
   "id": "3dc70aa1",
   "metadata": {},
   "outputs": [],
   "source": [
    "#Initialize list to hold the scraped data   \n",
    "contaminant_list = []"
   ]
  },
  {
   "cell_type": "code",
   "execution_count": 31,
   "id": "76ce8c81",
   "metadata": {},
   "outputs": [],
   "source": [
    "# driver = webdriver.Chrome()\n",
    "# driver.get(\"https://www.ewg.org/tapwater/\")\n",
    "driver = webdriver.Chrome()\n",
    "driver.get(\"https://www.ewg.org/tapwater/\")\n",
    "#/html/body/div[3]/main/figure[1]/table/tbody/tr[2]/td[1]/a\n",
    "#/html/body/div[3]/main/figure[1]/table/tbody/tr[2]/td[1]/a"
   ]
  },
  {
   "cell_type": "code",
   "execution_count": 1,
   "id": "b14c64e5",
   "metadata": {
    "scrolled": true
   },
   "outputs": [
    {
     "ename": "NameError",
     "evalue": "name 'chunker' is not defined",
     "output_type": "error",
     "traceback": [
      "\u001b[1;31m---------------------------------------------------------------------------\u001b[0m",
      "\u001b[1;31mNameError\u001b[0m                                 Traceback (most recent call last)",
      "\u001b[1;32m~\\AppData\\Local\\Temp\\ipykernel_28348\\1716646826.py\u001b[0m in \u001b[0;36m<module>\u001b[1;34m\u001b[0m\n\u001b[1;32m----> 1\u001b[1;33m \u001b[1;32mfor\u001b[0m \u001b[0mzip_group\u001b[0m \u001b[1;32min\u001b[0m \u001b[0mchunker\u001b[0m\u001b[1;33m(\u001b[0m\u001b[0mzip_list\u001b[0m\u001b[1;33m,\u001b[0m\u001b[1;36m8\u001b[0m\u001b[1;33m)\u001b[0m\u001b[1;33m:\u001b[0m\u001b[1;33m\u001b[0m\u001b[1;33m\u001b[0m\u001b[0m\n\u001b[0m\u001b[0;32m      2\u001b[0m     \u001b[0mprint\u001b[0m\u001b[1;33m(\u001b[0m\u001b[0mzip_group\u001b[0m\u001b[1;33m)\u001b[0m\u001b[1;33m\u001b[0m\u001b[1;33m\u001b[0m\u001b[0m\n\u001b[0;32m      3\u001b[0m     \u001b[0mdriver\u001b[0m\u001b[1;33m.\u001b[0m\u001b[0mget\u001b[0m\u001b[1;33m(\u001b[0m\u001b[1;34m\"https://www.ewg.org/tapwater/\"\u001b[0m\u001b[1;33m)\u001b[0m\u001b[1;33m\u001b[0m\u001b[1;33m\u001b[0m\u001b[0m\n\u001b[0;32m      4\u001b[0m     \u001b[0mtime\u001b[0m\u001b[1;33m.\u001b[0m\u001b[0msleep\u001b[0m\u001b[1;33m(\u001b[0m\u001b[1;36m10\u001b[0m\u001b[1;33m)\u001b[0m\u001b[1;33m\u001b[0m\u001b[1;33m\u001b[0m\u001b[0m\n\u001b[0;32m      5\u001b[0m     \u001b[1;32mfor\u001b[0m \u001b[0mzipcode\u001b[0m \u001b[1;32min\u001b[0m \u001b[0mzip_group\u001b[0m\u001b[1;33m:\u001b[0m\u001b[1;33m\u001b[0m\u001b[1;33m\u001b[0m\u001b[0m\n",
      "\u001b[1;31mNameError\u001b[0m: name 'chunker' is not defined"
     ]
    }
   ],
   "source": [
    "for zip_group in chunker(zip_list,8):\n",
    "    print(zip_group)\n",
    "    driver.get(\"https://www.ewg.org/tapwater/\")\n",
    "    time.sleep(10)\n",
    "    for zipcode in zip_group:\n",
    "        print(zipcode)\n",
    "        #try:\n",
    "        #driver.manage().timeouts().pageLoadTimeout(40, TimeUnit.SECONDS)\n",
    "\n",
    "        element = driver.find_element(By.XPATH,'/html/body/main/section[1]/form/input[1]')\n",
    "        element.clear()\n",
    "        element.send_keys(zipcode)\n",
    "        button = driver.find_element(By.XPATH,'/html/body/main/section[1]/form/input[3]').click()\n",
    "        time.sleep(5)\n",
    "        zip_url = driver.current_url\n",
    "        url = requests.get(zip_url)\n",
    "        table = pd.read_html(url.text)\n",
    "        num_utilities = len(table[0])\n",
    "\n",
    "\n",
    "      \n",
    "        #Navigate back to the home page after finishing the zip code scrape    \n",
    "        driver.back()\n",
    "        time.sleep(10)\n",
    "        #except:\n",
    "            #print('Level one error')\n",
    "            #pass"
   ]
  },
  {
   "cell_type": "code",
   "execution_count": null,
   "id": "ed68d7e8",
   "metadata": {},
   "outputs": [],
   "source": [
    "df = pd.DataFrame(contaminant_list)"
   ]
  },
  {
   "cell_type": "code",
   "execution_count": null,
   "id": "a87c8a02",
   "metadata": {},
   "outputs": [],
   "source": [
    "pd.set_option(\"display.max_rows\", None, \"display.max_columns\", None)\n",
    "\n",
    "df"
   ]
  },
  {
   "cell_type": "code",
   "execution_count": null,
   "id": "9430ee0b",
   "metadata": {},
   "outputs": [],
   "source": [
    "driver.quit()"
   ]
  },
  {
   "cell_type": "code",
   "execution_count": null,
   "id": "ef7c05e3",
   "metadata": {},
   "outputs": [],
   "source": [
    "df.to_csv('../Resources/Data/OR_zips_scrape.csv')"
   ]
  },
  {
   "cell_type": "code",
   "execution_count": null,
   "id": "07d0f301",
   "metadata": {},
   "outputs": [],
   "source": [
    "with open('../Resources/Data/OR_zips_scrape_after_finished.txt', 'w') as output_file:\n",
    "    for utility in contaminant_list:\n",
    "        output_file.write(utility + '\\n')"
   ]
  },
  {
   "cell_type": "code",
   "execution_count": null,
   "id": "61bada72",
   "metadata": {},
   "outputs": [],
   "source": [
    "        #Initialize an empty list to contain all of our data\n",
    "        for utility_vist in range(num_utilities):\n",
    "            try:\n",
    "                print(utility_vist)\n",
    "                utility_vist = str(utility_vist+1)\n",
    "                XPath = \"/html/body/div[3]/main/figure[1]/table/tbody/tr[\"+utility_vist+\"]/td[1]/a\"\n",
    "                selection = driver.find_element(By.XPATH, XPath).click()\n",
    "                time.sleep(5)\n",
    "                # Parse the resulting html with soup\n",
    "                page_source = driver.page_source\n",
    "                html_soup = soup(page_source, 'html.parser')\n",
    "\n",
    "                #Get the name of the Water Utility\n",
    "                Utility = html_soup.find('h1').text\n",
    "                Utility\n",
    "\n",
    "                #get the html data we need\n",
    "                data_box = html_soup.find_all('div', class_='contaminant-name')\n",
    "\n",
    "                for i in range(len(data_box)):\n",
    "                    data = data_box[i].find_all('span')\n",
    "                    data_measure = []\n",
    "                    d = {\n",
    "                        'Utility' : Utility,\n",
    "                        'Contaminant': '', \n",
    "                        'Utility Measuremnt':'', \n",
    "                        'EWG HEALTH GUIDELINE': '',\n",
    "                        'Legal Limit':'' \n",
    "                    }\n",
    "\n",
    "                    contaminant_name = data_box[i].find('h3')\n",
    "                    d['Contaminant'] = contaminant_name\n",
    "\n",
    "                    for j in range(len(data)):\n",
    "                        measurement = data[j].text\n",
    "                        #print(measurement)\n",
    "                        data_measure.append(measurement)\n",
    "                        #print(data_measure)\n",
    "\n",
    "                    try:\n",
    "                        d['Utility Measuremnt'] = data_measure[data_measure.index('THIS UTILITY')+1]\n",
    "                    except ValueError:\n",
    "                        print(\"A value error arose\")\n",
    "                    except:\n",
    "                        print(\"Something else went wrong\")\n",
    "                    try:\n",
    "                        d['EWG HEALTH GUIDELINE'] = data_measure[data_measure.index('EWG HEALTH GUIDELINE')+1]\n",
    "                    except ValueError:\n",
    "                        print(\"A value error arose\")\n",
    "                    except:\n",
    "                        print(\"Something else went wrong\") \n",
    "                    try:\n",
    "                        d['Legal Limit'] = data_measure[data_measure.index('LEGAL LIMIT')+1]\n",
    "                    except ValueError:\n",
    "                        print(\"A value error arose\")\n",
    "                    except:\n",
    "                        print(\"Something else went wrong\") \n",
    "\n",
    "                    contaminant_list.append(d)\n",
    "\n",
    "                    # Append-adds at last\n",
    "                    # append mode\n",
    "                    file1 = open(\"'../Resources/Data/OR_zips_scrape.txt'\", \"a\")  \n",
    "\n",
    "                    # writing newline character\n",
    "                    file1.write(d)\n",
    "\n",
    "                driver.back()\n",
    "                time.sleep(5)\n",
    "\n",
    "            except:\n",
    "                pass"
   ]
  }
 ],
 "metadata": {
  "kernelspec": {
   "display_name": "PythonData",
   "language": "python",
   "name": "pythondata"
  },
  "language_info": {
   "codemirror_mode": {
    "name": "ipython",
    "version": 3
   },
   "file_extension": ".py",
   "mimetype": "text/x-python",
   "name": "python",
   "nbconvert_exporter": "python",
   "pygments_lexer": "ipython3",
   "version": "3.7.12"
  }
 },
 "nbformat": 4,
 "nbformat_minor": 5
}
