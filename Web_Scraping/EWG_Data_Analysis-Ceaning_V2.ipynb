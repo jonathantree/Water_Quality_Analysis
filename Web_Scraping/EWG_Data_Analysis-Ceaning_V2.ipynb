{
 "cells": [
  {
   "cell_type": "code",
   "execution_count": 6,
   "id": "746751de",
   "metadata": {},
   "outputs": [],
   "source": [
    "import pandas as pd\n",
    "import os\n",
    "import re"
   ]
  },
  {
   "cell_type": "code",
   "execution_count": 7,
   "id": "d6abae39",
   "metadata": {},
   "outputs": [],
   "source": [
    "data_dir = os.path.join('..', 'Resources', 'Data', 'user_scrape_data')"
   ]
  },
  {
   "cell_type": "code",
   "execution_count": 71,
   "id": "7160e2c2",
   "metadata": {},
   "outputs": [],
   "source": [
    "def clean_scraped_data(d):\n",
    "    #Zip code info with county FIPS that we need to join to the final df\n",
    "    zips_df = pd.read_csv(os.path.join(d, 'zips.csv'), on_bad_lines='skip')\n",
    "    \n",
    "    # Contaminant scraped data\n",
    "    EWG_Scrape_df = pd.read_csv(os.path.join(d, 'contaminants.csv'), on_bad_lines='skip')\n",
    "    df = EWG_Scrape_df.copy()\n",
    "    \n",
    "    #Dataframe for utilities zip info\n",
    "    utils_zip_df = pd.read_csv(os.path.join(d, 'utilities.csv'), on_bad_lines='skip')\n",
    "    df2 = utils_zip_df.copy()\n",
    "    df2 = df2.rename(columns={'Utility name':'Utility'})\n",
    "   \n",
    "    #Assign a unique primary key to each utility\n",
    "    df2['key'] = pd.factorize(df2['Utility'])[0]\n",
    "    # Create a dictionay to map the primary key to the contaminants df    \n",
    "    key_dict = df2.set_index('Utility').to_dict()['key']\n",
    "    \n",
    "    #Map the primary key to Contaminants df and reassign the datatype as int\n",
    "    df['key'] = df['Utility'].map(key_dict)\n",
    "    df['key'] = pd.Series(df['key'],dtype=pd.Int64Dtype())\n",
    "\n",
    "    #Set the index of the dataframes to the primary key\n",
    "    df = df.set_index('key')\n",
    "    df2 = df2.set_index('key')\n",
    "    \n",
    "    #Do a left join on the primary key\n",
    "    df3 = df.join(df2, lsuffix='_caller', rsuffix='_other')\n",
    "    \n",
    "    #Drop rows that have the NaN values that are present in rsuffix column\n",
    "    df3 = df3.dropna(subset='Utility_other')\n",
    "    \n",
    "    #Drop rows with non EWG Guideline for a contaminant\n",
    "    df3.dropna(subset=['EWG HEALTH GUIDELINE'], inplace=True)\n",
    "    \n",
    "    #Split of the contaminant measurements and units\n",
    "    df3['Units'] = df3['Utility Measuremnt'].apply(lambda x: x.split()[-1])\n",
    "    df3['Utility Measuremnt'] = df3['Utility Measuremnt'].apply(lambda x: x.split()[0])\n",
    "    df3['EWG HEALTH GUIDELINE'] = df3['EWG HEALTH GUIDELINE'].apply(lambda x: x.split()[0])\n",
    "    \n",
    "    #Replace any commas in the thousandths place\n",
    "    df3.replace(',','', regex=True, inplace=True)\n",
    "    \n",
    "    #Change the datatype of the measurements and EWG Guidlines to numeric values\n",
    "    df3['Utility Measuremnt'] = pd.to_numeric(df3['Utility Measuremnt'])\n",
    "    df3['EWG HEALTH GUIDELINE'] = pd.to_numeric(df3['EWG HEALTH GUIDELINE'])\n",
    "    \n",
    "    #Define the Contaminant Factor (how many times larger is the utility measurement than EWG guideline)\n",
    "    df3['Contaminant_Factor'] = df3['Utility Measuremnt']/df3['EWG HEALTH GUIDELINE']\n",
    "    \n",
    "    #Rename the column and drop the redundant 'Utility_other' column\n",
    "    df3 = df3.rename(columns={'Utility_caller':'Utility'})\n",
    "    df3 = df3.drop(columns=['Utility_other'])\n",
    "    \n",
    "    #Make a unique list of the Utilities to loop through next\n",
    "    utlities_list = list(df3.Utility.unique())\n",
    "    \n",
    "    # Loop through the contaminants df, select a subset for each utility, calculate the sum of the contaminant factor\n",
    "    # And generate a dictionary value for these data to be used in final dataset df\n",
    "    new_dataset = []\n",
    "    for utility in utlities_list:\n",
    "        temp_df = df3[df3.Utility == utility]\n",
    "        cont_factor_sum = round(temp_df.Contaminant_Factor.sum())\n",
    "        zipcode = temp_df['Zip'].values[0]\n",
    "        #print(f'The Contaminant factor for {utility} is: {cont_factor_sum}')\n",
    "        new_dataset_dict = {\n",
    "        'Utility' : utility,\n",
    "        'Contaminant_Factor' : cont_factor_sum,\n",
    "        'Zip' : zipcode\n",
    "        }\n",
    "        new_dataset.append(new_dataset_dict)\n",
    "        \n",
    "    new_dataset_df = pd.DataFrame(new_dataset)\n",
    "    new_dataset_df.Zip = new_dataset_df.Zip.astype('int')\n",
    "    \n",
    "    # Create a dictionary to map the zip codes for each utility to the respective county FIPS code\n",
    "    c_FIPS_dict = zips_df.set_index('zip').to_dict()['county_fips']\n",
    "    new_dataset_df['county_FIPS'] = new_dataset_df['Zip'].map(c_FIPS_dict)\n",
    "    \n",
    "    #Save the resulting dataframe to a csv\n",
    "    new_dataset_df.to_csv(os.path.join(d,'cleaned.csv'), index=False)\n",
    "      \n",
    "    return new_dataset_df"
   ]
  },
  {
   "cell_type": "code",
   "execution_count": 74,
   "id": "ef8f0306",
   "metadata": {},
   "outputs": [
    {
     "name": "stdout",
     "output_type": "stream",
     "text": [
      "..\\Resources\\Data\\user_scrape_data\\AL\n",
      "..\\Resources\\Data\\user_scrape_data\\AZ\n",
      "..\\Resources\\Data\\user_scrape_data\\IL\n",
      "..\\Resources\\Data\\user_scrape_data\\MI\n",
      "..\\Resources\\Data\\user_scrape_data\\MO\n",
      "..\\Resources\\Data\\user_scrape_data\\MS\n",
      "..\\Resources\\Data\\user_scrape_data\\MT\n",
      "..\\Resources\\Data\\user_scrape_data\\PA\n",
      "..\\Resources\\Data\\user_scrape_data\\WV\n"
     ]
    }
   ],
   "source": [
    "for state_dir in os.listdir(data_dir):\n",
    "    d = os.path.join(data_dir, state_dir)\n",
    "    print(d)\n",
    "    clean_scraped_data(d)"
   ]
  },
  {
   "cell_type": "code",
   "execution_count": null,
   "id": "50d82bbc",
   "metadata": {},
   "outputs": [],
   "source": []
  }
 ],
 "metadata": {
  "kernelspec": {
   "display_name": "mlenv",
   "language": "python",
   "name": "mlenv"
  },
  "language_info": {
   "codemirror_mode": {
    "name": "ipython",
    "version": 3
   },
   "file_extension": ".py",
   "mimetype": "text/x-python",
   "name": "python",
   "nbconvert_exporter": "python",
   "pygments_lexer": "ipython3",
   "version": "3.9.12"
  }
 },
 "nbformat": 4,
 "nbformat_minor": 5
}
