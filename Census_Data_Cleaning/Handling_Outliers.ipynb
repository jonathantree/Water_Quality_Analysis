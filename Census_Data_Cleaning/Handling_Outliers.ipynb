{
 "cells": [
  {
   "cell_type": "code",
   "execution_count": 1,
   "metadata": {},
   "outputs": [],
   "source": [
    "# Import Dependencies\n",
    "import pandas as pd\n",
    "import sqlite3\n",
    "import numpy as np\n",
    "import matplotlib.pyplot as plt\n",
    "import seaborn as sns\n",
    "\n",
    "%matplotlib inline"
   ]
  },
  {
   "cell_type": "code",
   "execution_count": 2,
   "metadata": {},
   "outputs": [],
   "source": [
    "# Connect to SQLite dB\n",
    "con = sqlite3.connect('/Users/jennadodge/uofo-virt-data-pt-12-2021-u-b/Water_Quality_Analysis/Database/database.sqlite3')\n",
    "\n",
    "# Create a cursor object\n",
    "cur = con.cursor()"
   ]
  },
  {
   "cell_type": "code",
   "execution_count": 3,
   "metadata": {},
   "outputs": [
    {
     "data": {
      "text/html": [
       "<div>\n",
       "<style scoped>\n",
       "    .dataframe tbody tr th:only-of-type {\n",
       "        vertical-align: middle;\n",
       "    }\n",
       "\n",
       "    .dataframe tbody tr th {\n",
       "        vertical-align: top;\n",
       "    }\n",
       "\n",
       "    .dataframe thead th {\n",
       "        text-align: right;\n",
       "    }\n",
       "</style>\n",
       "<table border=\"1\" class=\"dataframe\">\n",
       "  <thead>\n",
       "    <tr style=\"text-align: right;\">\n",
       "      <th></th>\n",
       "      <th>county_FIPS</th>\n",
       "      <th>Geographic_Area_Name</th>\n",
       "      <th>County</th>\n",
       "      <th>GEOID</th>\n",
       "      <th>Total_Population</th>\n",
       "      <th>White</th>\n",
       "      <th>Black</th>\n",
       "      <th>Native</th>\n",
       "      <th>Asian</th>\n",
       "      <th>Pacific_Islander</th>\n",
       "      <th>...</th>\n",
       "      <th>Shannon_Race_DI</th>\n",
       "      <th>Shannon_Ethnic_DI</th>\n",
       "      <th>Gini_Index</th>\n",
       "      <th>County_FIPS</th>\n",
       "      <th>Num_Contaminants</th>\n",
       "      <th>Sum_Population_Served</th>\n",
       "      <th>Sum_ContaminantFactor</th>\n",
       "      <th>Min_Contaminant_Factor</th>\n",
       "      <th>Max_Contaminant_Factor</th>\n",
       "      <th>Avg_Contaminant_Factor</th>\n",
       "    </tr>\n",
       "  </thead>\n",
       "  <tbody>\n",
       "    <tr>\n",
       "      <th>0</th>\n",
       "      <td>8069</td>\n",
       "      <td>Larimer County, Colorado</td>\n",
       "      <td>Larimer County</td>\n",
       "      <td>0500000US08069</td>\n",
       "      <td>359066</td>\n",
       "      <td>295995</td>\n",
       "      <td>3816</td>\n",
       "      <td>2879</td>\n",
       "      <td>8539</td>\n",
       "      <td>326</td>\n",
       "      <td>...</td>\n",
       "      <td>0.948124</td>\n",
       "      <td>0.375569</td>\n",
       "      <td>0.4428</td>\n",
       "      <td>8069</td>\n",
       "      <td>4</td>\n",
       "      <td>264021</td>\n",
       "      <td>4744</td>\n",
       "      <td>984</td>\n",
       "      <td>1519</td>\n",
       "      <td>1186.00</td>\n",
       "    </tr>\n",
       "    <tr>\n",
       "      <th>1</th>\n",
       "      <td>10001</td>\n",
       "      <td>Kent County, Delaware</td>\n",
       "      <td>Kent County</td>\n",
       "      <td>0500000US10001</td>\n",
       "      <td>181851</td>\n",
       "      <td>107685</td>\n",
       "      <td>46999</td>\n",
       "      <td>1150</td>\n",
       "      <td>4430</td>\n",
       "      <td>126</td>\n",
       "      <td>...</td>\n",
       "      <td>1.305087</td>\n",
       "      <td>0.271086</td>\n",
       "      <td>0.4191</td>\n",
       "      <td>10001</td>\n",
       "      <td>9</td>\n",
       "      <td>70580</td>\n",
       "      <td>4987</td>\n",
       "      <td>201</td>\n",
       "      <td>1395</td>\n",
       "      <td>554.11</td>\n",
       "    </tr>\n",
       "    <tr>\n",
       "      <th>2</th>\n",
       "      <td>10003</td>\n",
       "      <td>New Castle County, Delaware</td>\n",
       "      <td>New Castle County</td>\n",
       "      <td>0500000US10003</td>\n",
       "      <td>570719</td>\n",
       "      <td>314231</td>\n",
       "      <td>146545</td>\n",
       "      <td>2157</td>\n",
       "      <td>35201</td>\n",
       "      <td>176</td>\n",
       "      <td>...</td>\n",
       "      <td>1.464587</td>\n",
       "      <td>0.349206</td>\n",
       "      <td>0.4607</td>\n",
       "      <td>10003</td>\n",
       "      <td>20</td>\n",
       "      <td>555453</td>\n",
       "      <td>15583</td>\n",
       "      <td>68</td>\n",
       "      <td>4732</td>\n",
       "      <td>779.15</td>\n",
       "    </tr>\n",
       "    <tr>\n",
       "      <th>3</th>\n",
       "      <td>10005</td>\n",
       "      <td>Sussex County, Delaware</td>\n",
       "      <td>Sussex County</td>\n",
       "      <td>0500000US10005</td>\n",
       "      <td>237378</td>\n",
       "      <td>175847</td>\n",
       "      <td>25358</td>\n",
       "      <td>1844</td>\n",
       "      <td>3071</td>\n",
       "      <td>113</td>\n",
       "      <td>...</td>\n",
       "      <td>1.161943</td>\n",
       "      <td>0.352475</td>\n",
       "      <td>0.4561</td>\n",
       "      <td>10005</td>\n",
       "      <td>11</td>\n",
       "      <td>205901</td>\n",
       "      <td>5456</td>\n",
       "      <td>91</td>\n",
       "      <td>1295</td>\n",
       "      <td>496.00</td>\n",
       "    </tr>\n",
       "    <tr>\n",
       "      <th>4</th>\n",
       "      <td>16019</td>\n",
       "      <td>Bonneville County, Idaho</td>\n",
       "      <td>Bonneville County</td>\n",
       "      <td>0500000US16019</td>\n",
       "      <td>123964</td>\n",
       "      <td>103736</td>\n",
       "      <td>627</td>\n",
       "      <td>1262</td>\n",
       "      <td>1424</td>\n",
       "      <td>155</td>\n",
       "      <td>...</td>\n",
       "      <td>0.919484</td>\n",
       "      <td>0.401124</td>\n",
       "      <td>0.4287</td>\n",
       "      <td>16019</td>\n",
       "      <td>1</td>\n",
       "      <td>2982</td>\n",
       "      <td>42</td>\n",
       "      <td>42</td>\n",
       "      <td>42</td>\n",
       "      <td>42.00</td>\n",
       "    </tr>\n",
       "  </tbody>\n",
       "</table>\n",
       "<p>5 rows × 37 columns</p>\n",
       "</div>"
      ],
      "text/plain": [
       "   county_FIPS         Geographic_Area_Name             County  \\\n",
       "0         8069     Larimer County, Colorado     Larimer County   \n",
       "1        10001        Kent County, Delaware        Kent County   \n",
       "2        10003  New Castle County, Delaware  New Castle County   \n",
       "3        10005      Sussex County, Delaware      Sussex County   \n",
       "4        16019     Bonneville County, Idaho  Bonneville County   \n",
       "\n",
       "            GEOID  Total_Population   White   Black  Native  Asian  \\\n",
       "0  0500000US08069            359066  295995    3816    2879   8539   \n",
       "1  0500000US10001            181851  107685   46999    1150   4430   \n",
       "2  0500000US10003            570719  314231  146545    2157  35201   \n",
       "3  0500000US10005            237378  175847   25358    1844   3071   \n",
       "4  0500000US16019            123964  103736     627    1262   1424   \n",
       "\n",
       "   Pacific_Islander  ...  Shannon_Race_DI  Shannon_Ethnic_DI  Gini_Index  \\\n",
       "0               326  ...         0.948124           0.375569      0.4428   \n",
       "1               126  ...         1.305087           0.271086      0.4191   \n",
       "2               176  ...         1.464587           0.349206      0.4607   \n",
       "3               113  ...         1.161943           0.352475      0.4561   \n",
       "4               155  ...         0.919484           0.401124      0.4287   \n",
       "\n",
       "   County_FIPS  Num_Contaminants  Sum_Population_Served  \\\n",
       "0         8069                 4                 264021   \n",
       "1        10001                 9                  70580   \n",
       "2        10003                20                 555453   \n",
       "3        10005                11                 205901   \n",
       "4        16019                 1                   2982   \n",
       "\n",
       "   Sum_ContaminantFactor  Min_Contaminant_Factor  Max_Contaminant_Factor  \\\n",
       "0                   4744                     984                    1519   \n",
       "1                   4987                     201                    1395   \n",
       "2                  15583                      68                    4732   \n",
       "3                   5456                      91                    1295   \n",
       "4                     42                      42                      42   \n",
       "\n",
       "   Avg_Contaminant_Factor  \n",
       "0                 1186.00  \n",
       "1                  554.11  \n",
       "2                  779.15  \n",
       "3                  496.00  \n",
       "4                   42.00  \n",
       "\n",
       "[5 rows x 37 columns]"
      ]
     },
     "execution_count": 3,
     "metadata": {},
     "output_type": "execute_result"
    }
   ],
   "source": [
    "df = pd.read_sql_query(\"SELECT * FROM Census_Data INNER JOIN Contaminant_Summary on Census_Data.county_FIPS = Contaminant_Summary.county_FIPS\",con)\n",
    "df.head()"
   ]
  },
  {
   "cell_type": "code",
   "execution_count": 4,
   "metadata": {},
   "outputs": [],
   "source": [
    "con.close()"
   ]
  },
  {
   "cell_type": "code",
   "execution_count": 5,
   "metadata": {},
   "outputs": [
    {
     "data": {
      "text/plain": [
       "(882, 37)"
      ]
     },
     "execution_count": 5,
     "metadata": {},
     "output_type": "execute_result"
    }
   ],
   "source": [
    "df.shape"
   ]
  },
  {
   "cell_type": "code",
   "execution_count": 6,
   "metadata": {},
   "outputs": [
    {
     "data": {
      "text/plain": [
       "<AxesSubplot:>"
      ]
     },
     "execution_count": 6,
     "metadata": {},
     "output_type": "execute_result"
    },
    {
     "data": {
      "image/png": "[encoded data removed]",
      "text/plain": [
       "<Figure size 432x288 with 1 Axes>"
      ]
     },
     "metadata": {
      "needs_background": "light"
     },
     "output_type": "display_data"
    }
   ],
   "source": [
    "df.boxplot(column=[\"Num_Contaminants\",\"Sum_ContaminantFactor\",\"Avg_Contaminant_Factor\"])"
   ]
  },
  {
   "cell_type": "code",
   "execution_count": 7,
   "metadata": {},
   "outputs": [
    {
     "data": {
      "image/png": "[encoded data removed]",
      "text/plain": [
       "<Figure size 432x288 with 1 Axes>"
      ]
     },
     "metadata": {
      "needs_background": "light"
     },
     "output_type": "display_data"
    }
   ],
   "source": [
    "sns.boxplot(x=df['Num_Contaminants'])\n",
    "plt.show()"
   ]
  },
  {
   "cell_type": "code",
   "execution_count": 8,
   "metadata": {},
   "outputs": [
    {
     "data": {
      "image/png": "[encoded data removed]",
      "text/plain": [
       "<Figure size 360x360 with 1 Axes>"
      ]
     },
     "metadata": {
      "needs_background": "light"
     },
     "output_type": "display_data"
    }
   ],
   "source": [
    "sns.displot(df['Num_Contaminants'],bins=30, kde = True)\n",
    "plt.show()"
   ]
  },
  {
   "cell_type": "code",
   "execution_count": 9,
   "metadata": {},
   "outputs": [
    {
     "data": {
      "text/plain": [
       "count    882.000000\n",
       "mean      10.758503\n",
       "std       12.639396\n",
       "min        1.000000\n",
       "25%        4.000000\n",
       "50%        7.000000\n",
       "75%       14.000000\n",
       "max      154.000000\n",
       "Name: Num_Contaminants, dtype: float64"
      ]
     },
     "execution_count": 9,
     "metadata": {},
     "output_type": "execute_result"
    }
   ],
   "source": [
    "df['Num_Contaminants'].describe()"
   ]
  },
  {
   "cell_type": "code",
   "execution_count": 10,
   "metadata": {},
   "outputs": [
    {
     "data": {
      "text/plain": [
       "4.0"
      ]
     },
     "execution_count": 10,
     "metadata": {},
     "output_type": "execute_result"
    }
   ],
   "source": [
    "df['Num_Contaminants'].quantile(0.25)"
   ]
  },
  {
   "cell_type": "code",
   "execution_count": 11,
   "metadata": {},
   "outputs": [
    {
     "data": {
      "text/plain": [
       "14.0"
      ]
     },
     "execution_count": 11,
     "metadata": {},
     "output_type": "execute_result"
    }
   ],
   "source": [
    "df['Num_Contaminants'].quantile(0.75)"
   ]
  },
  {
   "cell_type": "code",
   "execution_count": 12,
   "metadata": {},
   "outputs": [],
   "source": [
    "Q1 = df['Num_Contaminants'].quantile(0.25)\n",
    "Q3 = df['Num_Contaminants'].quantile(0.75)\n",
    "IQR = Q3 - Q1"
   ]
  },
  {
   "cell_type": "code",
   "execution_count": 13,
   "metadata": {},
   "outputs": [
    {
     "data": {
      "text/plain": [
       "10.0"
      ]
     },
     "execution_count": 13,
     "metadata": {},
     "output_type": "execute_result"
    }
   ],
   "source": [
    "IQR"
   ]
  },
  {
   "cell_type": "code",
   "execution_count": 14,
   "metadata": {},
   "outputs": [
    {
     "data": {
      "text/plain": [
       "29.0"
      ]
     },
     "execution_count": 14,
     "metadata": {},
     "output_type": "execute_result"
    }
   ],
   "source": [
    "upper_lim = Q3 + 1.5 * IQR\n",
    "upper_lim"
   ]
  },
  {
   "cell_type": "code",
   "execution_count": 15,
   "metadata": {},
   "outputs": [
    {
     "data": {
      "text/plain": [
       "845"
      ]
     },
     "execution_count": 15,
     "metadata": {},
     "output_type": "execute_result"
    }
   ],
   "source": [
    "# how many data points would remain if we eliminated outliers\n",
    "outliers_upper = (df['Num_Contaminants'] > upper_lim)\n",
    "len(df['Num_Contaminants']) - len(df['Num_Contaminants'][outliers_upper])"
   ]
  },
  {
   "cell_type": "code",
   "execution_count": 16,
   "metadata": {},
   "outputs": [
    {
     "data": {
      "text/plain": [
       "0       4\n",
       "1       9\n",
       "2      20\n",
       "3      11\n",
       "4       1\n",
       "       ..\n",
       "872     1\n",
       "876     6\n",
       "877     2\n",
       "878     1\n",
       "879     1\n",
       "Name: Num_Contaminants, Length: 845, dtype: int64"
      ]
     },
     "execution_count": 16,
     "metadata": {},
     "output_type": "execute_result"
    }
   ],
   "source": [
    "df['Num_Contaminants'][-(outliers_upper)]"
   ]
  },
  {
   "cell_type": "code",
   "execution_count": 17,
   "metadata": {},
   "outputs": [],
   "source": [
    "df = df[-(outliers_upper)]"
   ]
  },
  {
   "cell_type": "code",
   "execution_count": 18,
   "metadata": {},
   "outputs": [
    {
     "data": {
      "text/plain": [
       "(845, 37)"
      ]
     },
     "execution_count": 18,
     "metadata": {},
     "output_type": "execute_result"
    }
   ],
   "source": [
    "df.shape"
   ]
  },
  {
   "cell_type": "code",
   "execution_count": 19,
   "metadata": {},
   "outputs": [
    {
     "data": {
      "image/png": "[encoded data removed]",
      "text/plain": [
       "<Figure size 432x288 with 1 Axes>"
      ]
     },
     "metadata": {
      "needs_background": "light"
     },
     "output_type": "display_data"
    }
   ],
   "source": [
    "sns.boxplot(x=df['Num_Contaminants'])\n",
    "plt.show()"
   ]
  },
  {
   "cell_type": "code",
   "execution_count": 20,
   "metadata": {},
   "outputs": [
    {
     "data": {
      "image/png": "[encoded data removed]",
      "text/plain": [
       "<Figure size 360x360 with 1 Axes>"
      ]
     },
     "metadata": {
      "needs_background": "light"
     },
     "output_type": "display_data"
    }
   ],
   "source": [
    "sns.displot(df['Num_Contaminants'],bins=30, kde = True)\n",
    "plt.show()"
   ]
  },
  {
   "cell_type": "markdown",
   "metadata": {},
   "source": [
    "### Remove outliers for Sum_ContaminantFactor"
   ]
  },
  {
   "cell_type": "code",
   "execution_count": 21,
   "metadata": {},
   "outputs": [
    {
     "data": {
      "image/png": "[encoded data removed]",
      "text/plain": [
       "<Figure size 432x288 with 1 Axes>"
      ]
     },
     "metadata": {
      "needs_background": "light"
     },
     "output_type": "display_data"
    }
   ],
   "source": [
    "sns.boxplot(x=df['Sum_ContaminantFactor'])\n",
    "plt.show()"
   ]
  },
  {
   "cell_type": "code",
   "execution_count": 22,
   "metadata": {},
   "outputs": [
    {
     "data": {
      "image/png": "[encoded data removed]",
      "text/plain": [
       "<Figure size 360x360 with 1 Axes>"
      ]
     },
     "metadata": {
      "needs_background": "light"
     },
     "output_type": "display_data"
    }
   ],
   "source": [
    "sns.displot(df['Sum_ContaminantFactor'],bins=30, kde = True)\n",
    "plt.show()"
   ]
  },
  {
   "cell_type": "code",
   "execution_count": 23,
   "metadata": {},
   "outputs": [
    {
     "data": {
      "text/plain": [
       "count    8.450000e+02\n",
       "mean     9.958923e+03\n",
       "std      7.758093e+04\n",
       "min      0.000000e+00\n",
       "25%      1.851000e+03\n",
       "50%      4.461000e+03\n",
       "75%      1.001700e+04\n",
       "max      2.215481e+06\n",
       "Name: Sum_ContaminantFactor, dtype: float64"
      ]
     },
     "execution_count": 23,
     "metadata": {},
     "output_type": "execute_result"
    }
   ],
   "source": [
    "# Same thing for Sum_ContaminantFactor\n",
    "df['Sum_ContaminantFactor'].describe()"
   ]
  },
  {
   "cell_type": "code",
   "execution_count": 24,
   "metadata": {},
   "outputs": [],
   "source": [
    "Q1 = df['Sum_ContaminantFactor'].quantile(0.25)\n",
    "Q3 = df['Sum_ContaminantFactor'].quantile(0.75)\n",
    "IQR = Q3 - Q1"
   ]
  },
  {
   "cell_type": "code",
   "execution_count": 25,
   "metadata": {},
   "outputs": [
    {
     "data": {
      "text/plain": [
       "8166.0"
      ]
     },
     "execution_count": 25,
     "metadata": {},
     "output_type": "execute_result"
    }
   ],
   "source": [
    "IQR"
   ]
  },
  {
   "cell_type": "code",
   "execution_count": 26,
   "metadata": {},
   "outputs": [
    {
     "data": {
      "text/plain": [
       "22266.0"
      ]
     },
     "execution_count": 26,
     "metadata": {},
     "output_type": "execute_result"
    }
   ],
   "source": [
    "upper_lim = Q3 + 1.5 * IQR\n",
    "upper_lim"
   ]
  },
  {
   "cell_type": "code",
   "execution_count": 27,
   "metadata": {},
   "outputs": [
    {
     "data": {
      "text/plain": [
       "808"
      ]
     },
     "execution_count": 27,
     "metadata": {},
     "output_type": "execute_result"
    }
   ],
   "source": [
    "# how many data points would remain if we eliminated outliers\n",
    "outliers_upper = (df['Sum_ContaminantFactor'] > upper_lim)\n",
    "len(df['Sum_ContaminantFactor']) - len(df['Sum_ContaminantFactor'][outliers_upper])"
   ]
  },
  {
   "cell_type": "code",
   "execution_count": 28,
   "metadata": {},
   "outputs": [
    {
     "data": {
      "text/plain": [
       "0       4744\n",
       "1       4987\n",
       "2      15583\n",
       "3       5456\n",
       "4         42\n",
       "       ...  \n",
       "872      363\n",
       "876     7277\n",
       "877     1188\n",
       "878     1104\n",
       "879       20\n",
       "Name: Sum_ContaminantFactor, Length: 808, dtype: int64"
      ]
     },
     "execution_count": 28,
     "metadata": {},
     "output_type": "execute_result"
    }
   ],
   "source": [
    "df['Sum_ContaminantFactor'][-(outliers_upper)]"
   ]
  },
  {
   "cell_type": "code",
   "execution_count": 29,
   "metadata": {},
   "outputs": [],
   "source": [
    "df = df[-(outliers_upper)]"
   ]
  },
  {
   "cell_type": "code",
   "execution_count": 30,
   "metadata": {},
   "outputs": [
    {
     "data": {
      "text/html": [
       "<div>\n",
       "<style scoped>\n",
       "    .dataframe tbody tr th:only-of-type {\n",
       "        vertical-align: middle;\n",
       "    }\n",
       "\n",
       "    .dataframe tbody tr th {\n",
       "        vertical-align: top;\n",
       "    }\n",
       "\n",
       "    .dataframe thead th {\n",
       "        text-align: right;\n",
       "    }\n",
       "</style>\n",
       "<table border=\"1\" class=\"dataframe\">\n",
       "  <thead>\n",
       "    <tr style=\"text-align: right;\">\n",
       "      <th></th>\n",
       "      <th>county_FIPS</th>\n",
       "      <th>Total_Population</th>\n",
       "      <th>White</th>\n",
       "      <th>Black</th>\n",
       "      <th>Native</th>\n",
       "      <th>Asian</th>\n",
       "      <th>Pacific_Islander</th>\n",
       "      <th>Other</th>\n",
       "      <th>Two_or_more_Races</th>\n",
       "      <th>Hispanic</th>\n",
       "      <th>...</th>\n",
       "      <th>pct_Two_or_more_Races</th>\n",
       "      <th>Simpson_Race_DI</th>\n",
       "      <th>Simpson_Ethnic_DI</th>\n",
       "      <th>Shannon_Race_DI</th>\n",
       "      <th>Shannon_Ethnic_DI</th>\n",
       "      <th>Gini_Index</th>\n",
       "      <th>Num_Contaminants</th>\n",
       "      <th>Sum_Population_Served</th>\n",
       "      <th>Sum_ContaminantFactor</th>\n",
       "      <th>Avg_Contaminant_Factor</th>\n",
       "    </tr>\n",
       "  </thead>\n",
       "  <tbody>\n",
       "    <tr>\n",
       "      <th>count</th>\n",
       "      <td>808.000000</td>\n",
       "      <td>8.080000e+02</td>\n",
       "      <td>8.080000e+02</td>\n",
       "      <td>8.080000e+02</td>\n",
       "      <td>808.000000</td>\n",
       "      <td>808.000000</td>\n",
       "      <td>808.000000</td>\n",
       "      <td>808.000000</td>\n",
       "      <td>808.000000</td>\n",
       "      <td>8.080000e+02</td>\n",
       "      <td>...</td>\n",
       "      <td>808.000000</td>\n",
       "      <td>808.000000</td>\n",
       "      <td>808.000000</td>\n",
       "      <td>808.000000</td>\n",
       "      <td>808.000000</td>\n",
       "      <td>808.000000</td>\n",
       "      <td>808.000000</td>\n",
       "      <td>8.080000e+02</td>\n",
       "      <td>808.000000</td>\n",
       "      <td>808.000000</td>\n",
       "    </tr>\n",
       "    <tr>\n",
       "      <th>mean</th>\n",
       "      <td>34617.904703</td>\n",
       "      <td>9.387610e+04</td>\n",
       "      <td>6.174172e+04</td>\n",
       "      <td>1.051226e+04</td>\n",
       "      <td>940.470297</td>\n",
       "      <td>5950.420792</td>\n",
       "      <td>161.404703</td>\n",
       "      <td>6482.091584</td>\n",
       "      <td>8093.733911</td>\n",
       "      <td>1.370017e+04</td>\n",
       "      <td>...</td>\n",
       "      <td>0.058194</td>\n",
       "      <td>0.266554</td>\n",
       "      <td>0.103957</td>\n",
       "      <td>0.721340</td>\n",
       "      <td>0.198266</td>\n",
       "      <td>0.441240</td>\n",
       "      <td>8.396040</td>\n",
       "      <td>4.673438e+04</td>\n",
       "      <td>5873.143564</td>\n",
       "      <td>768.699369</td>\n",
       "    </tr>\n",
       "    <tr>\n",
       "      <th>std</th>\n",
       "      <td>15072.441824</td>\n",
       "      <td>3.033040e+05</td>\n",
       "      <td>1.378511e+05</td>\n",
       "      <td>6.223410e+04</td>\n",
       "      <td>3384.844557</td>\n",
       "      <td>42375.104329</td>\n",
       "      <td>1003.828745</td>\n",
       "      <td>44420.274446</td>\n",
       "      <td>38497.953219</td>\n",
       "      <td>9.367931e+04</td>\n",
       "      <td>...</td>\n",
       "      <td>0.025046</td>\n",
       "      <td>0.156213</td>\n",
       "      <td>0.095936</td>\n",
       "      <td>0.345371</td>\n",
       "      <td>0.137946</td>\n",
       "      <td>0.034327</td>\n",
       "      <td>6.228335</td>\n",
       "      <td>1.506063e+05</td>\n",
       "      <td>5293.297251</td>\n",
       "      <td>583.164846</td>\n",
       "    </tr>\n",
       "    <tr>\n",
       "      <th>min</th>\n",
       "      <td>1001.000000</td>\n",
       "      <td>7.060000e+02</td>\n",
       "      <td>4.010000e+02</td>\n",
       "      <td>1.000000e+00</td>\n",
       "      <td>1.000000</td>\n",
       "      <td>1.000000</td>\n",
       "      <td>1.000000</td>\n",
       "      <td>1.000000</td>\n",
       "      <td>20.000000</td>\n",
       "      <td>8.000000e+00</td>\n",
       "      <td>...</td>\n",
       "      <td>0.018930</td>\n",
       "      <td>0.063408</td>\n",
       "      <td>0.011866</td>\n",
       "      <td>0.202798</td>\n",
       "      <td>0.036514</td>\n",
       "      <td>0.315700</td>\n",
       "      <td>1.000000</td>\n",
       "      <td>2.700000e+01</td>\n",
       "      <td>0.000000</td>\n",
       "      <td>0.000000</td>\n",
       "    </tr>\n",
       "    <tr>\n",
       "      <th>25%</th>\n",
       "      <td>26026.500000</td>\n",
       "      <td>1.177500e+04</td>\n",
       "      <td>9.715000e+03</td>\n",
       "      <td>6.175000e+01</td>\n",
       "      <td>59.750000</td>\n",
       "      <td>41.000000</td>\n",
       "      <td>3.000000</td>\n",
       "      <td>93.500000</td>\n",
       "      <td>526.000000</td>\n",
       "      <td>2.687500e+02</td>\n",
       "      <td>...</td>\n",
       "      <td>0.040991</td>\n",
       "      <td>0.141233</td>\n",
       "      <td>0.039622</td>\n",
       "      <td>0.445590</td>\n",
       "      <td>0.098888</td>\n",
       "      <td>0.416275</td>\n",
       "      <td>4.000000</td>\n",
       "      <td>4.315250e+03</td>\n",
       "      <td>1778.750000</td>\n",
       "      <td>339.202500</td>\n",
       "    </tr>\n",
       "    <tr>\n",
       "      <th>50%</th>\n",
       "      <td>38036.000000</td>\n",
       "      <td>2.786150e+04</td>\n",
       "      <td>2.322500e+04</td>\n",
       "      <td>4.365000e+02</td>\n",
       "      <td>164.000000</td>\n",
       "      <td>133.000000</td>\n",
       "      <td>10.000000</td>\n",
       "      <td>351.500000</td>\n",
       "      <td>1380.500000</td>\n",
       "      <td>9.075000e+02</td>\n",
       "      <td>...</td>\n",
       "      <td>0.052598</td>\n",
       "      <td>0.217509</td>\n",
       "      <td>0.065694</td>\n",
       "      <td>0.633327</td>\n",
       "      <td>0.148381</td>\n",
       "      <td>0.438650</td>\n",
       "      <td>7.000000</td>\n",
       "      <td>1.292450e+04</td>\n",
       "      <td>4097.500000</td>\n",
       "      <td>673.240000</td>\n",
       "    </tr>\n",
       "    <tr>\n",
       "      <th>75%</th>\n",
       "      <td>47390.500000</td>\n",
       "      <td>6.953950e+04</td>\n",
       "      <td>5.885200e+04</td>\n",
       "      <td>2.967500e+03</td>\n",
       "      <td>572.000000</td>\n",
       "      <td>751.000000</td>\n",
       "      <td>37.250000</td>\n",
       "      <td>1854.500000</td>\n",
       "      <td>4700.000000</td>\n",
       "      <td>4.387750e+03</td>\n",
       "      <td>...</td>\n",
       "      <td>0.068502</td>\n",
       "      <td>0.358441</td>\n",
       "      <td>0.130779</td>\n",
       "      <td>0.931640</td>\n",
       "      <td>0.254504</td>\n",
       "      <td>0.462925</td>\n",
       "      <td>11.250000</td>\n",
       "      <td>3.707325e+04</td>\n",
       "      <td>8931.500000</td>\n",
       "      <td>1079.700000</td>\n",
       "    </tr>\n",
       "    <tr>\n",
       "      <th>max</th>\n",
       "      <td>56045.000000</td>\n",
       "      <td>5.275541e+06</td>\n",
       "      <td>2.345983e+06</td>\n",
       "      <td>1.205825e+06</td>\n",
       "      <td>56895.000000</td>\n",
       "      <td>759031.000000</td>\n",
       "      <td>18915.000000</td>\n",
       "      <td>895152.000000</td>\n",
       "      <td>800156.000000</td>\n",
       "      <td>2.034709e+06</td>\n",
       "      <td>...</td>\n",
       "      <td>0.213875</td>\n",
       "      <td>0.768684</td>\n",
       "      <td>0.498687</td>\n",
       "      <td>1.956877</td>\n",
       "      <td>0.691654</td>\n",
       "      <td>0.550900</td>\n",
       "      <td>29.000000</td>\n",
       "      <td>3.328298e+06</td>\n",
       "      <td>22227.000000</td>\n",
       "      <td>5376.000000</td>\n",
       "    </tr>\n",
       "  </tbody>\n",
       "</table>\n",
       "<p>8 rows × 31 columns</p>\n",
       "</div>"
      ],
      "text/plain": [
       "        county_FIPS  Total_Population         White         Black  \\\n",
       "count    808.000000      8.080000e+02  8.080000e+02  8.080000e+02   \n",
       "mean   34617.904703      9.387610e+04  6.174172e+04  1.051226e+04   \n",
       "std    15072.441824      3.033040e+05  1.378511e+05  6.223410e+04   \n",
       "min     1001.000000      7.060000e+02  4.010000e+02  1.000000e+00   \n",
       "25%    26026.500000      1.177500e+04  9.715000e+03  6.175000e+01   \n",
       "50%    38036.000000      2.786150e+04  2.322500e+04  4.365000e+02   \n",
       "75%    47390.500000      6.953950e+04  5.885200e+04  2.967500e+03   \n",
       "max    56045.000000      5.275541e+06  2.345983e+06  1.205825e+06   \n",
       "\n",
       "             Native          Asian  Pacific_Islander          Other  \\\n",
       "count    808.000000     808.000000        808.000000     808.000000   \n",
       "mean     940.470297    5950.420792        161.404703    6482.091584   \n",
       "std     3384.844557   42375.104329       1003.828745   44420.274446   \n",
       "min        1.000000       1.000000          1.000000       1.000000   \n",
       "25%       59.750000      41.000000          3.000000      93.500000   \n",
       "50%      164.000000     133.000000         10.000000     351.500000   \n",
       "75%      572.000000     751.000000         37.250000    1854.500000   \n",
       "max    56895.000000  759031.000000      18915.000000  895152.000000   \n",
       "\n",
       "       Two_or_more_Races      Hispanic  ...  pct_Two_or_more_Races  \\\n",
       "count         808.000000  8.080000e+02  ...             808.000000   \n",
       "mean         8093.733911  1.370017e+04  ...               0.058194   \n",
       "std         38497.953219  9.367931e+04  ...               0.025046   \n",
       "min            20.000000  8.000000e+00  ...               0.018930   \n",
       "25%           526.000000  2.687500e+02  ...               0.040991   \n",
       "50%          1380.500000  9.075000e+02  ...               0.052598   \n",
       "75%          4700.000000  4.387750e+03  ...               0.068502   \n",
       "max        800156.000000  2.034709e+06  ...               0.213875   \n",
       "\n",
       "       Simpson_Race_DI  Simpson_Ethnic_DI  Shannon_Race_DI  Shannon_Ethnic_DI  \\\n",
       "count       808.000000         808.000000       808.000000         808.000000   \n",
       "mean          0.266554           0.103957         0.721340           0.198266   \n",
       "std           0.156213           0.095936         0.345371           0.137946   \n",
       "min           0.063408           0.011866         0.202798           0.036514   \n",
       "25%           0.141233           0.039622         0.445590           0.098888   \n",
       "50%           0.217509           0.065694         0.633327           0.148381   \n",
       "75%           0.358441           0.130779         0.931640           0.254504   \n",
       "max           0.768684           0.498687         1.956877           0.691654   \n",
       "\n",
       "       Gini_Index  Num_Contaminants  Sum_Population_Served  \\\n",
       "count  808.000000        808.000000           8.080000e+02   \n",
       "mean     0.441240          8.396040           4.673438e+04   \n",
       "std      0.034327          6.228335           1.506063e+05   \n",
       "min      0.315700          1.000000           2.700000e+01   \n",
       "25%      0.416275          4.000000           4.315250e+03   \n",
       "50%      0.438650          7.000000           1.292450e+04   \n",
       "75%      0.462925         11.250000           3.707325e+04   \n",
       "max      0.550900         29.000000           3.328298e+06   \n",
       "\n",
       "       Sum_ContaminantFactor  Avg_Contaminant_Factor  \n",
       "count             808.000000              808.000000  \n",
       "mean             5873.143564              768.699369  \n",
       "std              5293.297251              583.164846  \n",
       "min                 0.000000                0.000000  \n",
       "25%              1778.750000              339.202500  \n",
       "50%              4097.500000              673.240000  \n",
       "75%              8931.500000             1079.700000  \n",
       "max             22227.000000             5376.000000  \n",
       "\n",
       "[8 rows x 31 columns]"
      ]
     },
     "execution_count": 30,
     "metadata": {},
     "output_type": "execute_result"
    }
   ],
   "source": [
    "df.describe()"
   ]
  },
  {
   "cell_type": "code",
   "execution_count": 31,
   "metadata": {},
   "outputs": [
    {
     "data": {
      "image/png": "[encoded data removed]",
      "text/plain": [
       "<Figure size 432x288 with 1 Axes>"
      ]
     },
     "metadata": {
      "needs_background": "light"
     },
     "output_type": "display_data"
    }
   ],
   "source": [
    "sns.boxplot(x=df['Sum_ContaminantFactor'])\n",
    "plt.show()"
   ]
  },
  {
   "cell_type": "code",
   "execution_count": 32,
   "metadata": {},
   "outputs": [
    {
     "data": {
      "image/png": "[encoded data removed]",
      "text/plain": [
       "<Figure size 360x360 with 1 Axes>"
      ]
     },
     "metadata": {
      "needs_background": "light"
     },
     "output_type": "display_data"
    }
   ],
   "source": [
    "sns.displot(df['Sum_ContaminantFactor'],bins=30, kde = True)\n",
    "plt.show()"
   ]
  },
  {
   "cell_type": "markdown",
   "metadata": {},
   "source": [
    "### Remote outliers for Avg Contaminant Factor"
   ]
  },
  {
   "cell_type": "code",
   "execution_count": 33,
   "metadata": {},
   "outputs": [
    {
     "data": {
      "image/png": "[encoded data removed]",
      "text/plain": [
       "<Figure size 432x288 with 1 Axes>"
      ]
     },
     "metadata": {
      "needs_background": "light"
     },
     "output_type": "display_data"
    }
   ],
   "source": [
    "sns.boxplot(x=df['Avg_Contaminant_Factor'])\n",
    "plt.show()"
   ]
  },
  {
   "cell_type": "code",
   "execution_count": 34,
   "metadata": {},
   "outputs": [
    {
     "data": {
      "image/png": "[encoded data removed]",
      "text/plain": [
       "<Figure size 360x360 with 1 Axes>"
      ]
     },
     "metadata": {
      "needs_background": "light"
     },
     "output_type": "display_data"
    }
   ],
   "source": [
    "sns.displot(df['Avg_Contaminant_Factor'],bins=30, kde = True)\n",
    "plt.show()"
   ]
  },
  {
   "cell_type": "code",
   "execution_count": 35,
   "metadata": {},
   "outputs": [
    {
     "data": {
      "text/plain": [
       "788"
      ]
     },
     "execution_count": 35,
     "metadata": {},
     "output_type": "execute_result"
    }
   ],
   "source": [
    "Q1 = df['Avg_Contaminant_Factor'].quantile(0.25)\n",
    "Q3 = df['Avg_Contaminant_Factor'].quantile(0.75)\n",
    "IQR = Q3-Q1\n",
    "upper_lim = Q3 + 1.5 * IQR\n",
    "outliers_upper = (df['Avg_Contaminant_Factor'] > upper_lim)\n",
    "len(df['Avg_Contaminant_Factor']) - len(df['Avg_Contaminant_Factor'][outliers_upper])"
   ]
  },
  {
   "cell_type": "code",
   "execution_count": 36,
   "metadata": {},
   "outputs": [
    {
     "data": {
      "text/plain": [
       "(788, 37)"
      ]
     },
     "execution_count": 36,
     "metadata": {},
     "output_type": "execute_result"
    }
   ],
   "source": [
    "df = df[-(outliers_upper)]\n",
    "df.shape"
   ]
  },
  {
   "cell_type": "code",
   "execution_count": 37,
   "metadata": {},
   "outputs": [
    {
     "data": {
      "image/png": "[encoded data removed]",
      "text/plain": [
       "<Figure size 432x288 with 1 Axes>"
      ]
     },
     "metadata": {
      "needs_background": "light"
     },
     "output_type": "display_data"
    }
   ],
   "source": [
    "sns.boxplot(x=df['Avg_Contaminant_Factor'])\n",
    "plt.show()"
   ]
  },
  {
   "cell_type": "code",
   "execution_count": 38,
   "metadata": {},
   "outputs": [
    {
     "data": {
      "image/png": "[encoded data removed]",
      "text/plain": [
       "<Figure size 360x360 with 1 Axes>"
      ]
     },
     "metadata": {
      "needs_background": "light"
     },
     "output_type": "display_data"
    }
   ],
   "source": [
    "sns.displot(df['Avg_Contaminant_Factor'],bins=30, kde = True)\n",
    "plt.show()"
   ]
  },
  {
   "cell_type": "code",
   "execution_count": 39,
   "metadata": {},
   "outputs": [
    {
     "data": {
      "text/plain": [
       "Index(['county_FIPS', 'Geographic_Area_Name', 'County', 'GEOID',\n",
       "       'Total_Population', 'White', 'Black', 'Native', 'Asian',\n",
       "       'Pacific_Islander', 'Other', 'Two_or_more_Races', 'Hispanic',\n",
       "       'Not_Hispanic', 'Not_White', 'pct_White', 'pct_Black', 'pct_Native',\n",
       "       'pct_Asian', 'pct_Pacific_Islander', 'pct_Other', 'pct_Not_White',\n",
       "       'pct_Hispanic', 'pct_Not_Hispanic', 'pct_Two_or_more_Races',\n",
       "       'Simpson_Race_DI', 'Simpson_Ethnic_DI', 'Shannon_Race_DI',\n",
       "       'Shannon_Ethnic_DI', 'Gini_Index', 'County_FIPS', 'Num_Contaminants',\n",
       "       'Sum_Population_Served', 'Sum_ContaminantFactor',\n",
       "       'Min_Contaminant_Factor', 'Max_Contaminant_Factor',\n",
       "       'Avg_Contaminant_Factor'],\n",
       "      dtype='object')"
      ]
     },
     "execution_count": 39,
     "metadata": {},
     "output_type": "execute_result"
    }
   ],
   "source": [
    "df.columns"
   ]
  },
  {
   "cell_type": "code",
   "execution_count": 40,
   "metadata": {},
   "outputs": [],
   "source": [
    "# Export to csv\n",
    "df.to_csv('data_contaminant_outliers_removed.csv', index = False)"
   ]
  },
  {
   "cell_type": "code",
   "execution_count": null,
   "metadata": {},
   "outputs": [],
   "source": []
  }
 ],
 "metadata": {
  "interpreter": {
   "hash": "86969af4118fd2beaee010b14a97d3c8fe7dc31ff55f1528eea7eaecb45368d6"
  },
  "kernelspec": {
   "display_name": "Python 3 (ipykernel)",
   "language": "python",
   "name": "python3"
  },
  "language_info": {
   "codemirror_mode": {
    "name": "ipython",
    "version": 3
   },
   "file_extension": ".py",
   "mimetype": "text/x-python",
   "name": "python",
   "nbconvert_exporter": "python",
   "pygments_lexer": "ipython3",
   "version": "3.7.7"
  }
 },
 "nbformat": 4,
 "nbformat_minor": 2
}
