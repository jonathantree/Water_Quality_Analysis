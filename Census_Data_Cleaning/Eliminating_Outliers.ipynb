{
 "cells": [
  {
   "cell_type": "code",
   "execution_count": 2,
   "metadata": {},
   "outputs": [],
   "source": [
    "# Import Dependencies\n",
    "import pandas as pd\n",
    "import sqlite3\n",
    "import numpy as np\n",
    "import matplotlib.pyplot as plt\n",
    "import seaborn as sns\n",
    "\n",
    "%matplotlib inline"
   ]
  },
  {
   "cell_type": "code",
   "execution_count": 3,
   "metadata": {},
   "outputs": [],
   "source": [
    "# Connect to SQLite dB\n",
    "con = sqlite3.connect('/Users/jennadodge/uofo-virt-data-pt-12-2021-u-b/Water_Quality_Analysis/Database/database.sqlite3')\n",
    "\n",
    "# Create a cursor object\n",
    "cur = con.cursor()"
   ]
  },
  {
   "cell_type": "code",
   "execution_count": 4,
   "metadata": {},
   "outputs": [
    {
     "data": {
      "text/html": [
       "<div>\n",
       "<style scoped>\n",
       "    .dataframe tbody tr th:only-of-type {\n",
       "        vertical-align: middle;\n",
       "    }\n",
       "\n",
       "    .dataframe tbody tr th {\n",
       "        vertical-align: top;\n",
       "    }\n",
       "\n",
       "    .dataframe thead th {\n",
       "        text-align: right;\n",
       "    }\n",
       "</style>\n",
       "<table border=\"1\" class=\"dataframe\">\n",
       "  <thead>\n",
       "    <tr style=\"text-align: right;\">\n",
       "      <th></th>\n",
       "      <th>county_FIPS</th>\n",
       "      <th>Geographic_Area_Name</th>\n",
       "      <th>County</th>\n",
       "      <th>GEOID</th>\n",
       "      <th>Total_Population</th>\n",
       "      <th>White</th>\n",
       "      <th>Black</th>\n",
       "      <th>Native</th>\n",
       "      <th>Asian</th>\n",
       "      <th>Pacific_Islander</th>\n",
       "      <th>...</th>\n",
       "      <th>Shannon_Race_DI</th>\n",
       "      <th>Shannon_Ethnic_DI</th>\n",
       "      <th>Gini_Index</th>\n",
       "      <th>County_FIPS</th>\n",
       "      <th>Num_Contaminants</th>\n",
       "      <th>Sum_Population_Served</th>\n",
       "      <th>Sum_ContaminantFactor</th>\n",
       "      <th>Min_Contaminant_Factor</th>\n",
       "      <th>Max_Contaminant_Factor</th>\n",
       "      <th>Avg_Contaminant_Factor</th>\n",
       "    </tr>\n",
       "  </thead>\n",
       "  <tbody>\n",
       "    <tr>\n",
       "      <th>0</th>\n",
       "      <td>8069</td>\n",
       "      <td>Larimer County, Colorado</td>\n",
       "      <td>Larimer County</td>\n",
       "      <td>0500000US08069</td>\n",
       "      <td>359066</td>\n",
       "      <td>295995</td>\n",
       "      <td>3816</td>\n",
       "      <td>2879</td>\n",
       "      <td>8539</td>\n",
       "      <td>326</td>\n",
       "      <td>...</td>\n",
       "      <td>0.948124</td>\n",
       "      <td>0.375569</td>\n",
       "      <td>0.4428</td>\n",
       "      <td>8069</td>\n",
       "      <td>4</td>\n",
       "      <td>264021</td>\n",
       "      <td>4744</td>\n",
       "      <td>984</td>\n",
       "      <td>1519</td>\n",
       "      <td>1186.00</td>\n",
       "    </tr>\n",
       "    <tr>\n",
       "      <th>1</th>\n",
       "      <td>10001</td>\n",
       "      <td>Kent County, Delaware</td>\n",
       "      <td>Kent County</td>\n",
       "      <td>0500000US10001</td>\n",
       "      <td>181851</td>\n",
       "      <td>107685</td>\n",
       "      <td>46999</td>\n",
       "      <td>1150</td>\n",
       "      <td>4430</td>\n",
       "      <td>126</td>\n",
       "      <td>...</td>\n",
       "      <td>1.305087</td>\n",
       "      <td>0.271086</td>\n",
       "      <td>0.4191</td>\n",
       "      <td>10001</td>\n",
       "      <td>9</td>\n",
       "      <td>70580</td>\n",
       "      <td>4987</td>\n",
       "      <td>201</td>\n",
       "      <td>1395</td>\n",
       "      <td>554.11</td>\n",
       "    </tr>\n",
       "    <tr>\n",
       "      <th>2</th>\n",
       "      <td>10003</td>\n",
       "      <td>New Castle County, Delaware</td>\n",
       "      <td>New Castle County</td>\n",
       "      <td>0500000US10003</td>\n",
       "      <td>570719</td>\n",
       "      <td>314231</td>\n",
       "      <td>146545</td>\n",
       "      <td>2157</td>\n",
       "      <td>35201</td>\n",
       "      <td>176</td>\n",
       "      <td>...</td>\n",
       "      <td>1.464587</td>\n",
       "      <td>0.349206</td>\n",
       "      <td>0.4607</td>\n",
       "      <td>10003</td>\n",
       "      <td>20</td>\n",
       "      <td>555453</td>\n",
       "      <td>15583</td>\n",
       "      <td>68</td>\n",
       "      <td>4732</td>\n",
       "      <td>779.15</td>\n",
       "    </tr>\n",
       "    <tr>\n",
       "      <th>3</th>\n",
       "      <td>10005</td>\n",
       "      <td>Sussex County, Delaware</td>\n",
       "      <td>Sussex County</td>\n",
       "      <td>0500000US10005</td>\n",
       "      <td>237378</td>\n",
       "      <td>175847</td>\n",
       "      <td>25358</td>\n",
       "      <td>1844</td>\n",
       "      <td>3071</td>\n",
       "      <td>113</td>\n",
       "      <td>...</td>\n",
       "      <td>1.161943</td>\n",
       "      <td>0.352475</td>\n",
       "      <td>0.4561</td>\n",
       "      <td>10005</td>\n",
       "      <td>11</td>\n",
       "      <td>205901</td>\n",
       "      <td>5456</td>\n",
       "      <td>91</td>\n",
       "      <td>1295</td>\n",
       "      <td>496.00</td>\n",
       "    </tr>\n",
       "    <tr>\n",
       "      <th>4</th>\n",
       "      <td>16019</td>\n",
       "      <td>Bonneville County, Idaho</td>\n",
       "      <td>Bonneville County</td>\n",
       "      <td>0500000US16019</td>\n",
       "      <td>123964</td>\n",
       "      <td>103736</td>\n",
       "      <td>627</td>\n",
       "      <td>1262</td>\n",
       "      <td>1424</td>\n",
       "      <td>155</td>\n",
       "      <td>...</td>\n",
       "      <td>0.919484</td>\n",
       "      <td>0.401124</td>\n",
       "      <td>0.4287</td>\n",
       "      <td>16019</td>\n",
       "      <td>1</td>\n",
       "      <td>2982</td>\n",
       "      <td>42</td>\n",
       "      <td>42</td>\n",
       "      <td>42</td>\n",
       "      <td>42.00</td>\n",
       "    </tr>\n",
       "  </tbody>\n",
       "</table>\n",
       "<p>5 rows × 37 columns</p>\n",
       "</div>"
      ],
      "text/plain": [
       "   county_FIPS         Geographic_Area_Name             County  \\\n",
       "0         8069     Larimer County, Colorado     Larimer County   \n",
       "1        10001        Kent County, Delaware        Kent County   \n",
       "2        10003  New Castle County, Delaware  New Castle County   \n",
       "3        10005      Sussex County, Delaware      Sussex County   \n",
       "4        16019     Bonneville County, Idaho  Bonneville County   \n",
       "\n",
       "            GEOID  Total_Population   White   Black  Native  Asian  \\\n",
       "0  0500000US08069            359066  295995    3816    2879   8539   \n",
       "1  0500000US10001            181851  107685   46999    1150   4430   \n",
       "2  0500000US10003            570719  314231  146545    2157  35201   \n",
       "3  0500000US10005            237378  175847   25358    1844   3071   \n",
       "4  0500000US16019            123964  103736     627    1262   1424   \n",
       "\n",
       "   Pacific_Islander  ...  Shannon_Race_DI  Shannon_Ethnic_DI  Gini_Index  \\\n",
       "0               326  ...         0.948124           0.375569      0.4428   \n",
       "1               126  ...         1.305087           0.271086      0.4191   \n",
       "2               176  ...         1.464587           0.349206      0.4607   \n",
       "3               113  ...         1.161943           0.352475      0.4561   \n",
       "4               155  ...         0.919484           0.401124      0.4287   \n",
       "\n",
       "   County_FIPS  Num_Contaminants  Sum_Population_Served  \\\n",
       "0         8069                 4                 264021   \n",
       "1        10001                 9                  70580   \n",
       "2        10003                20                 555453   \n",
       "3        10005                11                 205901   \n",
       "4        16019                 1                   2982   \n",
       "\n",
       "   Sum_ContaminantFactor  Min_Contaminant_Factor  Max_Contaminant_Factor  \\\n",
       "0                   4744                     984                    1519   \n",
       "1                   4987                     201                    1395   \n",
       "2                  15583                      68                    4732   \n",
       "3                   5456                      91                    1295   \n",
       "4                     42                      42                      42   \n",
       "\n",
       "   Avg_Contaminant_Factor  \n",
       "0                 1186.00  \n",
       "1                  554.11  \n",
       "2                  779.15  \n",
       "3                  496.00  \n",
       "4                   42.00  \n",
       "\n",
       "[5 rows x 37 columns]"
      ]
     },
     "execution_count": 4,
     "metadata": {},
     "output_type": "execute_result"
    }
   ],
   "source": [
    "df = pd.read_sql_query(\"SELECT * FROM Census_Data INNER JOIN Contaminant_Summary on Census_Data.county_FIPS = Contaminant_Summary.county_FIPS\",con)\n",
    "df.head()"
   ]
  },
  {
   "cell_type": "code",
   "execution_count": 5,
   "metadata": {},
   "outputs": [],
   "source": [
    "con.close()"
   ]
  },
  {
   "cell_type": "code",
   "execution_count": 6,
   "metadata": {},
   "outputs": [
    {
     "data": {
      "text/plain": [
       "(882, 37)"
      ]
     },
     "execution_count": 6,
     "metadata": {},
     "output_type": "execute_result"
    }
   ],
   "source": [
    "df.shape"
   ]
  },
  {
   "cell_type": "code",
   "execution_count": 7,
   "metadata": {},
   "outputs": [
    {
     "data": {
      "text/html": [
       "<div>\n",
       "<style scoped>\n",
       "    .dataframe tbody tr th:only-of-type {\n",
       "        vertical-align: middle;\n",
       "    }\n",
       "\n",
       "    .dataframe tbody tr th {\n",
       "        vertical-align: top;\n",
       "    }\n",
       "\n",
       "    .dataframe thead th {\n",
       "        text-align: right;\n",
       "    }\n",
       "</style>\n",
       "<table border=\"1\" class=\"dataframe\">\n",
       "  <thead>\n",
       "    <tr style=\"text-align: right;\">\n",
       "      <th></th>\n",
       "      <th>county_FIPS</th>\n",
       "      <th>Total_Population</th>\n",
       "      <th>White</th>\n",
       "      <th>Black</th>\n",
       "      <th>Native</th>\n",
       "      <th>Asian</th>\n",
       "      <th>Pacific_Islander</th>\n",
       "      <th>Other</th>\n",
       "      <th>Two_or_more_Races</th>\n",
       "      <th>Hispanic</th>\n",
       "      <th>...</th>\n",
       "      <th>pct_Two_or_more_Races</th>\n",
       "      <th>Simpson_Race_DI</th>\n",
       "      <th>Simpson_Ethnic_DI</th>\n",
       "      <th>Shannon_Race_DI</th>\n",
       "      <th>Shannon_Ethnic_DI</th>\n",
       "      <th>Gini_Index</th>\n",
       "      <th>Num_Contaminants</th>\n",
       "      <th>Sum_Population_Served</th>\n",
       "      <th>Sum_ContaminantFactor</th>\n",
       "      <th>Avg_Contaminant_Factor</th>\n",
       "    </tr>\n",
       "  </thead>\n",
       "  <tbody>\n",
       "    <tr>\n",
       "      <th>count</th>\n",
       "      <td>882.000000</td>\n",
       "      <td>8.820000e+02</td>\n",
       "      <td>8.820000e+02</td>\n",
       "      <td>8.820000e+02</td>\n",
       "      <td>882.000000</td>\n",
       "      <td>8.820000e+02</td>\n",
       "      <td>882.000000</td>\n",
       "      <td>8.820000e+02</td>\n",
       "      <td>8.820000e+02</td>\n",
       "      <td>8.820000e+02</td>\n",
       "      <td>...</td>\n",
       "      <td>882.000000</td>\n",
       "      <td>882.000000</td>\n",
       "      <td>882.000000</td>\n",
       "      <td>882.000000</td>\n",
       "      <td>882.000000</td>\n",
       "      <td>882.000000</td>\n",
       "      <td>882.000000</td>\n",
       "      <td>8.820000e+02</td>\n",
       "      <td>8.820000e+02</td>\n",
       "      <td>882.000000</td>\n",
       "    </tr>\n",
       "    <tr>\n",
       "      <th>mean</th>\n",
       "      <td>34216.615646</td>\n",
       "      <td>1.395653e+05</td>\n",
       "      <td>8.338217e+04</td>\n",
       "      <td>1.460549e+04</td>\n",
       "      <td>1502.502268</td>\n",
       "      <td>1.062759e+04</td>\n",
       "      <td>282.706349</td>\n",
       "      <td>1.494588e+04</td>\n",
       "      <td>1.422498e+04</td>\n",
       "      <td>2.995920e+04</td>\n",
       "      <td>...</td>\n",
       "      <td>0.061026</td>\n",
       "      <td>0.280229</td>\n",
       "      <td>0.113581</td>\n",
       "      <td>0.753765</td>\n",
       "      <td>0.211073</td>\n",
       "      <td>0.441717</td>\n",
       "      <td>10.758503</td>\n",
       "      <td>8.711697e+04</td>\n",
       "      <td>1.175539e+04</td>\n",
       "      <td>935.660215</td>\n",
       "    </tr>\n",
       "    <tr>\n",
       "      <th>std</th>\n",
       "      <td>15322.693185</td>\n",
       "      <td>5.038503e+05</td>\n",
       "      <td>2.057142e+05</td>\n",
       "      <td>7.359074e+04</td>\n",
       "      <td>7127.251881</td>\n",
       "      <td>7.185546e+04</td>\n",
       "      <td>1651.363024</td>\n",
       "      <td>1.124154e+05</td>\n",
       "      <td>7.137211e+04</td>\n",
       "      <td>2.060264e+05</td>\n",
       "      <td>...</td>\n",
       "      <td>0.029338</td>\n",
       "      <td>0.166876</td>\n",
       "      <td>0.108514</td>\n",
       "      <td>0.373162</td>\n",
       "      <td>0.152220</td>\n",
       "      <td>0.033689</td>\n",
       "      <td>12.639396</td>\n",
       "      <td>3.843995e+05</td>\n",
       "      <td>7.711364e+04</td>\n",
       "      <td>3060.903090</td>\n",
       "    </tr>\n",
       "    <tr>\n",
       "      <th>min</th>\n",
       "      <td>1001.000000</td>\n",
       "      <td>7.060000e+02</td>\n",
       "      <td>4.010000e+02</td>\n",
       "      <td>1.000000e+00</td>\n",
       "      <td>1.000000</td>\n",
       "      <td>1.000000e+00</td>\n",
       "      <td>1.000000</td>\n",
       "      <td>1.000000e+00</td>\n",
       "      <td>2.000000e+01</td>\n",
       "      <td>8.000000e+00</td>\n",
       "      <td>...</td>\n",
       "      <td>0.018930</td>\n",
       "      <td>0.063408</td>\n",
       "      <td>0.011866</td>\n",
       "      <td>0.202798</td>\n",
       "      <td>0.036514</td>\n",
       "      <td>0.315700</td>\n",
       "      <td>1.000000</td>\n",
       "      <td>2.700000e+01</td>\n",
       "      <td>0.000000e+00</td>\n",
       "      <td>0.000000</td>\n",
       "    </tr>\n",
       "    <tr>\n",
       "      <th>25%</th>\n",
       "      <td>26007.500000</td>\n",
       "      <td>1.247950e+04</td>\n",
       "      <td>1.049000e+04</td>\n",
       "      <td>6.800000e+01</td>\n",
       "      <td>64.000000</td>\n",
       "      <td>4.500000e+01</td>\n",
       "      <td>4.000000</td>\n",
       "      <td>1.002500e+02</td>\n",
       "      <td>5.730000e+02</td>\n",
       "      <td>2.962500e+02</td>\n",
       "      <td>...</td>\n",
       "      <td>0.042034</td>\n",
       "      <td>0.146299</td>\n",
       "      <td>0.040314</td>\n",
       "      <td>0.457942</td>\n",
       "      <td>0.100287</td>\n",
       "      <td>0.417125</td>\n",
       "      <td>4.000000</td>\n",
       "      <td>4.725250e+03</td>\n",
       "      <td>1.966500e+03</td>\n",
       "      <td>365.767500</td>\n",
       "    </tr>\n",
       "    <tr>\n",
       "      <th>50%</th>\n",
       "      <td>38034.000000</td>\n",
       "      <td>3.105100e+04</td>\n",
       "      <td>2.630650e+04</td>\n",
       "      <td>5.795000e+02</td>\n",
       "      <td>186.000000</td>\n",
       "      <td>1.620000e+02</td>\n",
       "      <td>12.000000</td>\n",
       "      <td>4.350000e+02</td>\n",
       "      <td>1.603500e+03</td>\n",
       "      <td>1.091500e+03</td>\n",
       "      <td>...</td>\n",
       "      <td>0.054247</td>\n",
       "      <td>0.226679</td>\n",
       "      <td>0.069034</td>\n",
       "      <td>0.669062</td>\n",
       "      <td>0.154340</td>\n",
       "      <td>0.439450</td>\n",
       "      <td>7.000000</td>\n",
       "      <td>1.545300e+04</td>\n",
       "      <td>4.770000e+03</td>\n",
       "      <td>701.010000</td>\n",
       "    </tr>\n",
       "    <tr>\n",
       "      <th>75%</th>\n",
       "      <td>47160.500000</td>\n",
       "      <td>8.803400e+04</td>\n",
       "      <td>7.166950e+04</td>\n",
       "      <td>4.448750e+03</td>\n",
       "      <td>719.750000</td>\n",
       "      <td>9.977500e+02</td>\n",
       "      <td>52.000000</td>\n",
       "      <td>2.177500e+03</td>\n",
       "      <td>5.622000e+03</td>\n",
       "      <td>5.601500e+03</td>\n",
       "      <td>...</td>\n",
       "      <td>0.071544</td>\n",
       "      <td>0.384804</td>\n",
       "      <td>0.142876</td>\n",
       "      <td>0.980501</td>\n",
       "      <td>0.272424</td>\n",
       "      <td>0.463475</td>\n",
       "      <td>14.000000</td>\n",
       "      <td>4.685075e+04</td>\n",
       "      <td>1.104950e+04</td>\n",
       "      <td>1144.755000</td>\n",
       "    </tr>\n",
       "    <tr>\n",
       "      <th>max</th>\n",
       "      <td>56045.000000</td>\n",
       "      <td>1.001401e+07</td>\n",
       "      <td>3.259427e+06</td>\n",
       "      <td>1.205825e+06</td>\n",
       "      <td>163465.000000</td>\n",
       "      <td>1.499985e+06</td>\n",
       "      <td>24523.000000</td>\n",
       "      <td>2.784181e+06</td>\n",
       "      <td>1.488069e+06</td>\n",
       "      <td>4.804763e+06</td>\n",
       "      <td>...</td>\n",
       "      <td>0.277103</td>\n",
       "      <td>0.768684</td>\n",
       "      <td>0.499984</td>\n",
       "      <td>1.956877</td>\n",
       "      <td>0.693131</td>\n",
       "      <td>0.550900</td>\n",
       "      <td>154.000000</td>\n",
       "      <td>7.822450e+06</td>\n",
       "      <td>2.215481e+06</td>\n",
       "      <td>88619.240000</td>\n",
       "    </tr>\n",
       "  </tbody>\n",
       "</table>\n",
       "<p>8 rows × 31 columns</p>\n",
       "</div>"
      ],
      "text/plain": [
       "        county_FIPS  Total_Population         White         Black  \\\n",
       "count    882.000000      8.820000e+02  8.820000e+02  8.820000e+02   \n",
       "mean   34216.615646      1.395653e+05  8.338217e+04  1.460549e+04   \n",
       "std    15322.693185      5.038503e+05  2.057142e+05  7.359074e+04   \n",
       "min     1001.000000      7.060000e+02  4.010000e+02  1.000000e+00   \n",
       "25%    26007.500000      1.247950e+04  1.049000e+04  6.800000e+01   \n",
       "50%    38034.000000      3.105100e+04  2.630650e+04  5.795000e+02   \n",
       "75%    47160.500000      8.803400e+04  7.166950e+04  4.448750e+03   \n",
       "max    56045.000000      1.001401e+07  3.259427e+06  1.205825e+06   \n",
       "\n",
       "              Native         Asian  Pacific_Islander         Other  \\\n",
       "count     882.000000  8.820000e+02        882.000000  8.820000e+02   \n",
       "mean     1502.502268  1.062759e+04        282.706349  1.494588e+04   \n",
       "std      7127.251881  7.185546e+04       1651.363024  1.124154e+05   \n",
       "min         1.000000  1.000000e+00          1.000000  1.000000e+00   \n",
       "25%        64.000000  4.500000e+01          4.000000  1.002500e+02   \n",
       "50%       186.000000  1.620000e+02         12.000000  4.350000e+02   \n",
       "75%       719.750000  9.977500e+02         52.000000  2.177500e+03   \n",
       "max    163465.000000  1.499985e+06      24523.000000  2.784181e+06   \n",
       "\n",
       "       Two_or_more_Races      Hispanic  ...  pct_Two_or_more_Races  \\\n",
       "count       8.820000e+02  8.820000e+02  ...             882.000000   \n",
       "mean        1.422498e+04  2.995920e+04  ...               0.061026   \n",
       "std         7.137211e+04  2.060264e+05  ...               0.029338   \n",
       "min         2.000000e+01  8.000000e+00  ...               0.018930   \n",
       "25%         5.730000e+02  2.962500e+02  ...               0.042034   \n",
       "50%         1.603500e+03  1.091500e+03  ...               0.054247   \n",
       "75%         5.622000e+03  5.601500e+03  ...               0.071544   \n",
       "max         1.488069e+06  4.804763e+06  ...               0.277103   \n",
       "\n",
       "       Simpson_Race_DI  Simpson_Ethnic_DI  Shannon_Race_DI  Shannon_Ethnic_DI  \\\n",
       "count       882.000000         882.000000       882.000000         882.000000   \n",
       "mean          0.280229           0.113581         0.753765           0.211073   \n",
       "std           0.166876           0.108514         0.373162           0.152220   \n",
       "min           0.063408           0.011866         0.202798           0.036514   \n",
       "25%           0.146299           0.040314         0.457942           0.100287   \n",
       "50%           0.226679           0.069034         0.669062           0.154340   \n",
       "75%           0.384804           0.142876         0.980501           0.272424   \n",
       "max           0.768684           0.499984         1.956877           0.693131   \n",
       "\n",
       "       Gini_Index  Num_Contaminants  Sum_Population_Served  \\\n",
       "count  882.000000        882.000000           8.820000e+02   \n",
       "mean     0.441717         10.758503           8.711697e+04   \n",
       "std      0.033689         12.639396           3.843995e+05   \n",
       "min      0.315700          1.000000           2.700000e+01   \n",
       "25%      0.417125          4.000000           4.725250e+03   \n",
       "50%      0.439450          7.000000           1.545300e+04   \n",
       "75%      0.463475         14.000000           4.685075e+04   \n",
       "max      0.550900        154.000000           7.822450e+06   \n",
       "\n",
       "       Sum_ContaminantFactor  Avg_Contaminant_Factor  \n",
       "count           8.820000e+02              882.000000  \n",
       "mean            1.175539e+04              935.660215  \n",
       "std             7.711364e+04             3060.903090  \n",
       "min             0.000000e+00                0.000000  \n",
       "25%             1.966500e+03              365.767500  \n",
       "50%             4.770000e+03              701.010000  \n",
       "75%             1.104950e+04             1144.755000  \n",
       "max             2.215481e+06            88619.240000  \n",
       "\n",
       "[8 rows x 31 columns]"
      ]
     },
     "execution_count": 7,
     "metadata": {},
     "output_type": "execute_result"
    }
   ],
   "source": [
    "df.describe()"
   ]
  },
  {
   "cell_type": "code",
   "execution_count": 8,
   "metadata": {},
   "outputs": [
    {
     "data": {
      "text/plain": [
       "Index(['county_FIPS', 'Geographic_Area_Name', 'County', 'GEOID',\n",
       "       'Total_Population', 'White', 'Black', 'Native', 'Asian',\n",
       "       'Pacific_Islander', 'Other', 'Two_or_more_Races', 'Hispanic',\n",
       "       'Not_Hispanic', 'Not_White', 'pct_White', 'pct_Black', 'pct_Native',\n",
       "       'pct_Asian', 'pct_Pacific_Islander', 'pct_Other', 'pct_Not_White',\n",
       "       'pct_Hispanic', 'pct_Not_Hispanic', 'pct_Two_or_more_Races',\n",
       "       'Simpson_Race_DI', 'Simpson_Ethnic_DI', 'Shannon_Race_DI',\n",
       "       'Shannon_Ethnic_DI', 'Gini_Index', 'County_FIPS', 'Num_Contaminants',\n",
       "       'Sum_Population_Served', 'Sum_ContaminantFactor',\n",
       "       'Min_Contaminant_Factor', 'Max_Contaminant_Factor',\n",
       "       'Avg_Contaminant_Factor'],\n",
       "      dtype='object')"
      ]
     },
     "execution_count": 8,
     "metadata": {},
     "output_type": "execute_result"
    }
   ],
   "source": [
    "df.columns"
   ]
  },
  {
   "cell_type": "markdown",
   "metadata": {},
   "source": [
    "## Check distibution of data"
   ]
  },
  {
   "cell_type": "code",
   "execution_count": 9,
   "metadata": {},
   "outputs": [
    {
     "data": {
      "image/png": "[encoded data removed]",
      "text/plain": [
       "<Figure size 432x288 with 1 Axes>"
      ]
     },
     "metadata": {
      "needs_background": "light"
     },
     "output_type": "display_data"
    }
   ],
   "source": [
    "sns.boxplot(x=df['Sum_ContaminantFactor'])\n",
    "plt.show()"
   ]
  },
  {
   "cell_type": "code",
   "execution_count": 10,
   "metadata": {},
   "outputs": [
    {
     "data": {
      "image/png": "[encoded data removed]",
      "text/plain": [
       "<Figure size 360x360 with 1 Axes>"
      ]
     },
     "metadata": {
      "needs_background": "light"
     },
     "output_type": "display_data"
    }
   ],
   "source": [
    "sns.displot(df['Sum_ContaminantFactor'],bins=30,kde = True)\n",
    "plt.show()"
   ]
  },
  {
   "cell_type": "code",
   "execution_count": 11,
   "metadata": {},
   "outputs": [
    {
     "data": {
      "text/plain": [
       "count    8.820000e+02\n",
       "mean     1.175539e+04\n",
       "std      7.711364e+04\n",
       "min      0.000000e+00\n",
       "25%      1.966500e+03\n",
       "50%      4.770000e+03\n",
       "75%      1.104950e+04\n",
       "max      2.215481e+06\n",
       "Name: Sum_ContaminantFactor, dtype: float64"
      ]
     },
     "execution_count": 11,
     "metadata": {},
     "output_type": "execute_result"
    }
   ],
   "source": [
    "df['Sum_ContaminantFactor'].describe()"
   ]
  },
  {
   "cell_type": "code",
   "execution_count": 12,
   "metadata": {},
   "outputs": [
    {
     "data": {
      "text/plain": [
       "9083.0"
      ]
     },
     "execution_count": 12,
     "metadata": {},
     "output_type": "execute_result"
    }
   ],
   "source": [
    "# define IQR (interquartile range)\n",
    "Q1 = df['Sum_ContaminantFactor'].quantile(0.25)\n",
    "Q3 = df['Sum_ContaminantFactor'].quantile(0.75)\n",
    "IQR = Q3-Q1\n",
    "IQR"
   ]
  },
  {
   "cell_type": "code",
   "execution_count": 15,
   "metadata": {},
   "outputs": [
    {
     "data": {
      "text/plain": [
       "0      False\n",
       "1      False\n",
       "2      False\n",
       "3      False\n",
       "4      False\n",
       "       ...  \n",
       "877    False\n",
       "878    False\n",
       "879    False\n",
       "880     True\n",
       "881     True\n",
       "Name: Sum_ContaminantFactor, Length: 882, dtype: bool"
      ]
     },
     "execution_count": 15,
     "metadata": {},
     "output_type": "execute_result"
    }
   ],
   "source": [
    "upper_lim = Q3 + 1.5*IQR\n",
    "outliers_up = (df['Sum_ContaminantFactor'] > upper_lim)\n",
    "outliers_up"
   ]
  },
  {
   "cell_type": "code",
   "execution_count": 16,
   "metadata": {},
   "outputs": [
    {
     "data": {
      "text/plain": [
       "834"
      ]
     },
     "execution_count": 16,
     "metadata": {},
     "output_type": "execute_result"
    }
   ],
   "source": [
    "# how many rows remain the DF after dropping outliers?\n",
    "len(df['Sum_ContaminantFactor']) - len(df['Sum_ContaminantFactor'][outliers_up])"
   ]
  },
  {
   "cell_type": "code",
   "execution_count": 17,
   "metadata": {},
   "outputs": [],
   "source": [
    "df = df[- outliers_up]"
   ]
  },
  {
   "cell_type": "code",
   "execution_count": 18,
   "metadata": {},
   "outputs": [
    {
     "data": {
      "text/plain": [
       "834"
      ]
     },
     "execution_count": 18,
     "metadata": {},
     "output_type": "execute_result"
    }
   ],
   "source": [
    "len(df)"
   ]
  },
  {
   "cell_type": "code",
   "execution_count": 19,
   "metadata": {},
   "outputs": [
    {
     "data": {
      "image/png": "[encoded data removed]",
      "text/plain": [
       "<Figure size 432x288 with 1 Axes>"
      ]
     },
     "metadata": {
      "needs_background": "light"
     },
     "output_type": "display_data"
    }
   ],
   "source": [
    "sns.boxplot(x=df['Sum_ContaminantFactor'])\n",
    "plt.show()"
   ]
  },
  {
   "cell_type": "code",
   "execution_count": 20,
   "metadata": {},
   "outputs": [
    {
     "data": {
      "image/png": "[encoded data removed]",
      "text/plain": [
       "<Figure size 360x360 with 1 Axes>"
      ]
     },
     "metadata": {
      "needs_background": "light"
     },
     "output_type": "display_data"
    }
   ],
   "source": [
    "sns.displot(df['Sum_ContaminantFactor'],bins=30,kde = True)\n",
    "plt.show()"
   ]
  },
  {
   "cell_type": "markdown",
   "metadata": {},
   "source": [
    "### Repeat with Num_Contaminants and Avg_Contaminant"
   ]
  },
  {
   "cell_type": "code",
   "execution_count": 21,
   "metadata": {},
   "outputs": [
    {
     "data": {
      "image/png": "[encoded data removed]",
      "text/plain": [
       "<Figure size 432x288 with 1 Axes>"
      ]
     },
     "metadata": {
      "needs_background": "light"
     },
     "output_type": "display_data"
    }
   ],
   "source": [
    "sns.boxplot(x=df['Num_Contaminants'])\n",
    "plt.show()"
   ]
  },
  {
   "cell_type": "code",
   "execution_count": 22,
   "metadata": {},
   "outputs": [
    {
     "data": {
      "image/png": "[encoded data removed]",
      "text/plain": [
       "<Figure size 360x360 with 1 Axes>"
      ]
     },
     "metadata": {
      "needs_background": "light"
     },
     "output_type": "display_data"
    }
   ],
   "source": [
    "sns.displot(df['Num_Contaminants'],bins=30,kde = True)\n",
    "plt.show()"
   ]
  },
  {
   "cell_type": "code",
   "execution_count": 23,
   "metadata": {},
   "outputs": [],
   "source": [
    "# define IQR (interquartile range)\n",
    "Q1 = df['Num_Contaminants'].quantile(0.25)\n",
    "Q3 = df['Num_Contaminants'].quantile(0.75)\n",
    "IQR = Q3-Q1\n"
   ]
  },
  {
   "cell_type": "code",
   "execution_count": 24,
   "metadata": {},
   "outputs": [
    {
     "data": {
      "text/plain": [
       "0      False\n",
       "1      False\n",
       "2      False\n",
       "3      False\n",
       "4      False\n",
       "       ...  \n",
       "872    False\n",
       "876    False\n",
       "877    False\n",
       "878    False\n",
       "879    False\n",
       "Name: Num_Contaminants, Length: 834, dtype: bool"
      ]
     },
     "execution_count": 24,
     "metadata": {},
     "output_type": "execute_result"
    }
   ],
   "source": [
    "upper_lim = Q3 + 1.5*IQR\n",
    "outliers_up = (df['Num_Contaminants'] > upper_lim)\n",
    "outliers_up"
   ]
  },
  {
   "cell_type": "code",
   "execution_count": 25,
   "metadata": {},
   "outputs": [
    {
     "data": {
      "text/plain": [
       "806"
      ]
     },
     "execution_count": 25,
     "metadata": {},
     "output_type": "execute_result"
    }
   ],
   "source": [
    "# how many rows remain the DF after dropping outliers?\n",
    "len(df['Num_Contaminants']) - len(df['Num_Contaminants'][outliers_up])"
   ]
  },
  {
   "cell_type": "code",
   "execution_count": 26,
   "metadata": {},
   "outputs": [],
   "source": [
    "df = df[- outliers_up]"
   ]
  },
  {
   "cell_type": "code",
   "execution_count": 27,
   "metadata": {},
   "outputs": [
    {
     "data": {
      "text/plain": [
       "806"
      ]
     },
     "execution_count": 27,
     "metadata": {},
     "output_type": "execute_result"
    }
   ],
   "source": [
    "len(df)"
   ]
  },
  {
   "cell_type": "code",
   "execution_count": 28,
   "metadata": {},
   "outputs": [
    {
     "data": {
      "image/png": "[encoded data removed]",
      "text/plain": [
       "<Figure size 432x288 with 1 Axes>"
      ]
     },
     "metadata": {
      "needs_background": "light"
     },
     "output_type": "display_data"
    }
   ],
   "source": [
    "sns.boxplot(x=df['Num_Contaminants'])\n",
    "plt.show()"
   ]
  },
  {
   "cell_type": "code",
   "execution_count": 29,
   "metadata": {},
   "outputs": [
    {
     "data": {
      "image/png": "[encoded data removed]",
      "text/plain": [
       "<Figure size 360x360 with 1 Axes>"
      ]
     },
     "metadata": {
      "needs_background": "light"
     },
     "output_type": "display_data"
    }
   ],
   "source": [
    "sns.displot(df['Num_Contaminants'],bins=30,kde = True)\n",
    "plt.show()"
   ]
  },
  {
   "cell_type": "code",
   "execution_count": 30,
   "metadata": {},
   "outputs": [
    {
     "data": {
      "image/png": "[encoded data removed]",
      "text/plain": [
       "<Figure size 432x288 with 1 Axes>"
      ]
     },
     "metadata": {
      "needs_background": "light"
     },
     "output_type": "display_data"
    }
   ],
   "source": [
    "sns.boxplot(x=df['Avg_Contaminant_Factor'])\n",
    "plt.show()"
   ]
  },
  {
   "cell_type": "code",
   "execution_count": 31,
   "metadata": {},
   "outputs": [
    {
     "data": {
      "image/png": "[encoded data removed]",
      "text/plain": [
       "<Figure size 360x360 with 1 Axes>"
      ]
     },
     "metadata": {
      "needs_background": "light"
     },
     "output_type": "display_data"
    }
   ],
   "source": [
    "sns.displot(df['Avg_Contaminant_Factor'],bins=30,kde = True)\n",
    "plt.show()"
   ]
  },
  {
   "cell_type": "code",
   "execution_count": 32,
   "metadata": {},
   "outputs": [],
   "source": [
    "# define IQR (interquartile range)\n",
    "Q1 = df['Avg_Contaminant_Factor'].quantile(0.25)\n",
    "Q3 = df['Avg_Contaminant_Factor'].quantile(0.75)\n",
    "IQR = Q3-Q1"
   ]
  },
  {
   "cell_type": "code",
   "execution_count": 33,
   "metadata": {},
   "outputs": [
    {
     "data": {
      "text/plain": [
       "0      False\n",
       "1      False\n",
       "2      False\n",
       "3      False\n",
       "4      False\n",
       "       ...  \n",
       "872    False\n",
       "876    False\n",
       "877    False\n",
       "878    False\n",
       "879    False\n",
       "Name: Avg_Contaminant_Factor, Length: 806, dtype: bool"
      ]
     },
     "execution_count": 33,
     "metadata": {},
     "output_type": "execute_result"
    }
   ],
   "source": [
    "upper_lim = Q3 + 1.5*IQR\n",
    "outliers_up = (df['Avg_Contaminant_Factor'] > upper_lim)\n",
    "outliers_up"
   ]
  },
  {
   "cell_type": "code",
   "execution_count": 34,
   "metadata": {},
   "outputs": [
    {
     "data": {
      "text/plain": [
       "784"
      ]
     },
     "execution_count": 34,
     "metadata": {},
     "output_type": "execute_result"
    }
   ],
   "source": [
    "# how many rows remain the DF after dropping outliers?\n",
    "len(df['Avg_Contaminant_Factor']) - len(df['Avg_Contaminant_Factor'][outliers_up])"
   ]
  },
  {
   "cell_type": "code",
   "execution_count": 35,
   "metadata": {},
   "outputs": [],
   "source": [
    "df = df[- outliers_up]"
   ]
  },
  {
   "cell_type": "code",
   "execution_count": 36,
   "metadata": {},
   "outputs": [
    {
     "data": {
      "text/plain": [
       "784"
      ]
     },
     "execution_count": 36,
     "metadata": {},
     "output_type": "execute_result"
    }
   ],
   "source": [
    "len(df)"
   ]
  },
  {
   "cell_type": "code",
   "execution_count": 37,
   "metadata": {},
   "outputs": [
    {
     "data": {
      "image/png": "[encoded data removed]",
      "text/plain": [
       "<Figure size 432x288 with 1 Axes>"
      ]
     },
     "metadata": {
      "needs_background": "light"
     },
     "output_type": "display_data"
    }
   ],
   "source": [
    "sns.boxplot(x=df['Avg_Contaminant_Factor'])\n",
    "plt.show()"
   ]
  },
  {
   "cell_type": "code",
   "execution_count": 38,
   "metadata": {},
   "outputs": [
    {
     "data": {
      "image/png": "[encoded data removed]",
      "text/plain": [
       "<Figure size 360x360 with 1 Axes>"
      ]
     },
     "metadata": {
      "needs_background": "light"
     },
     "output_type": "display_data"
    }
   ],
   "source": [
    "sns.displot(df['Avg_Contaminant_Factor'],bins=30,kde = True)\n",
    "plt.show()"
   ]
  },
  {
   "cell_type": "code",
   "execution_count": 41,
   "metadata": {},
   "outputs": [
    {
     "data": {
      "text/plain": [
       "Index(['county_FIPS', 'Geographic_Area_Name', 'County', 'GEOID',\n",
       "       'Total_Population', 'White', 'Black', 'Native', 'Asian',\n",
       "       'Pacific_Islander', 'Other', 'Two_or_more_Races', 'Hispanic',\n",
       "       'Not_Hispanic', 'Not_White', 'pct_White', 'pct_Black', 'pct_Native',\n",
       "       'pct_Asian', 'pct_Pacific_Islander', 'pct_Other', 'pct_Not_White',\n",
       "       'pct_Hispanic', 'pct_Not_Hispanic', 'pct_Two_or_more_Races',\n",
       "       'Simpson_Race_DI', 'Simpson_Ethnic_DI', 'Shannon_Race_DI',\n",
       "       'Shannon_Ethnic_DI', 'Gini_Index', 'County_FIPS', 'Num_Contaminants',\n",
       "       'Sum_Population_Served', 'Sum_ContaminantFactor',\n",
       "       'Min_Contaminant_Factor', 'Max_Contaminant_Factor',\n",
       "       'Avg_Contaminant_Factor'],\n",
       "      dtype='object')"
      ]
     },
     "execution_count": 41,
     "metadata": {},
     "output_type": "execute_result"
    }
   ],
   "source": [
    "df.columns"
   ]
  },
  {
   "cell_type": "code",
   "execution_count": 42,
   "metadata": {},
   "outputs": [],
   "source": [
    "df.drop(columns=['County_FIPS'], inplace=True) "
   ]
  },
  {
   "cell_type": "code",
   "execution_count": 43,
   "metadata": {},
   "outputs": [
    {
     "data": {
      "text/plain": [
       "Index(['county_FIPS', 'Geographic_Area_Name', 'County', 'GEOID',\n",
       "       'Total_Population', 'White', 'Black', 'Native', 'Asian',\n",
       "       'Pacific_Islander', 'Other', 'Two_or_more_Races', 'Hispanic',\n",
       "       'Not_Hispanic', 'Not_White', 'pct_White', 'pct_Black', 'pct_Native',\n",
       "       'pct_Asian', 'pct_Pacific_Islander', 'pct_Other', 'pct_Not_White',\n",
       "       'pct_Hispanic', 'pct_Not_Hispanic', 'pct_Two_or_more_Races',\n",
       "       'Simpson_Race_DI', 'Simpson_Ethnic_DI', 'Shannon_Race_DI',\n",
       "       'Shannon_Ethnic_DI', 'Gini_Index', 'Num_Contaminants',\n",
       "       'Sum_Population_Served', 'Sum_ContaminantFactor',\n",
       "       'Min_Contaminant_Factor', 'Max_Contaminant_Factor',\n",
       "       'Avg_Contaminant_Factor'],\n",
       "      dtype='object')"
      ]
     },
     "execution_count": 43,
     "metadata": {},
     "output_type": "execute_result"
    }
   ],
   "source": [
    "df.columns"
   ]
  },
  {
   "cell_type": "code",
   "execution_count": 44,
   "metadata": {},
   "outputs": [],
   "source": [
    "df.to_csv('demo_and_cont_outliers_removed.csv', index = False)"
   ]
  },
  {
   "cell_type": "code",
   "execution_count": null,
   "metadata": {},
   "outputs": [],
   "source": []
  }
 ],
 "metadata": {
  "interpreter": {
   "hash": "86969af4118fd2beaee010b14a97d3c8fe7dc31ff55f1528eea7eaecb45368d6"
  },
  "kernelspec": {
   "display_name": "Python 3.7.7 ('mlenv')",
   "language": "python",
   "name": "python3"
  },
  "language_info": {
   "codemirror_mode": {
    "name": "ipython",
    "version": 3
   },
   "file_extension": ".py",
   "mimetype": "text/x-python",
   "name": "python",
   "nbconvert_exporter": "python",
   "pygments_lexer": "ipython3",
   "version": "3.7.7"
  },
  "orig_nbformat": 4
 },
 "nbformat": 4,
 "nbformat_minor": 2
}
