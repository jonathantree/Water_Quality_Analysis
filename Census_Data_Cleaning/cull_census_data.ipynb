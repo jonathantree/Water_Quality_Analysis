{
 "cells": [
  {
   "cell_type": "code",
   "execution_count": 1,
   "metadata": {},
   "outputs": [],
   "source": [
    "# import necessary libraries\n",
    "import pandas as pd\n",
    "import os\n",
    "import glob"
   ]
  },
  {
   "cell_type": "code",
   "execution_count": 17,
   "metadata": {},
   "outputs": [],
   "source": [
    "# use glob to get all the csv files in the folder\n",
    "# IN order for this to work you need to download all the census files from https://www.kaggle.com/datasets/zusmani/us-census-2020\n",
    "# and put them in the same folder as this notebook. \n",
    "# Note: at the time of publication, the file for Washington state is corrupt and needs to be deleted for this script to work.\n",
    "path = os.getcwd()\n",
    "csv_files = glob.glob(os.path.join(path, \"*.csv\"))"
   ]
  },
  {
   "cell_type": "code",
   "execution_count": 18,
   "metadata": {},
   "outputs": [
    {
     "data": {
      "text/plain": [
       "49"
      ]
     },
     "execution_count": 18,
     "metadata": {},
     "output_type": "execute_result"
    }
   ],
   "source": [
    "len(csv_files)"
   ]
  },
  {
   "cell_type": "code",
   "execution_count": 22,
   "metadata": {},
   "outputs": [
    {
     "name": "stdout",
     "output_type": "stream",
     "text": [
      "/Users/jennadodge/uofo-virt-data-pt-12-2021-u-b/Census_Data_2022/Missouri_MO.csv\n",
      "/Users/jennadodge/uofo-virt-data-pt-12-2021-u-b/Census_Data_2022/Mississippi_MS.csv\n",
      "/Users/jennadodge/uofo-virt-data-pt-12-2021-u-b/Census_Data_2022/North_Dakota_ND.csv\n",
      "/Users/jennadodge/uofo-virt-data-pt-12-2021-u-b/Census_Data_2022/Colorado_CO.csv\n",
      "/Users/jennadodge/uofo-virt-data-pt-12-2021-u-b/Census_Data_2022/Ohio_OH.csv\n",
      "/Users/jennadodge/uofo-virt-data-pt-12-2021-u-b/Census_Data_2022/Wyoming_WY.csv\n",
      "/Users/jennadodge/uofo-virt-data-pt-12-2021-u-b/Census_Data_2022/Pennsylvania_PA.csv\n",
      "/Users/jennadodge/uofo-virt-data-pt-12-2021-u-b/Census_Data_2022/Nevada_NV.csv\n",
      "/Users/jennadodge/uofo-virt-data-pt-12-2021-u-b/Census_Data_2022/Massachusetts_MA.csv\n",
      "/Users/jennadodge/uofo-virt-data-pt-12-2021-u-b/Census_Data_2022/Nebraska_NE.csv\n",
      "/Users/jennadodge/uofo-virt-data-pt-12-2021-u-b/Census_Data_2022/Florida_FL.csv\n",
      "/Users/jennadodge/uofo-virt-data-pt-12-2021-u-b/Census_Data_2022/Tennessee_TN.csv\n",
      "/Users/jennadodge/uofo-virt-data-pt-12-2021-u-b/Census_Data_2022/Minnesota_MN.csv\n",
      "/Users/jennadodge/uofo-virt-data-pt-12-2021-u-b/Census_Data_2022/Michigan_MI.csv\n",
      "/Users/jennadodge/uofo-virt-data-pt-12-2021-u-b/Census_Data_2022/Arkansas_AR.csv\n",
      "/Users/jennadodge/uofo-virt-data-pt-12-2021-u-b/Census_Data_2022/New_Mexico_NM.csv\n",
      "/Users/jennadodge/uofo-virt-data-pt-12-2021-u-b/Census_Data_2022/Idaho_ID.csv\n",
      "/Users/jennadodge/uofo-virt-data-pt-12-2021-u-b/Census_Data_2022/Indiana_IN.csv\n",
      "/Users/jennadodge/uofo-virt-data-pt-12-2021-u-b/Census_Data_2022/South_Carolina_SC.csv\n",
      "/Users/jennadodge/uofo-virt-data-pt-12-2021-u-b/Census_Data_2022/West_Virginia_WV.csv\n",
      "/Users/jennadodge/uofo-virt-data-pt-12-2021-u-b/Census_Data_2022/Texas_TX.csv\n",
      "/Users/jennadodge/uofo-virt-data-pt-12-2021-u-b/Census_Data_2022/Alaska_AK.csv\n",
      "/Users/jennadodge/uofo-virt-data-pt-12-2021-u-b/Census_Data_2022/Connecticut_CT.csv\n",
      "/Users/jennadodge/uofo-virt-data-pt-12-2021-u-b/Census_Data_2022/Iowa_IA.csv\n",
      "/Users/jennadodge/uofo-virt-data-pt-12-2021-u-b/Census_Data_2022/New_Jersey_NJ.csv\n",
      "/Users/jennadodge/uofo-virt-data-pt-12-2021-u-b/Census_Data_2022/Louisiana_LA.csv\n",
      "/Users/jennadodge/uofo-virt-data-pt-12-2021-u-b/Census_Data_2022/California_CA.csv\n",
      "/Users/jennadodge/uofo-virt-data-pt-12-2021-u-b/Census_Data_2022/Hawaii_HI.csv\n",
      "/Users/jennadodge/uofo-virt-data-pt-12-2021-u-b/Census_Data_2022/Wisconsin_WI.csv\n",
      "/Users/jennadodge/uofo-virt-data-pt-12-2021-u-b/Census_Data_2022/Virginia_VA.csv\n",
      "/Users/jennadodge/uofo-virt-data-pt-12-2021-u-b/Census_Data_2022/Oregon_OR.csv\n",
      "/Users/jennadodge/uofo-virt-data-pt-12-2021-u-b/Census_Data_2022/Vermont_VT.csv\n",
      "/Users/jennadodge/uofo-virt-data-pt-12-2021-u-b/Census_Data_2022/Oklahoma_OK.csv\n",
      "/Users/jennadodge/uofo-virt-data-pt-12-2021-u-b/Census_Data_2022/Kansas_KS.csv\n",
      "/Users/jennadodge/uofo-virt-data-pt-12-2021-u-b/Census_Data_2022/Georgia_GA.csv\n",
      "/Users/jennadodge/uofo-virt-data-pt-12-2021-u-b/Census_Data_2022/North_Carolina_NC.csv\n",
      "/Users/jennadodge/uofo-virt-data-pt-12-2021-u-b/Census_Data_2022/South_Dakota_SD.csv\n",
      "/Users/jennadodge/uofo-virt-data-pt-12-2021-u-b/Census_Data_2022/Utah_UT.csv\n",
      "/Users/jennadodge/uofo-virt-data-pt-12-2021-u-b/Census_Data_2022/Maine_ME.csv\n",
      "/Users/jennadodge/uofo-virt-data-pt-12-2021-u-b/Census_Data_2022/Montana_MT.csv\n",
      "/Users/jennadodge/uofo-virt-data-pt-12-2021-u-b/Census_Data_2022/Arizona_AZ.csv\n",
      "/Users/jennadodge/uofo-virt-data-pt-12-2021-u-b/Census_Data_2022/New_York_NY.csv\n",
      "/Users/jennadodge/uofo-virt-data-pt-12-2021-u-b/Census_Data_2022/New_Hampshire_NH.csv\n",
      "/Users/jennadodge/uofo-virt-data-pt-12-2021-u-b/Census_Data_2022/Kentucky_KY.csv\n",
      "/Users/jennadodge/uofo-virt-data-pt-12-2021-u-b/Census_Data_2022/Illinois_IL.csv\n",
      "/Users/jennadodge/uofo-virt-data-pt-12-2021-u-b/Census_Data_2022/Rhode_Island_RI.csv\n",
      "/Users/jennadodge/uofo-virt-data-pt-12-2021-u-b/Census_Data_2022/Alabama_AL.csv\n",
      "/Users/jennadodge/uofo-virt-data-pt-12-2021-u-b/Census_Data_2022/Maryland_MD.csv\n",
      "/Users/jennadodge/uofo-virt-data-pt-12-2021-u-b/Census_Data_2022/Delaware_DE.csv\n"
     ]
    }
   ],
   "source": [
    "# defining an empty list to store \n",
    "# content\n",
    "data_frame = pd.DataFrame()\n",
    "content = []\n",
    "\n",
    "# checking all the csv files in the \n",
    "# specified path\n",
    "# for filename in csv_files:\n",
    "for filename in csv_files:   \n",
    "    # reading content of csv file\n",
    "    # content.append(filename)\n",
    "    print(filename)\n",
    "    df = pd.read_csv(filename, index_col=None, low_memory=False)\n",
    "    df_counties = df.loc[df[\"SUMLEV\"]==50]\n",
    "    content.append(df_counties)\n",
    "  \n",
    "# converting content to data frame\n",
    "data_frame = pd.concat(content)\n"
   ]
  },
  {
   "cell_type": "code",
   "execution_count": 23,
   "metadata": {},
   "outputs": [
    {
     "data": {
      "text/plain": [
       "(3103, 401)"
      ]
     },
     "execution_count": 23,
     "metadata": {},
     "output_type": "execute_result"
    }
   ],
   "source": [
    "data_frame.shape"
   ]
  },
  {
   "cell_type": "code",
   "execution_count": 24,
   "metadata": {},
   "outputs": [
    {
     "data": {
      "text/html": [
       "<div>\n",
       "<style scoped>\n",
       "    .dataframe tbody tr th:only-of-type {\n",
       "        vertical-align: middle;\n",
       "    }\n",
       "\n",
       "    .dataframe tbody tr th {\n",
       "        vertical-align: top;\n",
       "    }\n",
       "\n",
       "    .dataframe thead th {\n",
       "        text-align: right;\n",
       "    }\n",
       "</style>\n",
       "<table border=\"1\" class=\"dataframe\">\n",
       "  <thead>\n",
       "    <tr style=\"text-align: right;\">\n",
       "      <th></th>\n",
       "      <th>FILEID</th>\n",
       "      <th>STUSAB</th>\n",
       "      <th>SUMLEV</th>\n",
       "      <th>GEOVAR</th>\n",
       "      <th>GEOCOMP</th>\n",
       "      <th>CHARITER</th>\n",
       "      <th>CIFSN_x</th>\n",
       "      <th>LOGRECNO</th>\n",
       "      <th>GEOID</th>\n",
       "      <th>GEOCODE</th>\n",
       "      <th>...</th>\n",
       "      <th>P0050001</th>\n",
       "      <th>P0050002</th>\n",
       "      <th>P0050003</th>\n",
       "      <th>P0050004</th>\n",
       "      <th>P0050005</th>\n",
       "      <th>P0050006</th>\n",
       "      <th>P0050007</th>\n",
       "      <th>P0050008</th>\n",
       "      <th>P0050009</th>\n",
       "      <th>P0050010</th>\n",
       "    </tr>\n",
       "  </thead>\n",
       "  <tbody>\n",
       "    <tr>\n",
       "      <th>0</th>\n",
       "      <td>PLST</td>\n",
       "      <td>MO</td>\n",
       "      <td>50</td>\n",
       "      <td>00</td>\n",
       "      <td>0</td>\n",
       "      <td>0</td>\n",
       "      <td>0</td>\n",
       "      <td>2</td>\n",
       "      <td>0500000US29001</td>\n",
       "      <td>29001</td>\n",
       "      <td>...</td>\n",
       "      <td>2637</td>\n",
       "      <td>279</td>\n",
       "      <td>50</td>\n",
       "      <td>20</td>\n",
       "      <td>194</td>\n",
       "      <td>15</td>\n",
       "      <td>2358</td>\n",
       "      <td>2332</td>\n",
       "      <td>0</td>\n",
       "      <td>26</td>\n",
       "    </tr>\n",
       "    <tr>\n",
       "      <th>1</th>\n",
       "      <td>PLST</td>\n",
       "      <td>MO</td>\n",
       "      <td>50</td>\n",
       "      <td>00</td>\n",
       "      <td>0</td>\n",
       "      <td>0</td>\n",
       "      <td>0</td>\n",
       "      <td>3</td>\n",
       "      <td>0500000US29003</td>\n",
       "      <td>29003</td>\n",
       "      <td>...</td>\n",
       "      <td>129</td>\n",
       "      <td>129</td>\n",
       "      <td>0</td>\n",
       "      <td>0</td>\n",
       "      <td>129</td>\n",
       "      <td>0</td>\n",
       "      <td>0</td>\n",
       "      <td>0</td>\n",
       "      <td>0</td>\n",
       "      <td>0</td>\n",
       "    </tr>\n",
       "    <tr>\n",
       "      <th>2</th>\n",
       "      <td>PLST</td>\n",
       "      <td>MO</td>\n",
       "      <td>50</td>\n",
       "      <td>00</td>\n",
       "      <td>0</td>\n",
       "      <td>0</td>\n",
       "      <td>0</td>\n",
       "      <td>4</td>\n",
       "      <td>0500000US29005</td>\n",
       "      <td>29005</td>\n",
       "      <td>...</td>\n",
       "      <td>90</td>\n",
       "      <td>77</td>\n",
       "      <td>9</td>\n",
       "      <td>0</td>\n",
       "      <td>68</td>\n",
       "      <td>0</td>\n",
       "      <td>13</td>\n",
       "      <td>0</td>\n",
       "      <td>0</td>\n",
       "      <td>13</td>\n",
       "    </tr>\n",
       "    <tr>\n",
       "      <th>3</th>\n",
       "      <td>PLST</td>\n",
       "      <td>MO</td>\n",
       "      <td>50</td>\n",
       "      <td>00</td>\n",
       "      <td>0</td>\n",
       "      <td>0</td>\n",
       "      <td>0</td>\n",
       "      <td>5</td>\n",
       "      <td>0500000US29007</td>\n",
       "      <td>29007</td>\n",
       "      <td>...</td>\n",
       "      <td>1896</td>\n",
       "      <td>1489</td>\n",
       "      <td>1242</td>\n",
       "      <td>0</td>\n",
       "      <td>225</td>\n",
       "      <td>22</td>\n",
       "      <td>407</td>\n",
       "      <td>0</td>\n",
       "      <td>0</td>\n",
       "      <td>407</td>\n",
       "    </tr>\n",
       "    <tr>\n",
       "      <th>4</th>\n",
       "      <td>PLST</td>\n",
       "      <td>MO</td>\n",
       "      <td>50</td>\n",
       "      <td>00</td>\n",
       "      <td>0</td>\n",
       "      <td>0</td>\n",
       "      <td>0</td>\n",
       "      <td>6</td>\n",
       "      <td>0500000US29009</td>\n",
       "      <td>29009</td>\n",
       "      <td>...</td>\n",
       "      <td>236</td>\n",
       "      <td>236</td>\n",
       "      <td>44</td>\n",
       "      <td>0</td>\n",
       "      <td>192</td>\n",
       "      <td>0</td>\n",
       "      <td>0</td>\n",
       "      <td>0</td>\n",
       "      <td>0</td>\n",
       "      <td>0</td>\n",
       "    </tr>\n",
       "  </tbody>\n",
       "</table>\n",
       "<p>5 rows × 401 columns</p>\n",
       "</div>"
      ],
      "text/plain": [
       "  FILEID STUSAB  SUMLEV GEOVAR  GEOCOMP  CHARITER  CIFSN_x  LOGRECNO  \\\n",
       "0   PLST     MO      50     00        0         0        0         2   \n",
       "1   PLST     MO      50     00        0         0        0         3   \n",
       "2   PLST     MO      50     00        0         0        0         4   \n",
       "3   PLST     MO      50     00        0         0        0         5   \n",
       "4   PLST     MO      50     00        0         0        0         6   \n",
       "\n",
       "            GEOID GEOCODE  ...  P0050001  P0050002  P0050003  P0050004  \\\n",
       "0  0500000US29001   29001  ...      2637       279        50        20   \n",
       "1  0500000US29003   29003  ...       129       129         0         0   \n",
       "2  0500000US29005   29005  ...        90        77         9         0   \n",
       "3  0500000US29007   29007  ...      1896      1489      1242         0   \n",
       "4  0500000US29009   29009  ...       236       236        44         0   \n",
       "\n",
       "   P0050005 P0050006  P0050007  P0050008 P0050009  P0050010  \n",
       "0       194       15      2358      2332        0        26  \n",
       "1       129        0         0         0        0         0  \n",
       "2        68        0        13         0        0        13  \n",
       "3       225       22       407         0        0       407  \n",
       "4       192        0         0         0        0         0  \n",
       "\n",
       "[5 rows x 401 columns]"
      ]
     },
     "execution_count": 24,
     "metadata": {},
     "output_type": "execute_result"
    }
   ],
   "source": [
    "data_frame.head()"
   ]
  },
  {
   "cell_type": "code",
   "execution_count": 25,
   "metadata": {},
   "outputs": [
    {
     "data": {
      "text/plain": [
       "29001    1\n",
       "41001    1\n",
       "41053    1\n",
       "41055    1\n",
       "41057    1\n",
       "        ..\n",
       "35027    1\n",
       "35028    1\n",
       "35029    1\n",
       "35031    1\n",
       "10005    1\n",
       "Name: GEOCODE, Length: 3103, dtype: int64"
      ]
     },
     "execution_count": 25,
     "metadata": {},
     "output_type": "execute_result"
    }
   ],
   "source": [
    "data_frame[\"GEOCODE\"].value_counts()"
   ]
  },
  {
   "cell_type": "code",
   "execution_count": 27,
   "metadata": {},
   "outputs": [],
   "source": [
    "data_frame.to_csv(\"demographic_data.csv\", index=False)"
   ]
  },
  {
   "cell_type": "code",
   "execution_count": 9,
   "metadata": {},
   "outputs": [],
   "source": [
    "# col=[\"NAME\",\"GEOCODE\",\"P0010001\",\"P0010003\",\"P0010004\",\"P0010005\",\"P0010006\",\n",
    "#                 \"P0010007\",\"P0010008\",\"P0010009\",\"P0020002\",\"P0020003\"]\n",
    "\n",
    "# pop_df = data_frame.loc[:,col]"
   ]
  },
  {
   "cell_type": "code",
   "execution_count": 16,
   "metadata": {},
   "outputs": [],
   "source": [
    "#alabama_df = pd.read_csv(\"Alabama_AL.csv\", low_memory=False)"
   ]
  },
  {
   "cell_type": "code",
   "execution_count": null,
   "metadata": {},
   "outputs": [],
   "source": [
    "#alabama_df = alabama_df.loc[alabama_df[\"SUMLEV\"==\"50\"]]"
   ]
  }
 ],
 "metadata": {
  "interpreter": {
   "hash": "86969af4118fd2beaee010b14a97d3c8fe7dc31ff55f1528eea7eaecb45368d6"
  },
  "kernelspec": {
   "display_name": "Python 3.7.7 ('mlenv')",
   "language": "python",
   "name": "python3"
  },
  "language_info": {
   "codemirror_mode": {
    "name": "ipython",
    "version": 3
   },
   "file_extension": ".py",
   "mimetype": "text/x-python",
   "name": "python",
   "nbconvert_exporter": "python",
   "pygments_lexer": "ipython3",
   "version": "3.7.7"
  },
  "orig_nbformat": 4
 },
 "nbformat": 4,
 "nbformat_minor": 2
}
