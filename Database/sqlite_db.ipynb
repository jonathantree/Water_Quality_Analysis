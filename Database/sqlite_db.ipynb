{
 "cells": [
  {
   "cell_type": "code",
   "execution_count": 31,
   "id": "3aeb72f6",
   "metadata": {},
   "outputs": [],
   "source": [
    "import sqlite3\n",
    "from db_utils import db_connect\n",
    "import pandas as pd\n",
    "import os\n",
    "import csv\n"
   ]
  },
  {
   "cell_type": "code",
   "execution_count": 2,
   "id": "93cf9178",
   "metadata": {},
   "outputs": [],
   "source": [
    "con = db_connect() # connect to the database"
   ]
  },
  {
   "cell_type": "code",
   "execution_count": 3,
   "id": "61e73c3b",
   "metadata": {},
   "outputs": [],
   "source": [
    "cur = con.cursor() # instantiate a cursor obj"
   ]
  },
  {
   "cell_type": "code",
   "execution_count": 7,
   "id": "c03c060b",
   "metadata": {},
   "outputs": [],
   "source": [
    "data_dir = os.path.join('..', 'Resources', 'Data', 'Cleaned_Data')\n"
   ]
  },
  {
   "cell_type": "code",
   "execution_count": 8,
   "id": "891ad499",
   "metadata": {},
   "outputs": [],
   "source": [
    "fips_df = pd.read_csv(os.path.join(data_dir,'fips_codes.csv'))"
   ]
  },
  {
   "cell_type": "code",
   "execution_count": 9,
   "id": "d0e503ff",
   "metadata": {},
   "outputs": [
    {
     "data": {
      "text/html": [
       "<div>\n",
       "<style scoped>\n",
       "    .dataframe tbody tr th:only-of-type {\n",
       "        vertical-align: middle;\n",
       "    }\n",
       "\n",
       "    .dataframe tbody tr th {\n",
       "        vertical-align: top;\n",
       "    }\n",
       "\n",
       "    .dataframe thead th {\n",
       "        text-align: right;\n",
       "    }\n",
       "</style>\n",
       "<table border=\"1\" class=\"dataframe\">\n",
       "  <thead>\n",
       "    <tr style=\"text-align: right;\">\n",
       "      <th></th>\n",
       "      <th>fips</th>\n",
       "      <th>name</th>\n",
       "      <th>state</th>\n",
       "    </tr>\n",
       "  </thead>\n",
       "  <tbody>\n",
       "    <tr>\n",
       "      <th>0</th>\n",
       "      <td>0</td>\n",
       "      <td>UNITED STATES</td>\n",
       "      <td>NaN</td>\n",
       "    </tr>\n",
       "    <tr>\n",
       "      <th>1</th>\n",
       "      <td>1000</td>\n",
       "      <td>ALABAMA</td>\n",
       "      <td>NaN</td>\n",
       "    </tr>\n",
       "    <tr>\n",
       "      <th>2</th>\n",
       "      <td>1001</td>\n",
       "      <td>Autauga County</td>\n",
       "      <td>AL</td>\n",
       "    </tr>\n",
       "    <tr>\n",
       "      <th>3</th>\n",
       "      <td>1003</td>\n",
       "      <td>Baldwin County</td>\n",
       "      <td>AL</td>\n",
       "    </tr>\n",
       "    <tr>\n",
       "      <th>4</th>\n",
       "      <td>1005</td>\n",
       "      <td>Barbour County</td>\n",
       "      <td>AL</td>\n",
       "    </tr>\n",
       "    <tr>\n",
       "      <th>...</th>\n",
       "      <td>...</td>\n",
       "      <td>...</td>\n",
       "      <td>...</td>\n",
       "    </tr>\n",
       "    <tr>\n",
       "      <th>3190</th>\n",
       "      <td>56037</td>\n",
       "      <td>Sweetwater County</td>\n",
       "      <td>WY</td>\n",
       "    </tr>\n",
       "    <tr>\n",
       "      <th>3191</th>\n",
       "      <td>56039</td>\n",
       "      <td>Teton County</td>\n",
       "      <td>WY</td>\n",
       "    </tr>\n",
       "    <tr>\n",
       "      <th>3192</th>\n",
       "      <td>56041</td>\n",
       "      <td>Uinta County</td>\n",
       "      <td>WY</td>\n",
       "    </tr>\n",
       "    <tr>\n",
       "      <th>3193</th>\n",
       "      <td>56043</td>\n",
       "      <td>Washakie County</td>\n",
       "      <td>WY</td>\n",
       "    </tr>\n",
       "    <tr>\n",
       "      <th>3194</th>\n",
       "      <td>56045</td>\n",
       "      <td>Weston County</td>\n",
       "      <td>WY</td>\n",
       "    </tr>\n",
       "  </tbody>\n",
       "</table>\n",
       "<p>3195 rows × 3 columns</p>\n",
       "</div>"
      ],
      "text/plain": [
       "       fips               name state\n",
       "0         0      UNITED STATES   NaN\n",
       "1      1000            ALABAMA   NaN\n",
       "2      1001     Autauga County    AL\n",
       "3      1003     Baldwin County    AL\n",
       "4      1005     Barbour County    AL\n",
       "...     ...                ...   ...\n",
       "3190  56037  Sweetwater County    WY\n",
       "3191  56039       Teton County    WY\n",
       "3192  56041       Uinta County    WY\n",
       "3193  56043    Washakie County    WY\n",
       "3194  56045      Weston County    WY\n",
       "\n",
       "[3195 rows x 3 columns]"
      ]
     },
     "execution_count": 9,
     "metadata": {},
     "output_type": "execute_result"
    }
   ],
   "source": [
    "fips_df"
   ]
  },
  {
   "cell_type": "code",
   "execution_count": 15,
   "id": "ede1a2cc",
   "metadata": {},
   "outputs": [],
   "source": [
    "fips_df.to_sql('FIPS_Codes', con=con, if_exists='replace', index=False, dtype={'fips': 'INTEGER PRIMARY KEY','Name': 'TEXT NOT NULL', 'state' : 'TEXT'})"
   ]
  },
  {
   "cell_type": "code",
   "execution_count": 16,
   "id": "daf6dbc0",
   "metadata": {},
   "outputs": [
    {
     "name": "stdout",
     "output_type": "stream",
     "text": [
      "[('FIPS_Codes',)]\n"
     ]
    }
   ],
   "source": [
    "cur.execute(\"SELECT name FROM sqlite_master WHERE type='table';\")\n",
    "print(cur.fetchall())"
   ]
  },
  {
   "cell_type": "code",
   "execution_count": 17,
   "id": "e36e811c",
   "metadata": {},
   "outputs": [
    {
     "data": {
      "text/html": [
       "<div>\n",
       "<style scoped>\n",
       "    .dataframe tbody tr th:only-of-type {\n",
       "        vertical-align: middle;\n",
       "    }\n",
       "\n",
       "    .dataframe tbody tr th {\n",
       "        vertical-align: top;\n",
       "    }\n",
       "\n",
       "    .dataframe thead th {\n",
       "        text-align: right;\n",
       "    }\n",
       "</style>\n",
       "<table border=\"1\" class=\"dataframe\">\n",
       "  <thead>\n",
       "    <tr style=\"text-align: right;\">\n",
       "      <th></th>\n",
       "      <th>fips</th>\n",
       "      <th>name</th>\n",
       "      <th>state</th>\n",
       "    </tr>\n",
       "  </thead>\n",
       "  <tbody>\n",
       "    <tr>\n",
       "      <th>0</th>\n",
       "      <td>0</td>\n",
       "      <td>UNITED STATES</td>\n",
       "      <td>None</td>\n",
       "    </tr>\n",
       "    <tr>\n",
       "      <th>1</th>\n",
       "      <td>1000</td>\n",
       "      <td>ALABAMA</td>\n",
       "      <td>None</td>\n",
       "    </tr>\n",
       "    <tr>\n",
       "      <th>2</th>\n",
       "      <td>1001</td>\n",
       "      <td>Autauga County</td>\n",
       "      <td>AL</td>\n",
       "    </tr>\n",
       "    <tr>\n",
       "      <th>3</th>\n",
       "      <td>1003</td>\n",
       "      <td>Baldwin County</td>\n",
       "      <td>AL</td>\n",
       "    </tr>\n",
       "    <tr>\n",
       "      <th>4</th>\n",
       "      <td>1005</td>\n",
       "      <td>Barbour County</td>\n",
       "      <td>AL</td>\n",
       "    </tr>\n",
       "    <tr>\n",
       "      <th>...</th>\n",
       "      <td>...</td>\n",
       "      <td>...</td>\n",
       "      <td>...</td>\n",
       "    </tr>\n",
       "    <tr>\n",
       "      <th>3190</th>\n",
       "      <td>56037</td>\n",
       "      <td>Sweetwater County</td>\n",
       "      <td>WY</td>\n",
       "    </tr>\n",
       "    <tr>\n",
       "      <th>3191</th>\n",
       "      <td>56039</td>\n",
       "      <td>Teton County</td>\n",
       "      <td>WY</td>\n",
       "    </tr>\n",
       "    <tr>\n",
       "      <th>3192</th>\n",
       "      <td>56041</td>\n",
       "      <td>Uinta County</td>\n",
       "      <td>WY</td>\n",
       "    </tr>\n",
       "    <tr>\n",
       "      <th>3193</th>\n",
       "      <td>56043</td>\n",
       "      <td>Washakie County</td>\n",
       "      <td>WY</td>\n",
       "    </tr>\n",
       "    <tr>\n",
       "      <th>3194</th>\n",
       "      <td>56045</td>\n",
       "      <td>Weston County</td>\n",
       "      <td>WY</td>\n",
       "    </tr>\n",
       "  </tbody>\n",
       "</table>\n",
       "<p>3195 rows × 3 columns</p>\n",
       "</div>"
      ],
      "text/plain": [
       "       fips               name state\n",
       "0         0      UNITED STATES  None\n",
       "1      1000            ALABAMA  None\n",
       "2      1001     Autauga County    AL\n",
       "3      1003     Baldwin County    AL\n",
       "4      1005     Barbour County    AL\n",
       "...     ...                ...   ...\n",
       "3190  56037  Sweetwater County    WY\n",
       "3191  56039       Teton County    WY\n",
       "3192  56041       Uinta County    WY\n",
       "3193  56043    Washakie County    WY\n",
       "3194  56045      Weston County    WY\n",
       "\n",
       "[3195 rows x 3 columns]"
      ]
     },
     "execution_count": 17,
     "metadata": {},
     "output_type": "execute_result"
    }
   ],
   "source": [
    "pd.read_sql_query ('select * from FIPS_Codes', con)\n",
    "\n"
   ]
  },
  {
   "cell_type": "code",
   "execution_count": 34,
   "id": "2b4e0033",
   "metadata": {},
   "outputs": [
    {
     "data": {
      "text/plain": [
       "[(0, 'fips', 'INTEGER', 0, None, 1),\n",
       " (1, 'name', 'TEXT', 0, None, 0),\n",
       " (2, 'state', 'TEXT', 0, None, 0)]"
      ]
     },
     "execution_count": 34,
     "metadata": {},
     "output_type": "execute_result"
    }
   ],
   "source": [
    "columnsQuery = (\"PRAGMA table_info([FIPS_Codes])\") \n",
    "columnNames = cur.execute(columnsQuery)\n",
    "columnNames.fetchall()"
   ]
  },
  {
   "cell_type": "code",
   "execution_count": 23,
   "id": "aa607c96",
   "metadata": {},
   "outputs": [],
   "source": [
    "utilities_df = pd.read_csv(os.path.join(data_dir,'master_contaminants.csv'))"
   ]
  },
  {
   "cell_type": "code",
   "execution_count": 27,
   "id": "4c9babdd",
   "metadata": {},
   "outputs": [],
   "source": [
    "utilities_df.county_FIPS = pd.Series(utilities_df.county_FIPS, dtype=pd.Int64Dtype())\n"
   ]
  },
  {
   "cell_type": "code",
   "execution_count": 30,
   "id": "db0db901",
   "metadata": {},
   "outputs": [
    {
     "data": {
      "text/plain": [
       "Utility               object\n",
       "Contaminant_Factor     int64\n",
       "Zip                    int64\n",
       "county_FIPS            Int64\n",
       "dtype: object"
      ]
     },
     "execution_count": 30,
     "metadata": {},
     "output_type": "execute_result"
    }
   ],
   "source": [
    "utilities_df.dtypes"
   ]
  },
  {
   "cell_type": "code",
   "execution_count": 29,
   "id": "4a81fd9f",
   "metadata": {},
   "outputs": [
    {
     "data": {
      "text/plain": [
       "Index(['Utility', 'Contaminant_Factor', 'Zip', 'county_FIPS'], dtype='object')"
      ]
     },
     "execution_count": 29,
     "metadata": {},
     "output_type": "execute_result"
    }
   ],
   "source": [
    "utilities_df.columns"
   ]
  },
  {
   "cell_type": "code",
   "execution_count": 36,
   "id": "a657c5db",
   "metadata": {},
   "outputs": [],
   "source": [
    "create_utils_sql = '''\n",
    "    CREATE TABLE Utilities (\n",
    "    Utility TEXT NOT NULL, \n",
    "    Contaminant_Factor INTEGER NOT NULL, \n",
    "    Zip INTEGER NOT NULL, \n",
    "    county_FIPS INTEGER NOT NULL,\n",
    "    FOREIGN KEY (county_FIPS)\n",
    "       REFERENCES FIPS_Codes (fips) \n",
    ");\n",
    "'''"
   ]
  },
  {
   "cell_type": "code",
   "execution_count": 37,
   "id": "90b4b365",
   "metadata": {},
   "outputs": [
    {
     "data": {
      "text/plain": [
       "<sqlite3.Cursor at 0x296c033f030>"
      ]
     },
     "execution_count": 37,
     "metadata": {},
     "output_type": "execute_result"
    }
   ],
   "source": [
    "cur.execute(create_utils_sql)"
   ]
  },
  {
   "cell_type": "code",
   "execution_count": 38,
   "id": "762b9887",
   "metadata": {},
   "outputs": [
    {
     "name": "stdout",
     "output_type": "stream",
     "text": [
      "[('FIPS_Codes',), ('Utilities',)]\n"
     ]
    }
   ],
   "source": [
    "cur.execute(\"SELECT name FROM sqlite_master WHERE type='table';\")\n",
    "print(cur.fetchall())"
   ]
  },
  {
   "cell_type": "code",
   "execution_count": 44,
   "id": "1c6afc51",
   "metadata": {},
   "outputs": [
    {
     "data": {
      "text/plain": [
       "<sqlite3.Cursor at 0x296c033f030>"
      ]
     },
     "execution_count": 44,
     "metadata": {},
     "output_type": "execute_result"
    }
   ],
   "source": [
    "file = open(os.path.join(data_dir,'master_contaminants_noheader.csv'))\n",
    "rows = csv.reader(file)\n",
    "cur.executemany(\"INSERT INTO Utilities VALUES (?, ?, ?, ?)\", rows)"
   ]
  },
  {
   "cell_type": "code",
   "execution_count": 41,
   "id": "3d420878",
   "metadata": {},
   "outputs": [],
   "source": [
    "move_util_data_sql = '''\n",
    "    .mode csv\n",
    "    .import c:/Users/jonat/UO_Bootcamp/Group_project/git_Water_Quality_Analysis/Water_Quality_Analysis/Resources/Data/Cleaned_Data/master_contaminants_noheader.csv\n",
    "'''"
   ]
  },
  {
   "cell_type": "code",
   "execution_count": 42,
   "id": "e488f15c",
   "metadata": {},
   "outputs": [
    {
     "ename": "OperationalError",
     "evalue": "near \".\": syntax error",
     "output_type": "error",
     "traceback": [
      "\u001b[1;31m---------------------------------------------------------------------------\u001b[0m",
      "\u001b[1;31mOperationalError\u001b[0m                          Traceback (most recent call last)",
      "\u001b[1;32m~\\AppData\\Local\\Temp\\ipykernel_20476\\3631225894.py\u001b[0m in \u001b[0;36m<module>\u001b[1;34m\u001b[0m\n\u001b[1;32m----> 1\u001b[1;33m \u001b[0mcur\u001b[0m\u001b[1;33m.\u001b[0m\u001b[0mexecute\u001b[0m\u001b[1;33m(\u001b[0m\u001b[0mmove_util_data_sql\u001b[0m\u001b[1;33m)\u001b[0m\u001b[1;33m\u001b[0m\u001b[1;33m\u001b[0m\u001b[0m\n\u001b[0m",
      "\u001b[1;31mOperationalError\u001b[0m: near \".\": syntax error"
     ]
    }
   ],
   "source": [
    "cur.execute(move_util_data_sql)"
   ]
  },
  {
   "cell_type": "code",
   "execution_count": null,
   "id": "127b027f",
   "metadata": {},
   "outputs": [],
   "source": []
  }
 ],
 "metadata": {
  "kernelspec": {
   "display_name": "PythonData",
   "language": "python",
   "name": "pythondata"
  },
  "language_info": {
   "codemirror_mode": {
    "name": "ipython",
    "version": 3
   },
   "file_extension": ".py",
   "mimetype": "text/x-python",
   "name": "python",
   "nbconvert_exporter": "python",
   "pygments_lexer": "ipython3",
   "version": "3.7.12"
  }
 },
 "nbformat": 4,
 "nbformat_minor": 5
}
